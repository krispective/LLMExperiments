{
 "cells": [
  {
   "cell_type": "code",
   "execution_count": 2,
   "id": "ef1e2d31-c5cb-43b8-a69e-1e133eee3d23",
   "metadata": {
    "collapsed": true,
    "jupyter": {
     "outputs_hidden": true
    },
    "scrolled": true
   },
   "outputs": [
    {
     "name": "stdout",
     "output_type": "stream",
     "text": [
      "Collecting langchain\n",
      "  Using cached langchain-0.3.19-py3-none-any.whl.metadata (7.9 kB)\n",
      "Collecting langchain-core<1.0.0,>=0.3.35 (from langchain)\n",
      "  Using cached langchain_core-0.3.40-py3-none-any.whl.metadata (5.9 kB)\n",
      "Collecting langchain-text-splitters<1.0.0,>=0.3.6 (from langchain)\n",
      "  Using cached langchain_text_splitters-0.3.6-py3-none-any.whl.metadata (1.9 kB)\n",
      "Collecting langsmith<0.4,>=0.1.17 (from langchain)\n",
      "  Using cached langsmith-0.3.11-py3-none-any.whl.metadata (14 kB)\n",
      "Requirement already satisfied: pydantic<3.0.0,>=2.7.4 in c:\\users\\krishnafractalgenai\\anaconda3\\lib\\site-packages (from langchain) (2.10.6)\n",
      "Requirement already satisfied: SQLAlchemy<3,>=1.4 in c:\\users\\krishnafractalgenai\\anaconda3\\lib\\site-packages (from langchain) (2.0.34)\n",
      "Requirement already satisfied: requests<3,>=2 in c:\\users\\krishnafractalgenai\\anaconda3\\lib\\site-packages (from langchain) (2.32.3)\n",
      "Requirement already satisfied: PyYAML>=5.3 in c:\\users\\krishnafractalgenai\\anaconda3\\lib\\site-packages (from langchain) (6.0.1)\n",
      "Requirement already satisfied: aiohttp<4.0.0,>=3.8.3 in c:\\users\\krishnafractalgenai\\anaconda3\\lib\\site-packages (from langchain) (3.10.5)\n",
      "Requirement already satisfied: tenacity!=8.4.0,<10,>=8.1.0 in c:\\users\\krishnafractalgenai\\anaconda3\\lib\\site-packages (from langchain) (8.2.3)\n",
      "Requirement already satisfied: numpy<3,>=1.26.2 in c:\\users\\krishnafractalgenai\\anaconda3\\lib\\site-packages (from langchain) (1.26.4)\n",
      "Requirement already satisfied: aiohappyeyeballs>=2.3.0 in c:\\users\\krishnafractalgenai\\anaconda3\\lib\\site-packages (from aiohttp<4.0.0,>=3.8.3->langchain) (2.4.0)\n",
      "Requirement already satisfied: aiosignal>=1.1.2 in c:\\users\\krishnafractalgenai\\anaconda3\\lib\\site-packages (from aiohttp<4.0.0,>=3.8.3->langchain) (1.2.0)\n",
      "Requirement already satisfied: attrs>=17.3.0 in c:\\users\\krishnafractalgenai\\anaconda3\\lib\\site-packages (from aiohttp<4.0.0,>=3.8.3->langchain) (23.1.0)\n",
      "Requirement already satisfied: frozenlist>=1.1.1 in c:\\users\\krishnafractalgenai\\anaconda3\\lib\\site-packages (from aiohttp<4.0.0,>=3.8.3->langchain) (1.4.0)\n",
      "Requirement already satisfied: multidict<7.0,>=4.5 in c:\\users\\krishnafractalgenai\\anaconda3\\lib\\site-packages (from aiohttp<4.0.0,>=3.8.3->langchain) (6.0.4)\n",
      "Requirement already satisfied: yarl<2.0,>=1.0 in c:\\users\\krishnafractalgenai\\anaconda3\\lib\\site-packages (from aiohttp<4.0.0,>=3.8.3->langchain) (1.11.0)\n",
      "Requirement already satisfied: jsonpatch<2.0,>=1.33 in c:\\users\\krishnafractalgenai\\anaconda3\\lib\\site-packages (from langchain-core<1.0.0,>=0.3.35->langchain) (1.33)\n",
      "Requirement already satisfied: packaging<25,>=23.2 in c:\\users\\krishnafractalgenai\\anaconda3\\lib\\site-packages (from langchain-core<1.0.0,>=0.3.35->langchain) (24.1)\n",
      "Requirement already satisfied: typing-extensions>=4.7 in c:\\users\\krishnafractalgenai\\anaconda3\\lib\\site-packages (from langchain-core<1.0.0,>=0.3.35->langchain) (4.12.2)\n",
      "Requirement already satisfied: httpx<1,>=0.23.0 in c:\\users\\krishnafractalgenai\\anaconda3\\lib\\site-packages (from langsmith<0.4,>=0.1.17->langchain) (0.27.0)\n",
      "Collecting orjson<4.0.0,>=3.9.14 (from langsmith<0.4,>=0.1.17->langchain)\n",
      "  Downloading orjson-3.10.15-cp312-cp312-win_amd64.whl.metadata (42 kB)\n",
      "Requirement already satisfied: requests-toolbelt<2.0.0,>=1.0.0 in c:\\users\\krishnafractalgenai\\anaconda3\\lib\\site-packages (from langsmith<0.4,>=0.1.17->langchain) (1.0.0)\n",
      "Requirement already satisfied: zstandard<0.24.0,>=0.23.0 in c:\\users\\krishnafractalgenai\\anaconda3\\lib\\site-packages (from langsmith<0.4,>=0.1.17->langchain) (0.23.0)\n",
      "Requirement already satisfied: annotated-types>=0.6.0 in c:\\users\\krishnafractalgenai\\anaconda3\\lib\\site-packages (from pydantic<3.0.0,>=2.7.4->langchain) (0.6.0)\n",
      "Requirement already satisfied: pydantic-core==2.27.2 in c:\\users\\krishnafractalgenai\\anaconda3\\lib\\site-packages (from pydantic<3.0.0,>=2.7.4->langchain) (2.27.2)\n",
      "Requirement already satisfied: charset-normalizer<4,>=2 in c:\\users\\krishnafractalgenai\\anaconda3\\lib\\site-packages (from requests<3,>=2->langchain) (3.3.2)\n",
      "Requirement already satisfied: idna<4,>=2.5 in c:\\users\\krishnafractalgenai\\anaconda3\\lib\\site-packages (from requests<3,>=2->langchain) (3.7)\n",
      "Requirement already satisfied: urllib3<3,>=1.21.1 in c:\\users\\krishnafractalgenai\\anaconda3\\lib\\site-packages (from requests<3,>=2->langchain) (2.2.3)\n",
      "Requirement already satisfied: certifi>=2017.4.17 in c:\\users\\krishnafractalgenai\\anaconda3\\lib\\site-packages (from requests<3,>=2->langchain) (2025.1.31)\n",
      "Requirement already satisfied: greenlet!=0.4.17 in c:\\users\\krishnafractalgenai\\anaconda3\\lib\\site-packages (from SQLAlchemy<3,>=1.4->langchain) (3.0.1)\n",
      "Requirement already satisfied: anyio in c:\\users\\krishnafractalgenai\\anaconda3\\lib\\site-packages (from httpx<1,>=0.23.0->langsmith<0.4,>=0.1.17->langchain) (4.2.0)\n",
      "Requirement already satisfied: httpcore==1.* in c:\\users\\krishnafractalgenai\\anaconda3\\lib\\site-packages (from httpx<1,>=0.23.0->langsmith<0.4,>=0.1.17->langchain) (1.0.2)\n",
      "Requirement already satisfied: sniffio in c:\\users\\krishnafractalgenai\\anaconda3\\lib\\site-packages (from httpx<1,>=0.23.0->langsmith<0.4,>=0.1.17->langchain) (1.3.0)\n",
      "Requirement already satisfied: h11<0.15,>=0.13 in c:\\users\\krishnafractalgenai\\anaconda3\\lib\\site-packages (from httpcore==1.*->httpx<1,>=0.23.0->langsmith<0.4,>=0.1.17->langchain) (0.14.0)\n",
      "Requirement already satisfied: jsonpointer>=1.9 in c:\\users\\krishnafractalgenai\\anaconda3\\lib\\site-packages (from jsonpatch<2.0,>=1.33->langchain-core<1.0.0,>=0.3.35->langchain) (2.1)\n",
      "Using cached langchain-0.3.19-py3-none-any.whl (1.0 MB)\n",
      "Using cached langchain_core-0.3.40-py3-none-any.whl (414 kB)\n",
      "Using cached langchain_text_splitters-0.3.6-py3-none-any.whl (31 kB)\n",
      "Using cached langsmith-0.3.11-py3-none-any.whl (335 kB)\n",
      "Downloading orjson-3.10.15-cp312-cp312-win_amd64.whl (133 kB)\n",
      "Installing collected packages: orjson, langsmith, langchain-core, langchain-text-splitters, langchain\n",
      "Successfully installed langchain-0.3.19 langchain-core-0.3.40 langchain-text-splitters-0.3.6 langsmith-0.3.11 orjson-3.10.15\n",
      "Collecting sentence_transformers\n",
      "  Downloading sentence_transformers-3.4.1-py3-none-any.whl.metadata (10 kB)\n",
      "Collecting transformers<5.0.0,>=4.41.0 (from sentence_transformers)\n",
      "  Downloading transformers-4.49.0-py3-none-any.whl.metadata (44 kB)\n",
      "Requirement already satisfied: tqdm in c:\\users\\krishnafractalgenai\\anaconda3\\lib\\site-packages (from sentence_transformers) (4.66.5)\n",
      "Collecting torch>=1.11.0 (from sentence_transformers)\n",
      "  Downloading torch-2.6.0-cp312-cp312-win_amd64.whl.metadata (28 kB)\n",
      "Requirement already satisfied: scikit-learn in c:\\users\\krishnafractalgenai\\anaconda3\\lib\\site-packages (from sentence_transformers) (1.5.1)\n",
      "Requirement already satisfied: scipy in c:\\users\\krishnafractalgenai\\anaconda3\\lib\\site-packages (from sentence_transformers) (1.13.1)\n",
      "Collecting huggingface-hub>=0.20.0 (from sentence_transformers)\n",
      "  Downloading huggingface_hub-0.29.1-py3-none-any.whl.metadata (13 kB)\n",
      "Requirement already satisfied: Pillow in c:\\users\\krishnafractalgenai\\anaconda3\\lib\\site-packages (from sentence_transformers) (10.4.0)\n",
      "Requirement already satisfied: filelock in c:\\users\\krishnafractalgenai\\anaconda3\\lib\\site-packages (from huggingface-hub>=0.20.0->sentence_transformers) (3.13.1)\n",
      "Requirement already satisfied: fsspec>=2023.5.0 in c:\\users\\krishnafractalgenai\\anaconda3\\lib\\site-packages (from huggingface-hub>=0.20.0->sentence_transformers) (2024.6.1)\n",
      "Requirement already satisfied: packaging>=20.9 in c:\\users\\krishnafractalgenai\\anaconda3\\lib\\site-packages (from huggingface-hub>=0.20.0->sentence_transformers) (24.1)\n",
      "Requirement already satisfied: pyyaml>=5.1 in c:\\users\\krishnafractalgenai\\anaconda3\\lib\\site-packages (from huggingface-hub>=0.20.0->sentence_transformers) (6.0.1)\n",
      "Requirement already satisfied: requests in c:\\users\\krishnafractalgenai\\anaconda3\\lib\\site-packages (from huggingface-hub>=0.20.0->sentence_transformers) (2.32.3)\n",
      "Requirement already satisfied: typing-extensions>=3.7.4.3 in c:\\users\\krishnafractalgenai\\anaconda3\\lib\\site-packages (from huggingface-hub>=0.20.0->sentence_transformers) (4.12.2)\n",
      "Requirement already satisfied: networkx in c:\\users\\krishnafractalgenai\\anaconda3\\lib\\site-packages (from torch>=1.11.0->sentence_transformers) (3.3)\n",
      "Requirement already satisfied: jinja2 in c:\\users\\krishnafractalgenai\\anaconda3\\lib\\site-packages (from torch>=1.11.0->sentence_transformers) (3.1.4)\n",
      "Requirement already satisfied: setuptools in c:\\users\\krishnafractalgenai\\anaconda3\\lib\\site-packages (from torch>=1.11.0->sentence_transformers) (75.1.0)\n",
      "Collecting sympy==1.13.1 (from torch>=1.11.0->sentence_transformers)\n",
      "  Downloading sympy-1.13.1-py3-none-any.whl.metadata (12 kB)\n",
      "Requirement already satisfied: mpmath<1.4,>=1.1.0 in c:\\users\\krishnafractalgenai\\anaconda3\\lib\\site-packages (from sympy==1.13.1->torch>=1.11.0->sentence_transformers) (1.3.0)\n",
      "Requirement already satisfied: colorama in c:\\users\\krishnafractalgenai\\anaconda3\\lib\\site-packages (from tqdm->sentence_transformers) (0.4.6)\n",
      "Requirement already satisfied: numpy>=1.17 in c:\\users\\krishnafractalgenai\\anaconda3\\lib\\site-packages (from transformers<5.0.0,>=4.41.0->sentence_transformers) (1.26.4)\n",
      "Requirement already satisfied: regex!=2019.12.17 in c:\\users\\krishnafractalgenai\\anaconda3\\lib\\site-packages (from transformers<5.0.0,>=4.41.0->sentence_transformers) (2024.9.11)\n",
      "Collecting tokenizers<0.22,>=0.21 (from transformers<5.0.0,>=4.41.0->sentence_transformers)\n",
      "  Downloading tokenizers-0.21.0-cp39-abi3-win_amd64.whl.metadata (6.9 kB)\n",
      "Collecting safetensors>=0.4.1 (from transformers<5.0.0,>=4.41.0->sentence_transformers)\n",
      "  Downloading safetensors-0.5.3-cp38-abi3-win_amd64.whl.metadata (3.9 kB)\n",
      "Requirement already satisfied: joblib>=1.2.0 in c:\\users\\krishnafractalgenai\\anaconda3\\lib\\site-packages (from scikit-learn->sentence_transformers) (1.4.2)\n",
      "Requirement already satisfied: threadpoolctl>=3.1.0 in c:\\users\\krishnafractalgenai\\anaconda3\\lib\\site-packages (from scikit-learn->sentence_transformers) (3.5.0)\n",
      "Requirement already satisfied: MarkupSafe>=2.0 in c:\\users\\krishnafractalgenai\\anaconda3\\lib\\site-packages (from jinja2->torch>=1.11.0->sentence_transformers) (2.1.3)\n",
      "Requirement already satisfied: charset-normalizer<4,>=2 in c:\\users\\krishnafractalgenai\\anaconda3\\lib\\site-packages (from requests->huggingface-hub>=0.20.0->sentence_transformers) (3.3.2)\n",
      "Requirement already satisfied: idna<4,>=2.5 in c:\\users\\krishnafractalgenai\\anaconda3\\lib\\site-packages (from requests->huggingface-hub>=0.20.0->sentence_transformers) (3.7)\n",
      "Requirement already satisfied: urllib3<3,>=1.21.1 in c:\\users\\krishnafractalgenai\\anaconda3\\lib\\site-packages (from requests->huggingface-hub>=0.20.0->sentence_transformers) (2.2.3)\n",
      "Requirement already satisfied: certifi>=2017.4.17 in c:\\users\\krishnafractalgenai\\anaconda3\\lib\\site-packages (from requests->huggingface-hub>=0.20.0->sentence_transformers) (2025.1.31)\n",
      "Downloading sentence_transformers-3.4.1-py3-none-any.whl (275 kB)\n",
      "Downloading huggingface_hub-0.29.1-py3-none-any.whl (468 kB)\n",
      "Downloading torch-2.6.0-cp312-cp312-win_amd64.whl (204.1 MB)\n",
      "   ---------------------------------------- 0.0/204.1 MB ? eta -:--:--\n",
      "   ----------- --------------------------- 61.9/204.1 MB 303.5 MB/s eta 0:00:01\n",
      "   ---------------------- --------------- 118.5/204.1 MB 291.2 MB/s eta 0:00:01\n",
      "   ------------------------------- ------ 169.9/204.1 MB 278.5 MB/s eta 0:00:01\n",
      "   -------------------------------------  203.9/204.1 MB 265.9 MB/s eta 0:00:01\n",
      "   -------------------------------------  203.9/204.1 MB 265.9 MB/s eta 0:00:01\n",
      "   -------------------------------------  203.9/204.1 MB 265.9 MB/s eta 0:00:01\n",
      "   -------------------------------------  203.9/204.1 MB 265.9 MB/s eta 0:00:01\n",
      "   -------------------------------------  203.9/204.1 MB 265.9 MB/s eta 0:00:01\n",
      "   -------------------------------------  203.9/204.1 MB 265.9 MB/s eta 0:00:01\n",
      "   -------------------------------------  203.9/204.1 MB 265.9 MB/s eta 0:00:01\n",
      "   -------------------------------------  203.9/204.1 MB 265.9 MB/s eta 0:00:01\n",
      "   -------------------------------------  203.9/204.1 MB 265.9 MB/s eta 0:00:01\n",
      "   -------------------------------------  203.9/204.1 MB 265.9 MB/s eta 0:00:01\n",
      "   -------------------------------------  203.9/204.1 MB 265.9 MB/s eta 0:00:01\n",
      "   -------------------------------------  203.9/204.1 MB 265.9 MB/s eta 0:00:01\n",
      "   -------------------------------------  203.9/204.1 MB 265.9 MB/s eta 0:00:01\n",
      "   -------------------------------------  203.9/204.1 MB 265.9 MB/s eta 0:00:01\n",
      "   -------------------------------------  203.9/204.1 MB 265.9 MB/s eta 0:00:01\n",
      "   -------------------------------------  203.9/204.1 MB 265.9 MB/s eta 0:00:01\n",
      "   -------------------------------------  203.9/204.1 MB 265.9 MB/s eta 0:00:01\n",
      "   -------------------------------------  203.9/204.1 MB 265.9 MB/s eta 0:00:01\n",
      "   -------------------------------------  203.9/204.1 MB 265.9 MB/s eta 0:00:01\n",
      "   -------------------------------------  203.9/204.1 MB 265.9 MB/s eta 0:00:01\n",
      "   -------------------------------------  203.9/204.1 MB 265.9 MB/s eta 0:00:01\n",
      "   -------------------------------------  203.9/204.1 MB 265.9 MB/s eta 0:00:01\n",
      "   -------------------------------------  203.9/204.1 MB 265.9 MB/s eta 0:00:01\n",
      "   -------------------------------------  203.9/204.1 MB 265.9 MB/s eta 0:00:01\n",
      "   -------------------------------------  203.9/204.1 MB 265.9 MB/s eta 0:00:01\n",
      "   -------------------------------------  203.9/204.1 MB 265.9 MB/s eta 0:00:01\n",
      "   -------------------------------------  203.9/204.1 MB 265.9 MB/s eta 0:00:01\n",
      "   -------------------------------------  203.9/204.1 MB 265.9 MB/s eta 0:00:01\n",
      "   -------------------------------------  203.9/204.1 MB 265.9 MB/s eta 0:00:01\n",
      "   -------------------------------------  203.9/204.1 MB 265.9 MB/s eta 0:00:01\n",
      "   -------------------------------------  203.9/204.1 MB 265.9 MB/s eta 0:00:01\n",
      "   -------------------------------------  203.9/204.1 MB 265.9 MB/s eta 0:00:01\n",
      "   -------------------------------------  203.9/204.1 MB 265.9 MB/s eta 0:00:01\n",
      "   --------------------------------------- 204.1/204.1 MB 26.7 MB/s eta 0:00:00\n",
      "Downloading sympy-1.13.1-py3-none-any.whl (6.2 MB)\n",
      "   ---------------------------------------- 0.0/6.2 MB ? eta -:--:--\n",
      "   -------------------------------------- - 6.0/6.2 MB 384.5 MB/s eta 0:00:01\n",
      "   ---------------------------------------- 6.2/6.2 MB 20.0 MB/s eta 0:00:00\n",
      "Downloading transformers-4.49.0-py3-none-any.whl (10.0 MB)\n",
      "   ---------------------------------------- 0.0/10.0 MB ? eta -:--:--\n",
      "   ---------------------------------------- 10.0/10.0 MB 124.5 MB/s eta 0:00:00\n",
      "Downloading safetensors-0.5.3-cp38-abi3-win_amd64.whl (308 kB)\n",
      "Downloading tokenizers-0.21.0-cp39-abi3-win_amd64.whl (2.4 MB)\n",
      "   ---------------------------------------- 0.0/2.4 MB ? eta -:--:--\n",
      "   ---------------------------------------- 2.4/2.4 MB 68.6 MB/s eta 0:00:00\n",
      "Installing collected packages: sympy, safetensors, torch, huggingface-hub, tokenizers, transformers, sentence_transformers\n",
      "  Attempting uninstall: sympy\n",
      "    Found existing installation: sympy 1.13.2\n",
      "    Uninstalling sympy-1.13.2:\n",
      "      Successfully uninstalled sympy-1.13.2\n",
      "Successfully installed huggingface-hub-0.29.1 safetensors-0.5.3 sentence_transformers-3.4.1 sympy-1.13.1 tokenizers-0.21.0 torch-2.6.0 transformers-4.49.0\n"
     ]
    }
   ],
   "source": [
    "!pip install langchain\n",
    "!pip install sentence_transformers"
   ]
  },
  {
   "cell_type": "code",
   "execution_count": 4,
   "id": "394b3a53-7d63-4fc9-8196-4fba721a4ecb",
   "metadata": {
    "collapsed": true,
    "jupyter": {
     "outputs_hidden": true
    }
   },
   "outputs": [
    {
     "name": "stdout",
     "output_type": "stream",
     "text": [
      "Collecting langchain_community\n",
      "  Using cached langchain_community-0.3.18-py3-none-any.whl.metadata (2.4 kB)\n",
      "Requirement already satisfied: langchain-core<1.0.0,>=0.3.37 in c:\\users\\krishnafractalgenai\\anaconda3\\lib\\site-packages (from langchain_community) (0.3.40)\n",
      "Requirement already satisfied: langchain<1.0.0,>=0.3.19 in c:\\users\\krishnafractalgenai\\anaconda3\\lib\\site-packages (from langchain_community) (0.3.19)\n",
      "Requirement already satisfied: SQLAlchemy<3,>=1.4 in c:\\users\\krishnafractalgenai\\anaconda3\\lib\\site-packages (from langchain_community) (2.0.34)\n",
      "Requirement already satisfied: requests<3,>=2 in c:\\users\\krishnafractalgenai\\anaconda3\\lib\\site-packages (from langchain_community) (2.32.3)\n",
      "Requirement already satisfied: PyYAML>=5.3 in c:\\users\\krishnafractalgenai\\anaconda3\\lib\\site-packages (from langchain_community) (6.0.1)\n",
      "Requirement already satisfied: aiohttp<4.0.0,>=3.8.3 in c:\\users\\krishnafractalgenai\\anaconda3\\lib\\site-packages (from langchain_community) (3.10.5)\n",
      "Requirement already satisfied: tenacity!=8.4.0,<10,>=8.1.0 in c:\\users\\krishnafractalgenai\\anaconda3\\lib\\site-packages (from langchain_community) (8.2.3)\n",
      "Collecting dataclasses-json<0.7,>=0.5.7 (from langchain_community)\n",
      "  Using cached dataclasses_json-0.6.7-py3-none-any.whl.metadata (25 kB)\n",
      "Collecting pydantic-settings<3.0.0,>=2.4.0 (from langchain_community)\n",
      "  Using cached pydantic_settings-2.8.1-py3-none-any.whl.metadata (3.5 kB)\n",
      "Requirement already satisfied: langsmith<0.4,>=0.1.125 in c:\\users\\krishnafractalgenai\\anaconda3\\lib\\site-packages (from langchain_community) (0.3.11)\n",
      "Collecting httpx-sse<1.0.0,>=0.4.0 (from langchain_community)\n",
      "  Using cached httpx_sse-0.4.0-py3-none-any.whl.metadata (9.0 kB)\n",
      "Requirement already satisfied: numpy<3,>=1.26.2 in c:\\users\\krishnafractalgenai\\anaconda3\\lib\\site-packages (from langchain_community) (1.26.4)\n",
      "Requirement already satisfied: aiohappyeyeballs>=2.3.0 in c:\\users\\krishnafractalgenai\\anaconda3\\lib\\site-packages (from aiohttp<4.0.0,>=3.8.3->langchain_community) (2.4.0)\n",
      "Requirement already satisfied: aiosignal>=1.1.2 in c:\\users\\krishnafractalgenai\\anaconda3\\lib\\site-packages (from aiohttp<4.0.0,>=3.8.3->langchain_community) (1.2.0)\n",
      "Requirement already satisfied: attrs>=17.3.0 in c:\\users\\krishnafractalgenai\\anaconda3\\lib\\site-packages (from aiohttp<4.0.0,>=3.8.3->langchain_community) (23.1.0)\n",
      "Requirement already satisfied: frozenlist>=1.1.1 in c:\\users\\krishnafractalgenai\\anaconda3\\lib\\site-packages (from aiohttp<4.0.0,>=3.8.3->langchain_community) (1.4.0)\n",
      "Requirement already satisfied: multidict<7.0,>=4.5 in c:\\users\\krishnafractalgenai\\anaconda3\\lib\\site-packages (from aiohttp<4.0.0,>=3.8.3->langchain_community) (6.0.4)\n",
      "Requirement already satisfied: yarl<2.0,>=1.0 in c:\\users\\krishnafractalgenai\\anaconda3\\lib\\site-packages (from aiohttp<4.0.0,>=3.8.3->langchain_community) (1.11.0)\n",
      "Collecting marshmallow<4.0.0,>=3.18.0 (from dataclasses-json<0.7,>=0.5.7->langchain_community)\n",
      "  Using cached marshmallow-3.26.1-py3-none-any.whl.metadata (7.3 kB)\n",
      "Collecting typing-inspect<1,>=0.4.0 (from dataclasses-json<0.7,>=0.5.7->langchain_community)\n",
      "  Using cached typing_inspect-0.9.0-py3-none-any.whl.metadata (1.5 kB)\n",
      "Requirement already satisfied: langchain-text-splitters<1.0.0,>=0.3.6 in c:\\users\\krishnafractalgenai\\anaconda3\\lib\\site-packages (from langchain<1.0.0,>=0.3.19->langchain_community) (0.3.6)\n",
      "Requirement already satisfied: pydantic<3.0.0,>=2.7.4 in c:\\users\\krishnafractalgenai\\anaconda3\\lib\\site-packages (from langchain<1.0.0,>=0.3.19->langchain_community) (2.10.6)\n",
      "Requirement already satisfied: jsonpatch<2.0,>=1.33 in c:\\users\\krishnafractalgenai\\anaconda3\\lib\\site-packages (from langchain-core<1.0.0,>=0.3.37->langchain_community) (1.33)\n",
      "Requirement already satisfied: packaging<25,>=23.2 in c:\\users\\krishnafractalgenai\\anaconda3\\lib\\site-packages (from langchain-core<1.0.0,>=0.3.37->langchain_community) (24.1)\n",
      "Requirement already satisfied: typing-extensions>=4.7 in c:\\users\\krishnafractalgenai\\anaconda3\\lib\\site-packages (from langchain-core<1.0.0,>=0.3.37->langchain_community) (4.12.2)\n",
      "Requirement already satisfied: httpx<1,>=0.23.0 in c:\\users\\krishnafractalgenai\\anaconda3\\lib\\site-packages (from langsmith<0.4,>=0.1.125->langchain_community) (0.27.0)\n",
      "Requirement already satisfied: orjson<4.0.0,>=3.9.14 in c:\\users\\krishnafractalgenai\\anaconda3\\lib\\site-packages (from langsmith<0.4,>=0.1.125->langchain_community) (3.10.15)\n",
      "Requirement already satisfied: requests-toolbelt<2.0.0,>=1.0.0 in c:\\users\\krishnafractalgenai\\anaconda3\\lib\\site-packages (from langsmith<0.4,>=0.1.125->langchain_community) (1.0.0)\n",
      "Requirement already satisfied: zstandard<0.24.0,>=0.23.0 in c:\\users\\krishnafractalgenai\\anaconda3\\lib\\site-packages (from langsmith<0.4,>=0.1.125->langchain_community) (0.23.0)\n",
      "Requirement already satisfied: python-dotenv>=0.21.0 in c:\\users\\krishnafractalgenai\\anaconda3\\lib\\site-packages (from pydantic-settings<3.0.0,>=2.4.0->langchain_community) (0.21.0)\n",
      "Requirement already satisfied: charset-normalizer<4,>=2 in c:\\users\\krishnafractalgenai\\anaconda3\\lib\\site-packages (from requests<3,>=2->langchain_community) (3.3.2)\n",
      "Requirement already satisfied: idna<4,>=2.5 in c:\\users\\krishnafractalgenai\\anaconda3\\lib\\site-packages (from requests<3,>=2->langchain_community) (3.7)\n",
      "Requirement already satisfied: urllib3<3,>=1.21.1 in c:\\users\\krishnafractalgenai\\anaconda3\\lib\\site-packages (from requests<3,>=2->langchain_community) (2.2.3)\n",
      "Requirement already satisfied: certifi>=2017.4.17 in c:\\users\\krishnafractalgenai\\anaconda3\\lib\\site-packages (from requests<3,>=2->langchain_community) (2025.1.31)\n",
      "Requirement already satisfied: greenlet!=0.4.17 in c:\\users\\krishnafractalgenai\\anaconda3\\lib\\site-packages (from SQLAlchemy<3,>=1.4->langchain_community) (3.0.1)\n",
      "Requirement already satisfied: anyio in c:\\users\\krishnafractalgenai\\anaconda3\\lib\\site-packages (from httpx<1,>=0.23.0->langsmith<0.4,>=0.1.125->langchain_community) (4.2.0)\n",
      "Requirement already satisfied: httpcore==1.* in c:\\users\\krishnafractalgenai\\anaconda3\\lib\\site-packages (from httpx<1,>=0.23.0->langsmith<0.4,>=0.1.125->langchain_community) (1.0.2)\n",
      "Requirement already satisfied: sniffio in c:\\users\\krishnafractalgenai\\anaconda3\\lib\\site-packages (from httpx<1,>=0.23.0->langsmith<0.4,>=0.1.125->langchain_community) (1.3.0)\n",
      "Requirement already satisfied: h11<0.15,>=0.13 in c:\\users\\krishnafractalgenai\\anaconda3\\lib\\site-packages (from httpcore==1.*->httpx<1,>=0.23.0->langsmith<0.4,>=0.1.125->langchain_community) (0.14.0)\n",
      "Requirement already satisfied: jsonpointer>=1.9 in c:\\users\\krishnafractalgenai\\anaconda3\\lib\\site-packages (from jsonpatch<2.0,>=1.33->langchain-core<1.0.0,>=0.3.37->langchain_community) (2.1)\n",
      "Requirement already satisfied: annotated-types>=0.6.0 in c:\\users\\krishnafractalgenai\\anaconda3\\lib\\site-packages (from pydantic<3.0.0,>=2.7.4->langchain<1.0.0,>=0.3.19->langchain_community) (0.6.0)\n",
      "Requirement already satisfied: pydantic-core==2.27.2 in c:\\users\\krishnafractalgenai\\anaconda3\\lib\\site-packages (from pydantic<3.0.0,>=2.7.4->langchain<1.0.0,>=0.3.19->langchain_community) (2.27.2)\n",
      "Requirement already satisfied: mypy-extensions>=0.3.0 in c:\\users\\krishnafractalgenai\\anaconda3\\lib\\site-packages (from typing-inspect<1,>=0.4.0->dataclasses-json<0.7,>=0.5.7->langchain_community) (1.0.0)\n",
      "Using cached langchain_community-0.3.18-py3-none-any.whl (2.5 MB)\n",
      "Using cached dataclasses_json-0.6.7-py3-none-any.whl (28 kB)\n",
      "Using cached httpx_sse-0.4.0-py3-none-any.whl (7.8 kB)\n",
      "Using cached pydantic_settings-2.8.1-py3-none-any.whl (30 kB)\n",
      "Using cached marshmallow-3.26.1-py3-none-any.whl (50 kB)\n",
      "Using cached typing_inspect-0.9.0-py3-none-any.whl (8.8 kB)\n",
      "Installing collected packages: typing-inspect, marshmallow, httpx-sse, dataclasses-json, pydantic-settings, langchain_community\n",
      "Successfully installed dataclasses-json-0.6.7 httpx-sse-0.4.0 langchain_community-0.3.18 marshmallow-3.26.1 pydantic-settings-2.8.1 typing-inspect-0.9.0\n"
     ]
    }
   ],
   "source": [
    "!pip install langchain_community"
   ]
  },
  {
   "cell_type": "code",
   "execution_count": 8,
   "id": "9125e0e0-45fb-44c3-b8d2-e7c2a9f226ff",
   "metadata": {},
   "outputs": [],
   "source": [
    "!pip install -qU pypdf"
   ]
  },
  {
   "cell_type": "code",
   "execution_count": 23,
   "id": "f3fcce19-ab2a-422c-a0a4-3b194c6af27c",
   "metadata": {
    "collapsed": true,
    "jupyter": {
     "outputs_hidden": true
    },
    "scrolled": true
   },
   "outputs": [
    {
     "name": "stdout",
     "output_type": "stream",
     "text": [
      "Collecting pinecone\n",
      "  Downloading pinecone-6.0.1-py3-none-any.whl.metadata (8.8 kB)\n",
      "Requirement already satisfied: certifi>=2019.11.17 in c:\\users\\krishnafractalgenai\\anaconda3\\lib\\site-packages (from pinecone) (2025.1.31)\n",
      "Collecting pinecone-plugin-interface<0.0.8,>=0.0.7 (from pinecone)\n",
      "  Downloading pinecone_plugin_interface-0.0.7-py3-none-any.whl.metadata (1.2 kB)\n",
      "Requirement already satisfied: python-dateutil>=2.5.3 in c:\\users\\krishnafractalgenai\\anaconda3\\lib\\site-packages (from pinecone) (2.9.0.post0)\n",
      "Requirement already satisfied: typing-extensions>=3.7.4 in c:\\users\\krishnafractalgenai\\anaconda3\\lib\\site-packages (from pinecone) (4.12.2)\n",
      "Requirement already satisfied: urllib3>=1.26.5 in c:\\users\\krishnafractalgenai\\anaconda3\\lib\\site-packages (from pinecone) (2.2.3)\n",
      "Requirement already satisfied: six>=1.5 in c:\\users\\krishnafractalgenai\\anaconda3\\lib\\site-packages (from python-dateutil>=2.5.3->pinecone) (1.16.0)\n",
      "Downloading pinecone-6.0.1-py3-none-any.whl (421 kB)\n",
      "Downloading pinecone_plugin_interface-0.0.7-py3-none-any.whl (6.2 kB)\n",
      "Installing collected packages: pinecone-plugin-interface, pinecone\n",
      "Successfully installed pinecone-6.0.1 pinecone-plugin-interface-0.0.7\n"
     ]
    }
   ],
   "source": [
    "!pip install pinecone"
   ]
  },
  {
   "cell_type": "code",
   "execution_count": 13,
   "id": "2e2fda86-289e-4456-a4c9-2162f2f583a3",
   "metadata": {
    "collapsed": true,
    "jupyter": {
     "outputs_hidden": true
    },
    "scrolled": true
   },
   "outputs": [
    {
     "name": "stdout",
     "output_type": "stream",
     "text": [
      "Collecting langchain_ollama\n",
      "  Downloading langchain_ollama-0.2.3-py3-none-any.whl.metadata (1.9 kB)\n",
      "Requirement already satisfied: langchain-core<0.4.0,>=0.3.33 in c:\\users\\krishnafractalgenai\\anaconda3\\lib\\site-packages (from langchain_ollama) (0.3.40)\n",
      "Requirement already satisfied: ollama<1,>=0.4.4 in c:\\users\\krishnafractalgenai\\anaconda3\\lib\\site-packages (from langchain_ollama) (0.4.7)\n",
      "Requirement already satisfied: langsmith<0.4,>=0.1.125 in c:\\users\\krishnafractalgenai\\anaconda3\\lib\\site-packages (from langchain-core<0.4.0,>=0.3.33->langchain_ollama) (0.3.11)\n",
      "Requirement already satisfied: tenacity!=8.4.0,<10.0.0,>=8.1.0 in c:\\users\\krishnafractalgenai\\anaconda3\\lib\\site-packages (from langchain-core<0.4.0,>=0.3.33->langchain_ollama) (8.2.3)\n",
      "Requirement already satisfied: jsonpatch<2.0,>=1.33 in c:\\users\\krishnafractalgenai\\anaconda3\\lib\\site-packages (from langchain-core<0.4.0,>=0.3.33->langchain_ollama) (1.33)\n",
      "Requirement already satisfied: PyYAML>=5.3 in c:\\users\\krishnafractalgenai\\anaconda3\\lib\\site-packages (from langchain-core<0.4.0,>=0.3.33->langchain_ollama) (6.0.1)\n",
      "Requirement already satisfied: packaging<25,>=23.2 in c:\\users\\krishnafractalgenai\\anaconda3\\lib\\site-packages (from langchain-core<0.4.0,>=0.3.33->langchain_ollama) (24.1)\n",
      "Requirement already satisfied: typing-extensions>=4.7 in c:\\users\\krishnafractalgenai\\anaconda3\\lib\\site-packages (from langchain-core<0.4.0,>=0.3.33->langchain_ollama) (4.12.2)\n",
      "Requirement already satisfied: pydantic<3.0.0,>=2.7.4 in c:\\users\\krishnafractalgenai\\anaconda3\\lib\\site-packages (from langchain-core<0.4.0,>=0.3.33->langchain_ollama) (2.10.6)\n",
      "Requirement already satisfied: httpx<0.29,>=0.27 in c:\\users\\krishnafractalgenai\\anaconda3\\lib\\site-packages (from ollama<1,>=0.4.4->langchain_ollama) (0.27.0)\n",
      "Requirement already satisfied: anyio in c:\\users\\krishnafractalgenai\\anaconda3\\lib\\site-packages (from httpx<0.29,>=0.27->ollama<1,>=0.4.4->langchain_ollama) (4.2.0)\n",
      "Requirement already satisfied: certifi in c:\\users\\krishnafractalgenai\\anaconda3\\lib\\site-packages (from httpx<0.29,>=0.27->ollama<1,>=0.4.4->langchain_ollama) (2025.1.31)\n",
      "Requirement already satisfied: httpcore==1.* in c:\\users\\krishnafractalgenai\\anaconda3\\lib\\site-packages (from httpx<0.29,>=0.27->ollama<1,>=0.4.4->langchain_ollama) (1.0.2)\n",
      "Requirement already satisfied: idna in c:\\users\\krishnafractalgenai\\anaconda3\\lib\\site-packages (from httpx<0.29,>=0.27->ollama<1,>=0.4.4->langchain_ollama) (3.7)\n",
      "Requirement already satisfied: sniffio in c:\\users\\krishnafractalgenai\\anaconda3\\lib\\site-packages (from httpx<0.29,>=0.27->ollama<1,>=0.4.4->langchain_ollama) (1.3.0)\n",
      "Requirement already satisfied: h11<0.15,>=0.13 in c:\\users\\krishnafractalgenai\\anaconda3\\lib\\site-packages (from httpcore==1.*->httpx<0.29,>=0.27->ollama<1,>=0.4.4->langchain_ollama) (0.14.0)\n",
      "Requirement already satisfied: jsonpointer>=1.9 in c:\\users\\krishnafractalgenai\\anaconda3\\lib\\site-packages (from jsonpatch<2.0,>=1.33->langchain-core<0.4.0,>=0.3.33->langchain_ollama) (2.1)\n",
      "Requirement already satisfied: orjson<4.0.0,>=3.9.14 in c:\\users\\krishnafractalgenai\\anaconda3\\lib\\site-packages (from langsmith<0.4,>=0.1.125->langchain-core<0.4.0,>=0.3.33->langchain_ollama) (3.10.15)\n",
      "Requirement already satisfied: requests<3,>=2 in c:\\users\\krishnafractalgenai\\anaconda3\\lib\\site-packages (from langsmith<0.4,>=0.1.125->langchain-core<0.4.0,>=0.3.33->langchain_ollama) (2.32.3)\n",
      "Requirement already satisfied: requests-toolbelt<2.0.0,>=1.0.0 in c:\\users\\krishnafractalgenai\\anaconda3\\lib\\site-packages (from langsmith<0.4,>=0.1.125->langchain-core<0.4.0,>=0.3.33->langchain_ollama) (1.0.0)\n",
      "Requirement already satisfied: zstandard<0.24.0,>=0.23.0 in c:\\users\\krishnafractalgenai\\anaconda3\\lib\\site-packages (from langsmith<0.4,>=0.1.125->langchain-core<0.4.0,>=0.3.33->langchain_ollama) (0.23.0)\n",
      "Requirement already satisfied: annotated-types>=0.6.0 in c:\\users\\krishnafractalgenai\\anaconda3\\lib\\site-packages (from pydantic<3.0.0,>=2.7.4->langchain-core<0.4.0,>=0.3.33->langchain_ollama) (0.6.0)\n",
      "Requirement already satisfied: pydantic-core==2.27.2 in c:\\users\\krishnafractalgenai\\anaconda3\\lib\\site-packages (from pydantic<3.0.0,>=2.7.4->langchain-core<0.4.0,>=0.3.33->langchain_ollama) (2.27.2)\n",
      "Requirement already satisfied: charset-normalizer<4,>=2 in c:\\users\\krishnafractalgenai\\anaconda3\\lib\\site-packages (from requests<3,>=2->langsmith<0.4,>=0.1.125->langchain-core<0.4.0,>=0.3.33->langchain_ollama) (3.3.2)\n",
      "Requirement already satisfied: urllib3<3,>=1.21.1 in c:\\users\\krishnafractalgenai\\anaconda3\\lib\\site-packages (from requests<3,>=2->langsmith<0.4,>=0.1.125->langchain-core<0.4.0,>=0.3.33->langchain_ollama) (2.2.3)\n",
      "Downloading langchain_ollama-0.2.3-py3-none-any.whl (19 kB)\n",
      "Installing collected packages: langchain_ollama\n",
      "Successfully installed langchain_ollama-0.2.3\n"
     ]
    }
   ],
   "source": [
    "!pip install langchain_ollama"
   ]
  },
  {
   "cell_type": "code",
   "execution_count": 1,
   "id": "f41829bb-5d85-4fcd-ba5e-eb25ecc6f003",
   "metadata": {},
   "outputs": [
    {
     "name": "stdout",
     "output_type": "stream",
     "text": [
      "Requirement already satisfied: faiss-cpu in c:\\users\\krishnafractalgenai\\anaconda3\\lib\\site-packages (1.10.0)\n",
      "Requirement already satisfied: numpy<3.0,>=1.25.0 in c:\\users\\krishnafractalgenai\\anaconda3\\lib\\site-packages (from faiss-cpu) (1.26.4)\n",
      "Requirement already satisfied: packaging in c:\\users\\krishnafractalgenai\\anaconda3\\lib\\site-packages (from faiss-cpu) (24.1)\n"
     ]
    }
   ],
   "source": [
    "!pip install faiss-cpu"
   ]
  },
  {
   "cell_type": "code",
   "execution_count": 2,
   "id": "84da6949-2d41-4b68-b11e-0d2eb7ecd73c",
   "metadata": {
    "collapsed": true,
    "jupyter": {
     "outputs_hidden": true
    }
   },
   "outputs": [
    {
     "name": "stdout",
     "output_type": "stream",
     "text": [
      "Collecting llama_index\n",
      "  Downloading llama_index-0.12.22-py3-none-any.whl.metadata (12 kB)\n",
      "Collecting llama-index-agent-openai<0.5.0,>=0.4.0 (from llama_index)\n",
      "  Downloading llama_index_agent_openai-0.4.6-py3-none-any.whl.metadata (727 bytes)\n",
      "Collecting llama-index-cli<0.5.0,>=0.4.1 (from llama_index)\n",
      "  Downloading llama_index_cli-0.4.1-py3-none-any.whl.metadata (1.5 kB)\n",
      "Collecting llama-index-core<0.13.0,>=0.12.22 (from llama_index)\n",
      "  Downloading llama_index_core-0.12.22-py3-none-any.whl.metadata (2.5 kB)\n",
      "Collecting llama-index-embeddings-openai<0.4.0,>=0.3.0 (from llama_index)\n",
      "  Downloading llama_index_embeddings_openai-0.3.1-py3-none-any.whl.metadata (684 bytes)\n",
      "Collecting llama-index-indices-managed-llama-cloud>=0.4.0 (from llama_index)\n",
      "  Downloading llama_index_indices_managed_llama_cloud-0.6.8-py3-none-any.whl.metadata (3.6 kB)\n",
      "Collecting llama-index-llms-openai<0.4.0,>=0.3.0 (from llama_index)\n",
      "  Downloading llama_index_llms_openai-0.3.25-py3-none-any.whl.metadata (3.3 kB)\n",
      "Collecting llama-index-multi-modal-llms-openai<0.5.0,>=0.4.0 (from llama_index)\n",
      "  Downloading llama_index_multi_modal_llms_openai-0.4.3-py3-none-any.whl.metadata (726 bytes)\n",
      "Collecting llama-index-program-openai<0.4.0,>=0.3.0 (from llama_index)\n",
      "  Downloading llama_index_program_openai-0.3.1-py3-none-any.whl.metadata (764 bytes)\n",
      "Collecting llama-index-question-gen-openai<0.4.0,>=0.3.0 (from llama_index)\n",
      "  Downloading llama_index_question_gen_openai-0.3.0-py3-none-any.whl.metadata (783 bytes)\n",
      "Collecting llama-index-readers-file<0.5.0,>=0.4.0 (from llama_index)\n",
      "  Downloading llama_index_readers_file-0.4.5-py3-none-any.whl.metadata (5.4 kB)\n",
      "Collecting llama-index-readers-llama-parse>=0.4.0 (from llama_index)\n",
      "  Downloading llama_index_readers_llama_parse-0.4.0-py3-none-any.whl.metadata (3.6 kB)\n",
      "Requirement already satisfied: nltk>3.8.1 in c:\\users\\krishnafractalgenai\\anaconda3\\lib\\site-packages (from llama_index) (3.9.1)\n",
      "Collecting openai>=1.14.0 (from llama-index-agent-openai<0.5.0,>=0.4.0->llama_index)\n",
      "  Downloading openai-1.65.1-py3-none-any.whl.metadata (27 kB)\n",
      "Requirement already satisfied: PyYAML>=6.0.1 in c:\\users\\krishnafractalgenai\\anaconda3\\lib\\site-packages (from llama-index-core<0.13.0,>=0.12.22->llama_index) (6.0.1)\n",
      "Requirement already satisfied: SQLAlchemy>=1.4.49 in c:\\users\\krishnafractalgenai\\anaconda3\\lib\\site-packages (from SQLAlchemy[asyncio]>=1.4.49->llama-index-core<0.13.0,>=0.12.22->llama_index) (2.0.34)\n",
      "Requirement already satisfied: aiohttp<4.0.0,>=3.8.6 in c:\\users\\krishnafractalgenai\\anaconda3\\lib\\site-packages (from llama-index-core<0.13.0,>=0.12.22->llama_index) (3.10.5)\n",
      "Requirement already satisfied: dataclasses-json in c:\\users\\krishnafractalgenai\\anaconda3\\lib\\site-packages (from llama-index-core<0.13.0,>=0.12.22->llama_index) (0.6.7)\n",
      "Collecting deprecated>=1.2.9.3 (from llama-index-core<0.13.0,>=0.12.22->llama_index)\n",
      "  Downloading Deprecated-1.2.18-py2.py3-none-any.whl.metadata (5.7 kB)\n",
      "Collecting dirtyjson<2.0.0,>=1.0.8 (from llama-index-core<0.13.0,>=0.12.22->llama_index)\n",
      "  Downloading dirtyjson-1.0.8-py3-none-any.whl.metadata (11 kB)\n",
      "Collecting filetype<2.0.0,>=1.2.0 (from llama-index-core<0.13.0,>=0.12.22->llama_index)\n",
      "  Downloading filetype-1.2.0-py2.py3-none-any.whl.metadata (6.5 kB)\n",
      "Requirement already satisfied: fsspec>=2023.5.0 in c:\\users\\krishnafractalgenai\\anaconda3\\lib\\site-packages (from llama-index-core<0.13.0,>=0.12.22->llama_index) (2024.6.1)\n",
      "Requirement already satisfied: httpx in c:\\users\\krishnafractalgenai\\anaconda3\\lib\\site-packages (from llama-index-core<0.13.0,>=0.12.22->llama_index) (0.27.0)\n",
      "Requirement already satisfied: nest-asyncio<2.0.0,>=1.5.8 in c:\\users\\krishnafractalgenai\\anaconda3\\lib\\site-packages (from llama-index-core<0.13.0,>=0.12.22->llama_index) (1.6.0)\n",
      "Requirement already satisfied: networkx>=3.0 in c:\\users\\krishnafractalgenai\\anaconda3\\lib\\site-packages (from llama-index-core<0.13.0,>=0.12.22->llama_index) (3.3)\n",
      "Requirement already satisfied: numpy in c:\\users\\krishnafractalgenai\\anaconda3\\lib\\site-packages (from llama-index-core<0.13.0,>=0.12.22->llama_index) (1.26.4)\n",
      "Requirement already satisfied: pillow>=9.0.0 in c:\\users\\krishnafractalgenai\\anaconda3\\lib\\site-packages (from llama-index-core<0.13.0,>=0.12.22->llama_index) (10.4.0)\n",
      "Requirement already satisfied: pydantic>=2.8.0 in c:\\users\\krishnafractalgenai\\anaconda3\\lib\\site-packages (from llama-index-core<0.13.0,>=0.12.22->llama_index) (2.10.6)\n",
      "Requirement already satisfied: requests>=2.31.0 in c:\\users\\krishnafractalgenai\\anaconda3\\lib\\site-packages (from llama-index-core<0.13.0,>=0.12.22->llama_index) (2.32.3)\n",
      "Requirement already satisfied: tenacity!=8.4.0,<10.0.0,>=8.2.0 in c:\\users\\krishnafractalgenai\\anaconda3\\lib\\site-packages (from llama-index-core<0.13.0,>=0.12.22->llama_index) (8.2.3)\n",
      "Collecting tiktoken>=0.3.3 (from llama-index-core<0.13.0,>=0.12.22->llama_index)\n",
      "  Downloading tiktoken-0.9.0-cp312-cp312-win_amd64.whl.metadata (6.8 kB)\n",
      "Requirement already satisfied: tqdm<5.0.0,>=4.66.1 in c:\\users\\krishnafractalgenai\\anaconda3\\lib\\site-packages (from llama-index-core<0.13.0,>=0.12.22->llama_index) (4.66.5)\n",
      "Requirement already satisfied: typing-extensions>=4.5.0 in c:\\users\\krishnafractalgenai\\anaconda3\\lib\\site-packages (from llama-index-core<0.13.0,>=0.12.22->llama_index) (4.12.2)\n",
      "Requirement already satisfied: typing-inspect>=0.8.0 in c:\\users\\krishnafractalgenai\\anaconda3\\lib\\site-packages (from llama-index-core<0.13.0,>=0.12.22->llama_index) (0.9.0)\n",
      "Requirement already satisfied: wrapt in c:\\users\\krishnafractalgenai\\anaconda3\\lib\\site-packages (from llama-index-core<0.13.0,>=0.12.22->llama_index) (1.14.1)\n",
      "Collecting llama-cloud<0.2.0,>=0.1.13 (from llama-index-indices-managed-llama-cloud>=0.4.0->llama_index)\n",
      "  Downloading llama_cloud-0.1.13-py3-none-any.whl.metadata (800 bytes)\n",
      "Requirement already satisfied: beautifulsoup4<5.0.0,>=4.12.3 in c:\\users\\krishnafractalgenai\\anaconda3\\lib\\site-packages (from llama-index-readers-file<0.5.0,>=0.4.0->llama_index) (4.12.3)\n",
      "Requirement already satisfied: pandas in c:\\users\\krishnafractalgenai\\anaconda3\\lib\\site-packages (from llama-index-readers-file<0.5.0,>=0.4.0->llama_index) (2.2.2)\n",
      "Requirement already satisfied: pypdf<6.0.0,>=5.1.0 in c:\\users\\krishnafractalgenai\\anaconda3\\lib\\site-packages (from llama-index-readers-file<0.5.0,>=0.4.0->llama_index) (5.3.0)\n",
      "Collecting striprtf<0.0.27,>=0.0.26 (from llama-index-readers-file<0.5.0,>=0.4.0->llama_index)\n",
      "  Downloading striprtf-0.0.26-py3-none-any.whl.metadata (2.1 kB)\n",
      "Collecting llama-parse>=0.5.0 (from llama-index-readers-llama-parse>=0.4.0->llama_index)\n",
      "  Downloading llama_parse-0.6.2-py3-none-any.whl.metadata (6.9 kB)\n",
      "Requirement already satisfied: click in c:\\users\\krishnafractalgenai\\anaconda3\\lib\\site-packages (from nltk>3.8.1->llama_index) (8.1.7)\n",
      "Requirement already satisfied: joblib in c:\\users\\krishnafractalgenai\\anaconda3\\lib\\site-packages (from nltk>3.8.1->llama_index) (1.4.2)\n",
      "Requirement already satisfied: regex>=2021.8.3 in c:\\users\\krishnafractalgenai\\anaconda3\\lib\\site-packages (from nltk>3.8.1->llama_index) (2024.9.11)\n",
      "Requirement already satisfied: aiohappyeyeballs>=2.3.0 in c:\\users\\krishnafractalgenai\\anaconda3\\lib\\site-packages (from aiohttp<4.0.0,>=3.8.6->llama-index-core<0.13.0,>=0.12.22->llama_index) (2.4.0)\n",
      "Requirement already satisfied: aiosignal>=1.1.2 in c:\\users\\krishnafractalgenai\\anaconda3\\lib\\site-packages (from aiohttp<4.0.0,>=3.8.6->llama-index-core<0.13.0,>=0.12.22->llama_index) (1.2.0)\n",
      "Requirement already satisfied: attrs>=17.3.0 in c:\\users\\krishnafractalgenai\\anaconda3\\lib\\site-packages (from aiohttp<4.0.0,>=3.8.6->llama-index-core<0.13.0,>=0.12.22->llama_index) (23.1.0)\n",
      "Requirement already satisfied: frozenlist>=1.1.1 in c:\\users\\krishnafractalgenai\\anaconda3\\lib\\site-packages (from aiohttp<4.0.0,>=3.8.6->llama-index-core<0.13.0,>=0.12.22->llama_index) (1.4.0)\n",
      "Requirement already satisfied: multidict<7.0,>=4.5 in c:\\users\\krishnafractalgenai\\anaconda3\\lib\\site-packages (from aiohttp<4.0.0,>=3.8.6->llama-index-core<0.13.0,>=0.12.22->llama_index) (6.0.4)\n",
      "Requirement already satisfied: yarl<2.0,>=1.0 in c:\\users\\krishnafractalgenai\\anaconda3\\lib\\site-packages (from aiohttp<4.0.0,>=3.8.6->llama-index-core<0.13.0,>=0.12.22->llama_index) (1.11.0)\n",
      "Requirement already satisfied: soupsieve>1.2 in c:\\users\\krishnafractalgenai\\anaconda3\\lib\\site-packages (from beautifulsoup4<5.0.0,>=4.12.3->llama-index-readers-file<0.5.0,>=0.4.0->llama_index) (2.5)\n",
      "Requirement already satisfied: certifi>=2024.7.4 in c:\\users\\krishnafractalgenai\\anaconda3\\lib\\site-packages (from llama-cloud<0.2.0,>=0.1.13->llama-index-indices-managed-llama-cloud>=0.4.0->llama_index) (2025.1.31)\n",
      "Requirement already satisfied: anyio in c:\\users\\krishnafractalgenai\\anaconda3\\lib\\site-packages (from httpx->llama-index-core<0.13.0,>=0.12.22->llama_index) (4.2.0)\n",
      "Requirement already satisfied: httpcore==1.* in c:\\users\\krishnafractalgenai\\anaconda3\\lib\\site-packages (from httpx->llama-index-core<0.13.0,>=0.12.22->llama_index) (1.0.2)\n",
      "Requirement already satisfied: idna in c:\\users\\krishnafractalgenai\\anaconda3\\lib\\site-packages (from httpx->llama-index-core<0.13.0,>=0.12.22->llama_index) (3.7)\n",
      "Requirement already satisfied: sniffio in c:\\users\\krishnafractalgenai\\anaconda3\\lib\\site-packages (from httpx->llama-index-core<0.13.0,>=0.12.22->llama_index) (1.3.0)\n",
      "Requirement already satisfied: h11<0.15,>=0.13 in c:\\users\\krishnafractalgenai\\anaconda3\\lib\\site-packages (from httpcore==1.*->httpx->llama-index-core<0.13.0,>=0.12.22->llama_index) (0.14.0)\n",
      "Collecting llama-cloud-services>=0.6.2 (from llama-parse>=0.5.0->llama-index-readers-llama-parse>=0.4.0->llama_index)\n",
      "  Downloading llama_cloud_services-0.6.3-py3-none-any.whl.metadata (2.9 kB)\n",
      "Requirement already satisfied: distro<2,>=1.7.0 in c:\\users\\krishnafractalgenai\\anaconda3\\lib\\site-packages (from openai>=1.14.0->llama-index-agent-openai<0.5.0,>=0.4.0->llama_index) (1.9.0)\n",
      "Collecting jiter<1,>=0.4.0 (from openai>=1.14.0->llama-index-agent-openai<0.5.0,>=0.4.0->llama_index)\n",
      "  Downloading jiter-0.8.2-cp312-cp312-win_amd64.whl.metadata (5.3 kB)\n",
      "Requirement already satisfied: annotated-types>=0.6.0 in c:\\users\\krishnafractalgenai\\anaconda3\\lib\\site-packages (from pydantic>=2.8.0->llama-index-core<0.13.0,>=0.12.22->llama_index) (0.6.0)\n",
      "Requirement already satisfied: pydantic-core==2.27.2 in c:\\users\\krishnafractalgenai\\anaconda3\\lib\\site-packages (from pydantic>=2.8.0->llama-index-core<0.13.0,>=0.12.22->llama_index) (2.27.2)\n",
      "Requirement already satisfied: charset-normalizer<4,>=2 in c:\\users\\krishnafractalgenai\\anaconda3\\lib\\site-packages (from requests>=2.31.0->llama-index-core<0.13.0,>=0.12.22->llama_index) (3.3.2)\n",
      "Requirement already satisfied: urllib3<3,>=1.21.1 in c:\\users\\krishnafractalgenai\\anaconda3\\lib\\site-packages (from requests>=2.31.0->llama-index-core<0.13.0,>=0.12.22->llama_index) (2.2.3)\n",
      "Requirement already satisfied: greenlet!=0.4.17 in c:\\users\\krishnafractalgenai\\anaconda3\\lib\\site-packages (from SQLAlchemy>=1.4.49->SQLAlchemy[asyncio]>=1.4.49->llama-index-core<0.13.0,>=0.12.22->llama_index) (3.0.1)\n",
      "Requirement already satisfied: colorama in c:\\users\\krishnafractalgenai\\anaconda3\\lib\\site-packages (from tqdm<5.0.0,>=4.66.1->llama-index-core<0.13.0,>=0.12.22->llama_index) (0.4.6)\n",
      "Requirement already satisfied: mypy-extensions>=0.3.0 in c:\\users\\krishnafractalgenai\\anaconda3\\lib\\site-packages (from typing-inspect>=0.8.0->llama-index-core<0.13.0,>=0.12.22->llama_index) (1.0.0)\n",
      "Requirement already satisfied: marshmallow<4.0.0,>=3.18.0 in c:\\users\\krishnafractalgenai\\anaconda3\\lib\\site-packages (from dataclasses-json->llama-index-core<0.13.0,>=0.12.22->llama_index) (3.26.1)\n",
      "Requirement already satisfied: python-dateutil>=2.8.2 in c:\\users\\krishnafractalgenai\\anaconda3\\lib\\site-packages (from pandas->llama-index-readers-file<0.5.0,>=0.4.0->llama_index) (2.9.0.post0)\n",
      "Requirement already satisfied: pytz>=2020.1 in c:\\users\\krishnafractalgenai\\anaconda3\\lib\\site-packages (from pandas->llama-index-readers-file<0.5.0,>=0.4.0->llama_index) (2024.1)\n",
      "Requirement already satisfied: tzdata>=2022.7 in c:\\users\\krishnafractalgenai\\anaconda3\\lib\\site-packages (from pandas->llama-index-readers-file<0.5.0,>=0.4.0->llama_index) (2023.3)\n",
      "Collecting python-dotenv<2.0.0,>=1.0.1 (from llama-cloud-services>=0.6.2->llama-parse>=0.5.0->llama-index-readers-llama-parse>=0.4.0->llama_index)\n",
      "  Using cached python_dotenv-1.0.1-py3-none-any.whl.metadata (23 kB)\n",
      "Requirement already satisfied: packaging>=17.0 in c:\\users\\krishnafractalgenai\\anaconda3\\lib\\site-packages (from marshmallow<4.0.0,>=3.18.0->dataclasses-json->llama-index-core<0.13.0,>=0.12.22->llama_index) (24.1)\n",
      "Requirement already satisfied: six>=1.5 in c:\\users\\krishnafractalgenai\\anaconda3\\lib\\site-packages (from python-dateutil>=2.8.2->pandas->llama-index-readers-file<0.5.0,>=0.4.0->llama_index) (1.16.0)\n",
      "Downloading llama_index-0.12.22-py3-none-any.whl (7.0 kB)\n",
      "Downloading llama_index_agent_openai-0.4.6-py3-none-any.whl (13 kB)\n",
      "Downloading llama_index_cli-0.4.1-py3-none-any.whl (28 kB)\n",
      "Downloading llama_index_core-0.12.22-py3-none-any.whl (1.6 MB)\n",
      "   ---------------------------------------- 0.0/1.6 MB ? eta -:--:--\n",
      "   ---------------------------------------- 1.6/1.6 MB 84.0 MB/s eta 0:00:00\n",
      "Downloading llama_index_embeddings_openai-0.3.1-py3-none-any.whl (6.2 kB)\n",
      "Downloading llama_index_indices_managed_llama_cloud-0.6.8-py3-none-any.whl (13 kB)\n",
      "Downloading llama_index_llms_openai-0.3.25-py3-none-any.whl (16 kB)\n",
      "Downloading llama_index_multi_modal_llms_openai-0.4.3-py3-none-any.whl (5.9 kB)\n",
      "Downloading llama_index_program_openai-0.3.1-py3-none-any.whl (5.3 kB)\n",
      "Downloading llama_index_question_gen_openai-0.3.0-py3-none-any.whl (2.9 kB)\n",
      "Downloading llama_index_readers_file-0.4.5-py3-none-any.whl (39 kB)\n",
      "Downloading llama_index_readers_llama_parse-0.4.0-py3-none-any.whl (2.5 kB)\n",
      "Downloading Deprecated-1.2.18-py2.py3-none-any.whl (10.0 kB)\n",
      "Downloading dirtyjson-1.0.8-py3-none-any.whl (25 kB)\n",
      "Downloading filetype-1.2.0-py2.py3-none-any.whl (19 kB)\n",
      "Downloading llama_cloud-0.1.13-py3-none-any.whl (253 kB)\n",
      "Downloading llama_parse-0.6.2-py3-none-any.whl (4.8 kB)\n",
      "Downloading openai-1.65.1-py3-none-any.whl (472 kB)\n",
      "Downloading striprtf-0.0.26-py3-none-any.whl (6.9 kB)\n",
      "Downloading tiktoken-0.9.0-cp312-cp312-win_amd64.whl (894 kB)\n",
      "   ---------------------------------------- 0.0/894.9 kB ? eta -:--:--\n",
      "   --------------------------------------- 894.9/894.9 kB 39.5 MB/s eta 0:00:00\n",
      "Downloading jiter-0.8.2-cp312-cp312-win_amd64.whl (204 kB)\n",
      "Downloading llama_cloud_services-0.6.3-py3-none-any.whl (28 kB)\n",
      "Using cached python_dotenv-1.0.1-py3-none-any.whl (19 kB)\n",
      "Installing collected packages: striprtf, filetype, dirtyjson, python-dotenv, jiter, deprecated, tiktoken, openai, llama-index-core, llama-cloud, llama-index-readers-file, llama-index-llms-openai, llama-index-indices-managed-llama-cloud, llama-index-embeddings-openai, llama-cloud-services, llama-parse, llama-index-multi-modal-llms-openai, llama-index-cli, llama-index-agent-openai, llama-index-readers-llama-parse, llama-index-program-openai, llama-index-question-gen-openai, llama_index\n",
      "  Attempting uninstall: python-dotenv\n",
      "    Found existing installation: python-dotenv 0.21.0\n",
      "    Uninstalling python-dotenv-0.21.0:\n",
      "      Successfully uninstalled python-dotenv-0.21.0\n",
      "Successfully installed deprecated-1.2.18 dirtyjson-1.0.8 filetype-1.2.0 jiter-0.8.2 llama-cloud-0.1.13 llama-cloud-services-0.6.3 llama-index-agent-openai-0.4.6 llama-index-cli-0.4.1 llama-index-core-0.12.22 llama-index-embeddings-openai-0.3.1 llama-index-indices-managed-llama-cloud-0.6.8 llama-index-llms-openai-0.3.25 llama-index-multi-modal-llms-openai-0.4.3 llama-index-program-openai-0.3.1 llama-index-question-gen-openai-0.3.0 llama-index-readers-file-0.4.5 llama-index-readers-llama-parse-0.4.0 llama-parse-0.6.2 llama_index-0.12.22 openai-1.65.1 python-dotenv-1.0.1 striprtf-0.0.26 tiktoken-0.9.0\n",
      "Note: you may need to restart the kernel to use updated packages.\n"
     ]
    }
   ],
   "source": [
    "!pip install llama_index"
   ]
  },
  {
   "cell_type": "code",
   "execution_count": 25,
   "id": "352bc9d4-f5b5-4cfa-83f5-f9d086ca9cb9",
   "metadata": {
    "collapsed": true,
    "jupyter": {
     "outputs_hidden": true
    },
    "scrolled": true
   },
   "outputs": [
    {
     "name": "stdout",
     "output_type": "stream",
     "text": [
      "Collecting llama-index-vector-stores-postgres\n",
      "  Downloading llama_index_vector_stores_postgres-0.4.2-py3-none-any.whl.metadata (848 bytes)\n",
      "Collecting asyncpg<1.0.0,>=0.29.0 (from llama-index-vector-stores-postgres)\n",
      "  Downloading asyncpg-0.30.0-cp312-cp312-win_amd64.whl.metadata (5.2 kB)\n",
      "Requirement already satisfied: llama-index-core<0.13.0,>=0.12.6 in c:\\users\\krishnafractalgenai\\anaconda3\\lib\\site-packages (from llama-index-vector-stores-postgres) (0.12.22)\n",
      "Collecting pgvector<1.0.0,>=0.3.6 (from llama-index-vector-stores-postgres)\n",
      "  Downloading pgvector-0.3.6-py3-none-any.whl.metadata (13 kB)\n",
      "Collecting psycopg2-binary<3.0.0,>=2.9.9 (from llama-index-vector-stores-postgres)\n",
      "  Downloading psycopg2_binary-2.9.10-cp312-cp312-win_amd64.whl.metadata (5.0 kB)\n",
      "Requirement already satisfied: sqlalchemy<2.1,>=1.4.49 in c:\\users\\krishnafractalgenai\\anaconda3\\lib\\site-packages (from sqlalchemy[asyncio]<2.1,>=1.4.49->llama-index-vector-stores-postgres) (2.0.34)\n",
      "Requirement already satisfied: PyYAML>=6.0.1 in c:\\users\\krishnafractalgenai\\anaconda3\\lib\\site-packages (from llama-index-core<0.13.0,>=0.12.6->llama-index-vector-stores-postgres) (6.0.1)\n",
      "Requirement already satisfied: aiohttp<4.0.0,>=3.8.6 in c:\\users\\krishnafractalgenai\\anaconda3\\lib\\site-packages (from llama-index-core<0.13.0,>=0.12.6->llama-index-vector-stores-postgres) (3.10.5)\n",
      "Requirement already satisfied: dataclasses-json in c:\\users\\krishnafractalgenai\\anaconda3\\lib\\site-packages (from llama-index-core<0.13.0,>=0.12.6->llama-index-vector-stores-postgres) (0.6.7)\n",
      "Requirement already satisfied: deprecated>=1.2.9.3 in c:\\users\\krishnafractalgenai\\anaconda3\\lib\\site-packages (from llama-index-core<0.13.0,>=0.12.6->llama-index-vector-stores-postgres) (1.2.18)\n",
      "Requirement already satisfied: dirtyjson<2.0.0,>=1.0.8 in c:\\users\\krishnafractalgenai\\anaconda3\\lib\\site-packages (from llama-index-core<0.13.0,>=0.12.6->llama-index-vector-stores-postgres) (1.0.8)\n",
      "Requirement already satisfied: filetype<2.0.0,>=1.2.0 in c:\\users\\krishnafractalgenai\\anaconda3\\lib\\site-packages (from llama-index-core<0.13.0,>=0.12.6->llama-index-vector-stores-postgres) (1.2.0)\n",
      "Requirement already satisfied: fsspec>=2023.5.0 in c:\\users\\krishnafractalgenai\\anaconda3\\lib\\site-packages (from llama-index-core<0.13.0,>=0.12.6->llama-index-vector-stores-postgres) (2024.6.1)\n",
      "Requirement already satisfied: httpx in c:\\users\\krishnafractalgenai\\anaconda3\\lib\\site-packages (from llama-index-core<0.13.0,>=0.12.6->llama-index-vector-stores-postgres) (0.27.0)\n",
      "Requirement already satisfied: nest-asyncio<2.0.0,>=1.5.8 in c:\\users\\krishnafractalgenai\\anaconda3\\lib\\site-packages (from llama-index-core<0.13.0,>=0.12.6->llama-index-vector-stores-postgres) (1.6.0)\n",
      "Requirement already satisfied: networkx>=3.0 in c:\\users\\krishnafractalgenai\\anaconda3\\lib\\site-packages (from llama-index-core<0.13.0,>=0.12.6->llama-index-vector-stores-postgres) (3.3)\n",
      "Requirement already satisfied: nltk>3.8.1 in c:\\users\\krishnafractalgenai\\anaconda3\\lib\\site-packages (from llama-index-core<0.13.0,>=0.12.6->llama-index-vector-stores-postgres) (3.9.1)\n",
      "Requirement already satisfied: numpy in c:\\users\\krishnafractalgenai\\anaconda3\\lib\\site-packages (from llama-index-core<0.13.0,>=0.12.6->llama-index-vector-stores-postgres) (1.26.4)\n",
      "Requirement already satisfied: pillow>=9.0.0 in c:\\users\\krishnafractalgenai\\anaconda3\\lib\\site-packages (from llama-index-core<0.13.0,>=0.12.6->llama-index-vector-stores-postgres) (10.4.0)\n",
      "Requirement already satisfied: pydantic>=2.8.0 in c:\\users\\krishnafractalgenai\\anaconda3\\lib\\site-packages (from llama-index-core<0.13.0,>=0.12.6->llama-index-vector-stores-postgres) (2.10.6)\n",
      "Requirement already satisfied: requests>=2.31.0 in c:\\users\\krishnafractalgenai\\anaconda3\\lib\\site-packages (from llama-index-core<0.13.0,>=0.12.6->llama-index-vector-stores-postgres) (2.32.3)\n",
      "Requirement already satisfied: tenacity!=8.4.0,<10.0.0,>=8.2.0 in c:\\users\\krishnafractalgenai\\anaconda3\\lib\\site-packages (from llama-index-core<0.13.0,>=0.12.6->llama-index-vector-stores-postgres) (8.2.3)\n",
      "Requirement already satisfied: tiktoken>=0.3.3 in c:\\users\\krishnafractalgenai\\anaconda3\\lib\\site-packages (from llama-index-core<0.13.0,>=0.12.6->llama-index-vector-stores-postgres) (0.9.0)\n",
      "Requirement already satisfied: tqdm<5.0.0,>=4.66.1 in c:\\users\\krishnafractalgenai\\anaconda3\\lib\\site-packages (from llama-index-core<0.13.0,>=0.12.6->llama-index-vector-stores-postgres) (4.66.5)\n",
      "Requirement already satisfied: typing-extensions>=4.5.0 in c:\\users\\krishnafractalgenai\\anaconda3\\lib\\site-packages (from llama-index-core<0.13.0,>=0.12.6->llama-index-vector-stores-postgres) (4.12.2)\n",
      "Requirement already satisfied: typing-inspect>=0.8.0 in c:\\users\\krishnafractalgenai\\anaconda3\\lib\\site-packages (from llama-index-core<0.13.0,>=0.12.6->llama-index-vector-stores-postgres) (0.9.0)\n",
      "Requirement already satisfied: wrapt in c:\\users\\krishnafractalgenai\\anaconda3\\lib\\site-packages (from llama-index-core<0.13.0,>=0.12.6->llama-index-vector-stores-postgres) (1.14.1)\n",
      "Requirement already satisfied: greenlet!=0.4.17 in c:\\users\\krishnafractalgenai\\anaconda3\\lib\\site-packages (from sqlalchemy<2.1,>=1.4.49->sqlalchemy[asyncio]<2.1,>=1.4.49->llama-index-vector-stores-postgres) (3.0.1)\n",
      "Requirement already satisfied: aiohappyeyeballs>=2.3.0 in c:\\users\\krishnafractalgenai\\anaconda3\\lib\\site-packages (from aiohttp<4.0.0,>=3.8.6->llama-index-core<0.13.0,>=0.12.6->llama-index-vector-stores-postgres) (2.4.0)\n",
      "Requirement already satisfied: aiosignal>=1.1.2 in c:\\users\\krishnafractalgenai\\anaconda3\\lib\\site-packages (from aiohttp<4.0.0,>=3.8.6->llama-index-core<0.13.0,>=0.12.6->llama-index-vector-stores-postgres) (1.2.0)\n",
      "Requirement already satisfied: attrs>=17.3.0 in c:\\users\\krishnafractalgenai\\anaconda3\\lib\\site-packages (from aiohttp<4.0.0,>=3.8.6->llama-index-core<0.13.0,>=0.12.6->llama-index-vector-stores-postgres) (23.1.0)\n",
      "Requirement already satisfied: frozenlist>=1.1.1 in c:\\users\\krishnafractalgenai\\anaconda3\\lib\\site-packages (from aiohttp<4.0.0,>=3.8.6->llama-index-core<0.13.0,>=0.12.6->llama-index-vector-stores-postgres) (1.4.0)\n",
      "Requirement already satisfied: multidict<7.0,>=4.5 in c:\\users\\krishnafractalgenai\\anaconda3\\lib\\site-packages (from aiohttp<4.0.0,>=3.8.6->llama-index-core<0.13.0,>=0.12.6->llama-index-vector-stores-postgres) (6.0.4)\n",
      "Requirement already satisfied: yarl<2.0,>=1.0 in c:\\users\\krishnafractalgenai\\anaconda3\\lib\\site-packages (from aiohttp<4.0.0,>=3.8.6->llama-index-core<0.13.0,>=0.12.6->llama-index-vector-stores-postgres) (1.11.0)\n",
      "Requirement already satisfied: click in c:\\users\\krishnafractalgenai\\anaconda3\\lib\\site-packages (from nltk>3.8.1->llama-index-core<0.13.0,>=0.12.6->llama-index-vector-stores-postgres) (8.1.7)\n",
      "Requirement already satisfied: joblib in c:\\users\\krishnafractalgenai\\anaconda3\\lib\\site-packages (from nltk>3.8.1->llama-index-core<0.13.0,>=0.12.6->llama-index-vector-stores-postgres) (1.4.2)\n",
      "Requirement already satisfied: regex>=2021.8.3 in c:\\users\\krishnafractalgenai\\anaconda3\\lib\\site-packages (from nltk>3.8.1->llama-index-core<0.13.0,>=0.12.6->llama-index-vector-stores-postgres) (2024.9.11)\n",
      "Requirement already satisfied: annotated-types>=0.6.0 in c:\\users\\krishnafractalgenai\\anaconda3\\lib\\site-packages (from pydantic>=2.8.0->llama-index-core<0.13.0,>=0.12.6->llama-index-vector-stores-postgres) (0.6.0)\n",
      "Requirement already satisfied: pydantic-core==2.27.2 in c:\\users\\krishnafractalgenai\\anaconda3\\lib\\site-packages (from pydantic>=2.8.0->llama-index-core<0.13.0,>=0.12.6->llama-index-vector-stores-postgres) (2.27.2)\n",
      "Requirement already satisfied: charset-normalizer<4,>=2 in c:\\users\\krishnafractalgenai\\anaconda3\\lib\\site-packages (from requests>=2.31.0->llama-index-core<0.13.0,>=0.12.6->llama-index-vector-stores-postgres) (3.3.2)\n",
      "Requirement already satisfied: idna<4,>=2.5 in c:\\users\\krishnafractalgenai\\anaconda3\\lib\\site-packages (from requests>=2.31.0->llama-index-core<0.13.0,>=0.12.6->llama-index-vector-stores-postgres) (3.7)\n",
      "Requirement already satisfied: urllib3<3,>=1.21.1 in c:\\users\\krishnafractalgenai\\anaconda3\\lib\\site-packages (from requests>=2.31.0->llama-index-core<0.13.0,>=0.12.6->llama-index-vector-stores-postgres) (2.2.3)\n",
      "Requirement already satisfied: certifi>=2017.4.17 in c:\\users\\krishnafractalgenai\\anaconda3\\lib\\site-packages (from requests>=2.31.0->llama-index-core<0.13.0,>=0.12.6->llama-index-vector-stores-postgres) (2025.1.31)\n",
      "Requirement already satisfied: colorama in c:\\users\\krishnafractalgenai\\anaconda3\\lib\\site-packages (from tqdm<5.0.0,>=4.66.1->llama-index-core<0.13.0,>=0.12.6->llama-index-vector-stores-postgres) (0.4.6)\n",
      "Requirement already satisfied: mypy-extensions>=0.3.0 in c:\\users\\krishnafractalgenai\\anaconda3\\lib\\site-packages (from typing-inspect>=0.8.0->llama-index-core<0.13.0,>=0.12.6->llama-index-vector-stores-postgres) (1.0.0)\n",
      "Requirement already satisfied: marshmallow<4.0.0,>=3.18.0 in c:\\users\\krishnafractalgenai\\anaconda3\\lib\\site-packages (from dataclasses-json->llama-index-core<0.13.0,>=0.12.6->llama-index-vector-stores-postgres) (3.26.1)\n",
      "Requirement already satisfied: anyio in c:\\users\\krishnafractalgenai\\anaconda3\\lib\\site-packages (from httpx->llama-index-core<0.13.0,>=0.12.6->llama-index-vector-stores-postgres) (4.2.0)\n",
      "Requirement already satisfied: httpcore==1.* in c:\\users\\krishnafractalgenai\\anaconda3\\lib\\site-packages (from httpx->llama-index-core<0.13.0,>=0.12.6->llama-index-vector-stores-postgres) (1.0.2)\n",
      "Requirement already satisfied: sniffio in c:\\users\\krishnafractalgenai\\anaconda3\\lib\\site-packages (from httpx->llama-index-core<0.13.0,>=0.12.6->llama-index-vector-stores-postgres) (1.3.0)\n",
      "Requirement already satisfied: h11<0.15,>=0.13 in c:\\users\\krishnafractalgenai\\anaconda3\\lib\\site-packages (from httpcore==1.*->httpx->llama-index-core<0.13.0,>=0.12.6->llama-index-vector-stores-postgres) (0.14.0)\n",
      "Requirement already satisfied: packaging>=17.0 in c:\\users\\krishnafractalgenai\\anaconda3\\lib\\site-packages (from marshmallow<4.0.0,>=3.18.0->dataclasses-json->llama-index-core<0.13.0,>=0.12.6->llama-index-vector-stores-postgres) (24.1)\n",
      "Downloading llama_index_vector_stores_postgres-0.4.2-py3-none-any.whl (9.2 kB)\n",
      "Downloading asyncpg-0.30.0-cp312-cp312-win_amd64.whl (621 kB)\n",
      "   ---------------------------------------- 0.0/621.1 kB ? eta -:--:--\n",
      "   --------------------------------------- 621.1/621.1 kB 23.9 MB/s eta 0:00:00\n",
      "Downloading pgvector-0.3.6-py3-none-any.whl (24 kB)\n",
      "Downloading psycopg2_binary-2.9.10-cp312-cp312-win_amd64.whl (1.2 MB)\n",
      "   ---------------------------------------- 0.0/1.2 MB ? eta -:--:--\n",
      "   ---------------------------------------- 1.2/1.2 MB 56.4 MB/s eta 0:00:00\n",
      "Installing collected packages: psycopg2-binary, pgvector, asyncpg, llama-index-vector-stores-postgres\n",
      "Successfully installed asyncpg-0.30.0 llama-index-vector-stores-postgres-0.4.2 pgvector-0.3.6 psycopg2-binary-2.9.10\n"
     ]
    }
   ],
   "source": [
    "!pip install llama-index-vector-stores-postgres"
   ]
  },
  {
   "cell_type": "code",
   "execution_count": 31,
   "id": "047797dc-7129-4c6c-9f50-0f16795faa94",
   "metadata": {
    "collapsed": true,
    "jupyter": {
     "outputs_hidden": true
    },
    "scrolled": true
   },
   "outputs": [
    {
     "name": "stdout",
     "output_type": "stream",
     "text": [
      "Collecting gcloud\n",
      "  Downloading gcloud-0.18.3.tar.gz (454 kB)\n",
      "  Preparing metadata (setup.py): started\n",
      "  Preparing metadata (setup.py): finished with status 'done'\n",
      "Collecting httplib2>=0.9.1 (from gcloud)\n",
      "  Downloading httplib2-0.22.0-py3-none-any.whl.metadata (2.6 kB)\n",
      "Collecting googleapis-common-protos (from gcloud)\n",
      "  Downloading googleapis_common_protos-1.68.0-py2.py3-none-any.whl.metadata (5.1 kB)\n",
      "Collecting oauth2client>=2.0.1 (from gcloud)\n",
      "  Downloading oauth2client-4.1.3-py2.py3-none-any.whl.metadata (1.2 kB)\n",
      "Requirement already satisfied: protobuf!=3.0.0.b2.post1,>=3.0.0b2 in c:\\users\\krishnafractalgenai\\anaconda3\\lib\\site-packages (from gcloud) (4.25.3)\n",
      "Requirement already satisfied: six in c:\\users\\krishnafractalgenai\\anaconda3\\lib\\site-packages (from gcloud) (1.16.0)\n",
      "Requirement already satisfied: pyparsing!=3.0.0,!=3.0.1,!=3.0.2,!=3.0.3,<4,>=2.4.2 in c:\\users\\krishnafractalgenai\\anaconda3\\lib\\site-packages (from httplib2>=0.9.1->gcloud) (3.1.2)\n",
      "Requirement already satisfied: pyasn1>=0.1.7 in c:\\users\\krishnafractalgenai\\anaconda3\\lib\\site-packages (from oauth2client>=2.0.1->gcloud) (0.4.8)\n",
      "Requirement already satisfied: pyasn1-modules>=0.0.5 in c:\\users\\krishnafractalgenai\\anaconda3\\lib\\site-packages (from oauth2client>=2.0.1->gcloud) (0.2.8)\n",
      "Collecting rsa>=3.1.4 (from oauth2client>=2.0.1->gcloud)\n",
      "  Downloading rsa-4.9-py3-none-any.whl.metadata (4.2 kB)\n",
      "Downloading httplib2-0.22.0-py3-none-any.whl (96 kB)\n",
      "Downloading oauth2client-4.1.3-py2.py3-none-any.whl (98 kB)\n",
      "Downloading googleapis_common_protos-1.68.0-py2.py3-none-any.whl (164 kB)\n",
      "Downloading rsa-4.9-py3-none-any.whl (34 kB)\n",
      "Building wheels for collected packages: gcloud\n",
      "  Building wheel for gcloud (setup.py): started\n",
      "  Building wheel for gcloud (setup.py): finished with status 'done'\n",
      "  Created wheel for gcloud: filename=gcloud-0.18.3-py3-none-any.whl size=602977 sha256=b0985e70a1142ebd717ebde2ec116ad31b87b558ab38365459405fda32762c58\n",
      "  Stored in directory: c:\\users\\krishnafractalgenai\\appdata\\local\\pip\\cache\\wheels\\2a\\62\\75\\3d74209bfebb8805823ae74afa28653aa1ea76d8b5a9d741ff\n",
      "Successfully built gcloud\n",
      "Installing collected packages: rsa, httplib2, googleapis-common-protos, oauth2client, gcloud\n",
      "Successfully installed gcloud-0.18.3 googleapis-common-protos-1.68.0 httplib2-0.22.0 oauth2client-4.1.3 rsa-4.9\n",
      "Collecting google-api-python-client\n",
      "  Downloading google_api_python_client-2.162.0-py2.py3-none-any.whl.metadata (6.7 kB)\n",
      "Requirement already satisfied: httplib2<1.dev0,>=0.19.0 in c:\\users\\krishnafractalgenai\\anaconda3\\lib\\site-packages (from google-api-python-client) (0.22.0)\n",
      "Collecting google-auth!=2.24.0,!=2.25.0,<3.0.0.dev0,>=1.32.0 (from google-api-python-client)\n",
      "  Downloading google_auth-2.38.0-py2.py3-none-any.whl.metadata (4.8 kB)\n",
      "Collecting google-auth-httplib2<1.0.0,>=0.2.0 (from google-api-python-client)\n",
      "  Downloading google_auth_httplib2-0.2.0-py2.py3-none-any.whl.metadata (2.2 kB)\n",
      "Collecting google-api-core!=2.0.*,!=2.1.*,!=2.2.*,!=2.3.0,<3.0.0.dev0,>=1.31.5 (from google-api-python-client)\n",
      "  Downloading google_api_core-2.24.1-py3-none-any.whl.metadata (3.0 kB)\n",
      "Collecting uritemplate<5,>=3.0.1 (from google-api-python-client)\n",
      "  Downloading uritemplate-4.1.1-py2.py3-none-any.whl.metadata (2.9 kB)\n",
      "Requirement already satisfied: googleapis-common-protos<2.0.dev0,>=1.56.2 in c:\\users\\krishnafractalgenai\\anaconda3\\lib\\site-packages (from google-api-core!=2.0.*,!=2.1.*,!=2.2.*,!=2.3.0,<3.0.0.dev0,>=1.31.5->google-api-python-client) (1.68.0)\n",
      "Requirement already satisfied: protobuf!=3.20.0,!=3.20.1,!=4.21.0,!=4.21.1,!=4.21.2,!=4.21.3,!=4.21.4,!=4.21.5,<6.0.0.dev0,>=3.19.5 in c:\\users\\krishnafractalgenai\\anaconda3\\lib\\site-packages (from google-api-core!=2.0.*,!=2.1.*,!=2.2.*,!=2.3.0,<3.0.0.dev0,>=1.31.5->google-api-python-client) (4.25.3)\n",
      "Collecting proto-plus<2.0.0dev,>=1.22.3 (from google-api-core!=2.0.*,!=2.1.*,!=2.2.*,!=2.3.0,<3.0.0.dev0,>=1.31.5->google-api-python-client)\n",
      "  Downloading proto_plus-1.26.0-py3-none-any.whl.metadata (2.2 kB)\n",
      "Requirement already satisfied: requests<3.0.0.dev0,>=2.18.0 in c:\\users\\krishnafractalgenai\\anaconda3\\lib\\site-packages (from google-api-core!=2.0.*,!=2.1.*,!=2.2.*,!=2.3.0,<3.0.0.dev0,>=1.31.5->google-api-python-client) (2.32.3)\n",
      "Requirement already satisfied: cachetools<6.0,>=2.0.0 in c:\\users\\krishnafractalgenai\\anaconda3\\lib\\site-packages (from google-auth!=2.24.0,!=2.25.0,<3.0.0.dev0,>=1.32.0->google-api-python-client) (5.3.3)\n",
      "Requirement already satisfied: pyasn1-modules>=0.2.1 in c:\\users\\krishnafractalgenai\\anaconda3\\lib\\site-packages (from google-auth!=2.24.0,!=2.25.0,<3.0.0.dev0,>=1.32.0->google-api-python-client) (0.2.8)\n",
      "Requirement already satisfied: rsa<5,>=3.1.4 in c:\\users\\krishnafractalgenai\\anaconda3\\lib\\site-packages (from google-auth!=2.24.0,!=2.25.0,<3.0.0.dev0,>=1.32.0->google-api-python-client) (4.9)\n",
      "Requirement already satisfied: pyparsing!=3.0.0,!=3.0.1,!=3.0.2,!=3.0.3,<4,>=2.4.2 in c:\\users\\krishnafractalgenai\\anaconda3\\lib\\site-packages (from httplib2<1.dev0,>=0.19.0->google-api-python-client) (3.1.2)\n",
      "Requirement already satisfied: pyasn1<0.5.0,>=0.4.6 in c:\\users\\krishnafractalgenai\\anaconda3\\lib\\site-packages (from pyasn1-modules>=0.2.1->google-auth!=2.24.0,!=2.25.0,<3.0.0.dev0,>=1.32.0->google-api-python-client) (0.4.8)\n",
      "Requirement already satisfied: charset-normalizer<4,>=2 in c:\\users\\krishnafractalgenai\\anaconda3\\lib\\site-packages (from requests<3.0.0.dev0,>=2.18.0->google-api-core!=2.0.*,!=2.1.*,!=2.2.*,!=2.3.0,<3.0.0.dev0,>=1.31.5->google-api-python-client) (3.3.2)\n",
      "Requirement already satisfied: idna<4,>=2.5 in c:\\users\\krishnafractalgenai\\anaconda3\\lib\\site-packages (from requests<3.0.0.dev0,>=2.18.0->google-api-core!=2.0.*,!=2.1.*,!=2.2.*,!=2.3.0,<3.0.0.dev0,>=1.31.5->google-api-python-client) (3.7)\n",
      "Requirement already satisfied: urllib3<3,>=1.21.1 in c:\\users\\krishnafractalgenai\\anaconda3\\lib\\site-packages (from requests<3.0.0.dev0,>=2.18.0->google-api-core!=2.0.*,!=2.1.*,!=2.2.*,!=2.3.0,<3.0.0.dev0,>=1.31.5->google-api-python-client) (2.2.3)\n",
      "Requirement already satisfied: certifi>=2017.4.17 in c:\\users\\krishnafractalgenai\\anaconda3\\lib\\site-packages (from requests<3.0.0.dev0,>=2.18.0->google-api-core!=2.0.*,!=2.1.*,!=2.2.*,!=2.3.0,<3.0.0.dev0,>=1.31.5->google-api-python-client) (2025.1.31)\n",
      "Downloading google_api_python_client-2.162.0-py2.py3-none-any.whl (13.1 MB)\n",
      "   ---------------------------------------- 0.0/13.1 MB ? eta -:--:--\n",
      "   ---------------------------------------- 13.1/13.1 MB 102.5 MB/s eta 0:00:00\n",
      "Downloading google_api_core-2.24.1-py3-none-any.whl (160 kB)\n",
      "Downloading google_auth-2.38.0-py2.py3-none-any.whl (210 kB)\n",
      "Downloading google_auth_httplib2-0.2.0-py2.py3-none-any.whl (9.3 kB)\n",
      "Downloading uritemplate-4.1.1-py2.py3-none-any.whl (10 kB)\n",
      "Downloading proto_plus-1.26.0-py3-none-any.whl (50 kB)\n",
      "Installing collected packages: uritemplate, proto-plus, google-auth, google-auth-httplib2, google-api-core, google-api-python-client\n",
      "Successfully installed google-api-core-2.24.1 google-api-python-client-2.162.0 google-auth-2.38.0 google-auth-httplib2-0.2.0 proto-plus-1.26.0 uritemplate-4.1.1\n"
     ]
    }
   ],
   "source": [
    "!pip install --upgrade gcloud\n",
    "!pip install --upgrade google-api-python-client"
   ]
  },
  {
   "cell_type": "code",
   "execution_count": 34,
   "id": "56460d67-a294-4ca1-b724-58de8e4c3f2a",
   "metadata": {
    "collapsed": true,
    "jupyter": {
     "outputs_hidden": true
    },
    "scrolled": true
   },
   "outputs": [
    {
     "name": "stdout",
     "output_type": "stream",
     "text": [
      "Collecting protoc-gen-openapiv2\n",
      "  Downloading protoc_gen_openapiv2-0.0.1-py3-none-any.whl.metadata (1.5 kB)\n",
      "Requirement already satisfied: googleapis-common-protos in c:\\users\\krishnafractalgenai\\anaconda3\\lib\\site-packages (from protoc-gen-openapiv2) (1.68.0)\n",
      "Requirement already satisfied: protobuf>=4.21.0 in c:\\users\\krishnafractalgenai\\anaconda3\\lib\\site-packages (from protoc-gen-openapiv2) (4.25.3)\n",
      "Downloading protoc_gen_openapiv2-0.0.1-py3-none-any.whl (7.9 kB)\n",
      "Installing collected packages: protoc-gen-openapiv2\n",
      "Successfully installed protoc-gen-openapiv2-0.0.1\n"
     ]
    }
   ],
   "source": [
    "!pip install protoc-gen-openapiv2"
   ]
  },
  {
   "cell_type": "code",
   "execution_count": null,
   "id": "1128f48a-ba8a-40b8-a07b-422e66426bfe",
   "metadata": {},
   "outputs": [
    {
     "name": "stdout",
     "output_type": "stream",
     "text": [
      "Collecting grpcio\n",
      "  Downloading grpcio-1.70.0-cp312-cp312-win_amd64.whl.metadata (4.0 kB)\n",
      "Downloading grpcio-1.70.0-cp312-cp312-win_amd64.whl (4.3 MB)\n",
      "   ---------------------------------------- 0.0/4.3 MB ? eta -:--:--\n",
      "   ---------------------------------------- 4.3/4.3 MB 64.0 MB/s eta 0:00:00\n",
      "Installing collected packages: grpcio\n",
      "Successfully installed grpcio-1.70.0\n"
     ]
    }
   ],
   "source": [
    "!pip install grpcio\n",
    "!pip install grpcio-tools"
   ]
  },
  {
   "cell_type": "code",
   "execution_count": 28,
   "id": "422c37b9-1f2b-4cd4-bfe0-7cb9b7a5706a",
   "metadata": {
    "collapsed": true,
    "jupyter": {
     "outputs_hidden": true
    },
    "scrolled": true
   },
   "outputs": [
    {
     "name": "stdout",
     "output_type": "stream",
     "text": [
      "Collecting llama-index-vector-stores-pinecone\n",
      "  Downloading llama_index_vector_stores_pinecone-0.4.4-py3-none-any.whl.metadata (709 bytes)\n",
      "Requirement already satisfied: llama-index-core<0.13.0,>=0.12.0 in c:\\users\\krishnafractalgenai\\anaconda3\\lib\\site-packages (from llama-index-vector-stores-pinecone) (0.12.22)\n",
      "Collecting pinecone<6.0.0,>=3.2.2 (from llama-index-vector-stores-pinecone)\n",
      "  Downloading pinecone-5.4.2-py3-none-any.whl.metadata (19 kB)\n",
      "Requirement already satisfied: PyYAML>=6.0.1 in c:\\users\\krishnafractalgenai\\anaconda3\\lib\\site-packages (from llama-index-core<0.13.0,>=0.12.0->llama-index-vector-stores-pinecone) (6.0.1)\n",
      "Requirement already satisfied: SQLAlchemy>=1.4.49 in c:\\users\\krishnafractalgenai\\anaconda3\\lib\\site-packages (from SQLAlchemy[asyncio]>=1.4.49->llama-index-core<0.13.0,>=0.12.0->llama-index-vector-stores-pinecone) (2.0.34)\n",
      "Requirement already satisfied: aiohttp<4.0.0,>=3.8.6 in c:\\users\\krishnafractalgenai\\anaconda3\\lib\\site-packages (from llama-index-core<0.13.0,>=0.12.0->llama-index-vector-stores-pinecone) (3.10.5)\n",
      "Requirement already satisfied: dataclasses-json in c:\\users\\krishnafractalgenai\\anaconda3\\lib\\site-packages (from llama-index-core<0.13.0,>=0.12.0->llama-index-vector-stores-pinecone) (0.6.7)\n",
      "Requirement already satisfied: deprecated>=1.2.9.3 in c:\\users\\krishnafractalgenai\\anaconda3\\lib\\site-packages (from llama-index-core<0.13.0,>=0.12.0->llama-index-vector-stores-pinecone) (1.2.18)\n",
      "Requirement already satisfied: dirtyjson<2.0.0,>=1.0.8 in c:\\users\\krishnafractalgenai\\anaconda3\\lib\\site-packages (from llama-index-core<0.13.0,>=0.12.0->llama-index-vector-stores-pinecone) (1.0.8)\n",
      "Requirement already satisfied: filetype<2.0.0,>=1.2.0 in c:\\users\\krishnafractalgenai\\anaconda3\\lib\\site-packages (from llama-index-core<0.13.0,>=0.12.0->llama-index-vector-stores-pinecone) (1.2.0)\n",
      "Requirement already satisfied: fsspec>=2023.5.0 in c:\\users\\krishnafractalgenai\\anaconda3\\lib\\site-packages (from llama-index-core<0.13.0,>=0.12.0->llama-index-vector-stores-pinecone) (2024.6.1)\n",
      "Requirement already satisfied: httpx in c:\\users\\krishnafractalgenai\\anaconda3\\lib\\site-packages (from llama-index-core<0.13.0,>=0.12.0->llama-index-vector-stores-pinecone) (0.27.0)\n",
      "Requirement already satisfied: nest-asyncio<2.0.0,>=1.5.8 in c:\\users\\krishnafractalgenai\\anaconda3\\lib\\site-packages (from llama-index-core<0.13.0,>=0.12.0->llama-index-vector-stores-pinecone) (1.6.0)\n",
      "Requirement already satisfied: networkx>=3.0 in c:\\users\\krishnafractalgenai\\anaconda3\\lib\\site-packages (from llama-index-core<0.13.0,>=0.12.0->llama-index-vector-stores-pinecone) (3.3)\n",
      "Requirement already satisfied: nltk>3.8.1 in c:\\users\\krishnafractalgenai\\anaconda3\\lib\\site-packages (from llama-index-core<0.13.0,>=0.12.0->llama-index-vector-stores-pinecone) (3.9.1)\n",
      "Requirement already satisfied: numpy in c:\\users\\krishnafractalgenai\\anaconda3\\lib\\site-packages (from llama-index-core<0.13.0,>=0.12.0->llama-index-vector-stores-pinecone) (1.26.4)\n",
      "Requirement already satisfied: pillow>=9.0.0 in c:\\users\\krishnafractalgenai\\anaconda3\\lib\\site-packages (from llama-index-core<0.13.0,>=0.12.0->llama-index-vector-stores-pinecone) (10.4.0)\n",
      "Requirement already satisfied: pydantic>=2.8.0 in c:\\users\\krishnafractalgenai\\anaconda3\\lib\\site-packages (from llama-index-core<0.13.0,>=0.12.0->llama-index-vector-stores-pinecone) (2.10.6)\n",
      "Requirement already satisfied: requests>=2.31.0 in c:\\users\\krishnafractalgenai\\anaconda3\\lib\\site-packages (from llama-index-core<0.13.0,>=0.12.0->llama-index-vector-stores-pinecone) (2.32.3)\n",
      "Requirement already satisfied: tenacity!=8.4.0,<10.0.0,>=8.2.0 in c:\\users\\krishnafractalgenai\\anaconda3\\lib\\site-packages (from llama-index-core<0.13.0,>=0.12.0->llama-index-vector-stores-pinecone) (8.2.3)\n",
      "Requirement already satisfied: tiktoken>=0.3.3 in c:\\users\\krishnafractalgenai\\anaconda3\\lib\\site-packages (from llama-index-core<0.13.0,>=0.12.0->llama-index-vector-stores-pinecone) (0.9.0)\n",
      "Requirement already satisfied: tqdm<5.0.0,>=4.66.1 in c:\\users\\krishnafractalgenai\\anaconda3\\lib\\site-packages (from llama-index-core<0.13.0,>=0.12.0->llama-index-vector-stores-pinecone) (4.66.5)\n",
      "Requirement already satisfied: typing-extensions>=4.5.0 in c:\\users\\krishnafractalgenai\\anaconda3\\lib\\site-packages (from llama-index-core<0.13.0,>=0.12.0->llama-index-vector-stores-pinecone) (4.12.2)\n",
      "Requirement already satisfied: typing-inspect>=0.8.0 in c:\\users\\krishnafractalgenai\\anaconda3\\lib\\site-packages (from llama-index-core<0.13.0,>=0.12.0->llama-index-vector-stores-pinecone) (0.9.0)\n",
      "Requirement already satisfied: wrapt in c:\\users\\krishnafractalgenai\\anaconda3\\lib\\site-packages (from llama-index-core<0.13.0,>=0.12.0->llama-index-vector-stores-pinecone) (1.14.1)\n",
      "Requirement already satisfied: certifi>=2019.11.17 in c:\\users\\krishnafractalgenai\\anaconda3\\lib\\site-packages (from pinecone<6.0.0,>=3.2.2->llama-index-vector-stores-pinecone) (2025.1.31)\n",
      "Collecting pinecone-plugin-inference<4.0.0,>=2.0.0 (from pinecone<6.0.0,>=3.2.2->llama-index-vector-stores-pinecone)\n",
      "  Downloading pinecone_plugin_inference-3.1.0-py3-none-any.whl.metadata (2.2 kB)\n",
      "Requirement already satisfied: pinecone-plugin-interface<0.0.8,>=0.0.7 in c:\\users\\krishnafractalgenai\\anaconda3\\lib\\site-packages (from pinecone<6.0.0,>=3.2.2->llama-index-vector-stores-pinecone) (0.0.7)\n",
      "Requirement already satisfied: python-dateutil>=2.5.3 in c:\\users\\krishnafractalgenai\\anaconda3\\lib\\site-packages (from pinecone<6.0.0,>=3.2.2->llama-index-vector-stores-pinecone) (2.9.0.post0)\n",
      "Requirement already satisfied: urllib3>=1.26.5 in c:\\users\\krishnafractalgenai\\anaconda3\\lib\\site-packages (from pinecone<6.0.0,>=3.2.2->llama-index-vector-stores-pinecone) (2.2.3)\n",
      "Requirement already satisfied: aiohappyeyeballs>=2.3.0 in c:\\users\\krishnafractalgenai\\anaconda3\\lib\\site-packages (from aiohttp<4.0.0,>=3.8.6->llama-index-core<0.13.0,>=0.12.0->llama-index-vector-stores-pinecone) (2.4.0)\n",
      "Requirement already satisfied: aiosignal>=1.1.2 in c:\\users\\krishnafractalgenai\\anaconda3\\lib\\site-packages (from aiohttp<4.0.0,>=3.8.6->llama-index-core<0.13.0,>=0.12.0->llama-index-vector-stores-pinecone) (1.2.0)\n",
      "Requirement already satisfied: attrs>=17.3.0 in c:\\users\\krishnafractalgenai\\anaconda3\\lib\\site-packages (from aiohttp<4.0.0,>=3.8.6->llama-index-core<0.13.0,>=0.12.0->llama-index-vector-stores-pinecone) (23.1.0)\n",
      "Requirement already satisfied: frozenlist>=1.1.1 in c:\\users\\krishnafractalgenai\\anaconda3\\lib\\site-packages (from aiohttp<4.0.0,>=3.8.6->llama-index-core<0.13.0,>=0.12.0->llama-index-vector-stores-pinecone) (1.4.0)\n",
      "Requirement already satisfied: multidict<7.0,>=4.5 in c:\\users\\krishnafractalgenai\\anaconda3\\lib\\site-packages (from aiohttp<4.0.0,>=3.8.6->llama-index-core<0.13.0,>=0.12.0->llama-index-vector-stores-pinecone) (6.0.4)\n",
      "Requirement already satisfied: yarl<2.0,>=1.0 in c:\\users\\krishnafractalgenai\\anaconda3\\lib\\site-packages (from aiohttp<4.0.0,>=3.8.6->llama-index-core<0.13.0,>=0.12.0->llama-index-vector-stores-pinecone) (1.11.0)\n",
      "Requirement already satisfied: click in c:\\users\\krishnafractalgenai\\anaconda3\\lib\\site-packages (from nltk>3.8.1->llama-index-core<0.13.0,>=0.12.0->llama-index-vector-stores-pinecone) (8.1.7)\n",
      "Requirement already satisfied: joblib in c:\\users\\krishnafractalgenai\\anaconda3\\lib\\site-packages (from nltk>3.8.1->llama-index-core<0.13.0,>=0.12.0->llama-index-vector-stores-pinecone) (1.4.2)\n",
      "Requirement already satisfied: regex>=2021.8.3 in c:\\users\\krishnafractalgenai\\anaconda3\\lib\\site-packages (from nltk>3.8.1->llama-index-core<0.13.0,>=0.12.0->llama-index-vector-stores-pinecone) (2024.9.11)\n",
      "Requirement already satisfied: annotated-types>=0.6.0 in c:\\users\\krishnafractalgenai\\anaconda3\\lib\\site-packages (from pydantic>=2.8.0->llama-index-core<0.13.0,>=0.12.0->llama-index-vector-stores-pinecone) (0.6.0)\n",
      "Requirement already satisfied: pydantic-core==2.27.2 in c:\\users\\krishnafractalgenai\\anaconda3\\lib\\site-packages (from pydantic>=2.8.0->llama-index-core<0.13.0,>=0.12.0->llama-index-vector-stores-pinecone) (2.27.2)\n",
      "Requirement already satisfied: six>=1.5 in c:\\users\\krishnafractalgenai\\anaconda3\\lib\\site-packages (from python-dateutil>=2.5.3->pinecone<6.0.0,>=3.2.2->llama-index-vector-stores-pinecone) (1.16.0)\n",
      "Requirement already satisfied: charset-normalizer<4,>=2 in c:\\users\\krishnafractalgenai\\anaconda3\\lib\\site-packages (from requests>=2.31.0->llama-index-core<0.13.0,>=0.12.0->llama-index-vector-stores-pinecone) (3.3.2)\n",
      "Requirement already satisfied: idna<4,>=2.5 in c:\\users\\krishnafractalgenai\\anaconda3\\lib\\site-packages (from requests>=2.31.0->llama-index-core<0.13.0,>=0.12.0->llama-index-vector-stores-pinecone) (3.7)\n",
      "Requirement already satisfied: greenlet!=0.4.17 in c:\\users\\krishnafractalgenai\\anaconda3\\lib\\site-packages (from SQLAlchemy>=1.4.49->SQLAlchemy[asyncio]>=1.4.49->llama-index-core<0.13.0,>=0.12.0->llama-index-vector-stores-pinecone) (3.0.1)\n",
      "Requirement already satisfied: colorama in c:\\users\\krishnafractalgenai\\anaconda3\\lib\\site-packages (from tqdm<5.0.0,>=4.66.1->llama-index-core<0.13.0,>=0.12.0->llama-index-vector-stores-pinecone) (0.4.6)\n",
      "Requirement already satisfied: mypy-extensions>=0.3.0 in c:\\users\\krishnafractalgenai\\anaconda3\\lib\\site-packages (from typing-inspect>=0.8.0->llama-index-core<0.13.0,>=0.12.0->llama-index-vector-stores-pinecone) (1.0.0)\n",
      "Requirement already satisfied: marshmallow<4.0.0,>=3.18.0 in c:\\users\\krishnafractalgenai\\anaconda3\\lib\\site-packages (from dataclasses-json->llama-index-core<0.13.0,>=0.12.0->llama-index-vector-stores-pinecone) (3.26.1)\n",
      "Requirement already satisfied: anyio in c:\\users\\krishnafractalgenai\\anaconda3\\lib\\site-packages (from httpx->llama-index-core<0.13.0,>=0.12.0->llama-index-vector-stores-pinecone) (4.2.0)\n",
      "Requirement already satisfied: httpcore==1.* in c:\\users\\krishnafractalgenai\\anaconda3\\lib\\site-packages (from httpx->llama-index-core<0.13.0,>=0.12.0->llama-index-vector-stores-pinecone) (1.0.2)\n",
      "Requirement already satisfied: sniffio in c:\\users\\krishnafractalgenai\\anaconda3\\lib\\site-packages (from httpx->llama-index-core<0.13.0,>=0.12.0->llama-index-vector-stores-pinecone) (1.3.0)\n",
      "Requirement already satisfied: h11<0.15,>=0.13 in c:\\users\\krishnafractalgenai\\anaconda3\\lib\\site-packages (from httpcore==1.*->httpx->llama-index-core<0.13.0,>=0.12.0->llama-index-vector-stores-pinecone) (0.14.0)\n",
      "Requirement already satisfied: packaging>=17.0 in c:\\users\\krishnafractalgenai\\anaconda3\\lib\\site-packages (from marshmallow<4.0.0,>=3.18.0->dataclasses-json->llama-index-core<0.13.0,>=0.12.0->llama-index-vector-stores-pinecone) (24.1)\n",
      "Downloading llama_index_vector_stores_pinecone-0.4.4-py3-none-any.whl (7.8 kB)\n",
      "Downloading pinecone-5.4.2-py3-none-any.whl (427 kB)\n",
      "Downloading pinecone_plugin_inference-3.1.0-py3-none-any.whl (87 kB)\n",
      "Installing collected packages: pinecone-plugin-inference, pinecone, llama-index-vector-stores-pinecone\n",
      "  Attempting uninstall: pinecone\n",
      "    Found existing installation: pinecone 6.0.1\n",
      "    Uninstalling pinecone-6.0.1:\n",
      "      Successfully uninstalled pinecone-6.0.1\n",
      "Successfully installed llama-index-vector-stores-pinecone-0.4.4 pinecone-5.4.2 pinecone-plugin-inference-3.1.0\n"
     ]
    }
   ],
   "source": [
    "!pip install llama-index-vector-stores-pinecone"
   ]
  },
  {
   "cell_type": "code",
   "execution_count": 1,
   "id": "f494a0f9-a3d8-4b75-b410-2803e78e7764",
   "metadata": {},
   "outputs": [],
   "source": [
    "from langchain_community.document_loaders import PyPDFLoader\n",
    "from langchain.text_splitter import RecursiveCharacterTextSplitter\n",
    "from llama_index.core import (\n",
    "    VectorStoreIndex,\n",
    "    SimpleDirectoryReader,\n",
    "    StorageContext,\n",
    ")\n",
    "from llama_index.vector_stores.pinecone import PineconeVectorStore\n",
    "from uuid import uuid4\n",
    "\n",
    "import pinecone\n",
    "# Import the Pinecone library\n",
    "from pinecone.grpc import PineconeGRPC as Pinecone\n",
    "from pinecone import ServerlessSpec\n",
    "import time\n",
    "\n"
   ]
  },
  {
   "cell_type": "code",
   "execution_count": 2,
   "id": "34f12f3a-241e-4c98-87a5-5c2ff6e35124",
   "metadata": {},
   "outputs": [],
   "source": [
    "pinecone_api_key = \"<api_key>\"\n",
    "# Initialize a Pinecone client with your API key\n",
    "pc = Pinecone(api_key=pinecone_api_key)"
   ]
  },
  {
   "cell_type": "code",
   "execution_count": 3,
   "id": "206c9a98-80a2-4ab2-9075-b2959cf2d221",
   "metadata": {},
   "outputs": [],
   "source": [
    "file_path = \"content/Return_policy.pdf\"\n",
    "loader = PyPDFLoader(file_path)\n",
    "pages = []\n",
    "async for page in loader.alazy_load():\n",
    "    pages.append(page)"
   ]
  },
  {
   "cell_type": "code",
   "execution_count": 4,
   "id": "cef2075f-bed0-440e-a0a4-bde06b8b4d06",
   "metadata": {
    "scrolled": true
   },
   "outputs": [
    {
     "name": "stdout",
     "output_type": "stream",
     "text": [
      "{'producer': 'PDFium', 'creator': 'PDFium', 'creationdate': 'D:20250227113353', 'source': 'content/Return_policy.pdf', 'total_pages': 2, 'page': 0, 'page_label': '1'}\n",
      "\n",
      "Return and Exchange Policy  \n",
      "1. General Return and Exchange Policy We offer a 30-day return or exchange policy on \n",
      "all purchases. If you are not satisfied with your purchase, you may return or exchange \n",
      "the item within 30 days of the delivery date, provided the following conditions are met:  \n",
      "• The item is in its original, unworn condition with all tags attached.  \n",
      "• The item is returned in its original packaging.  \n",
      "• A valid proof of purchase (receipt or order confirmation) is provided.  \n",
      "2. Return Process To initiate a return, please follow these steps: \n",
      "• Contact our chatbot via our website or app with your order details. \n",
      "• The chatbot will guide you through the return process and generate a Return \n",
      "Authorization (RA) number. \n",
      "• Pack the item securely and include the RA number inside the package.  \n",
      "• Ship the package using a trackable shipping method.  \n",
      "• Once received and inspected, refunds will be processed within 7-10 business \n",
      "days. \n",
      "3. Exchange Process If you wish to exchange an item for a different size, color, or style: \n",
      "• Follow the return process outlined above using our chatbot.  \n",
      "• Place a new order for the desired item. \n",
      "• Refunds for returned items will be issued separately once the original item is \n",
      "received and inspected. \n",
      "4. Non-Returnable Items The following items are not eligible for return or exchange: \n",
      "• Items marked as \"Final Sale.\" \n",
      "• Gift cards. \n",
      "• Personalized or custom-made items. \n",
      "• Used or damaged items that are not due to manufacturer defects. \n",
      " \n",
      "5. Refund Policy \n",
      "• Refunds will be issued to the original payment method. \n",
      "• Shipping costs are non-refundable unless the return is due to a manufacturing \n",
      "defect or an error on our part. \n",
      "• If the original payment method is no longer available, store credit will be issued.\n"
     ]
    }
   ],
   "source": [
    "print(f\"{pages[0].metadata}\\n\")\n",
    "print(pages[0].page_content)"
   ]
  },
  {
   "cell_type": "code",
   "execution_count": 18,
   "id": "1c7ea140-6d4d-4cc7-8c53-6579e7837b6c",
   "metadata": {},
   "outputs": [],
   "source": [
    "comdoc = pages[0].page_content + pages[1].page_content\n",
    "comdoc = comdoc.replace(\"\\n\",\"\")"
   ]
  },
  {
   "cell_type": "code",
   "execution_count": 19,
   "id": "e94c23ca-994f-4346-8531-adf69340256a",
   "metadata": {},
   "outputs": [],
   "source": [
    "import re\n",
    "\n",
    "def split_string(text: str) -> list:\n",
    "    # Use regex to split by a digit followed by a dot (e.g., \"1.\", \"23.\", etc.)\n",
    "    return re.split(r'(?<=\\d)\\.', text)"
   ]
  },
  {
   "cell_type": "code",
   "execution_count": 20,
   "id": "733a18c3-3f86-415a-a90e-1af22d1bde46",
   "metadata": {},
   "outputs": [],
   "source": [
    "basic = split_string(comdoc)[1:]"
   ]
  },
  {
   "cell_type": "code",
   "execution_count": 21,
   "id": "7644e31b-df2c-4720-b6d6-26d8edf20e4b",
   "metadata": {},
   "outputs": [
    {
     "name": "stdout",
     "output_type": "stream",
     "text": [
      "Combinations (Pairs of 2): [(' General Return and Exchange Policy We offer a 30-day return or exchange policy on all purchases. If you are not satisfied with your purchase, you may return or exchange the item within 30 days of the delivery date, provided the following conditions are met:  • The item is in its original, unworn condition with all tags attached.  • The item is returned in its original packaging.  • A valid proof of purchase (receipt or order confirmation) is provided.  2', ' Return Process To initiate a return, please follow these steps: • Contact our chatbot via our website or app with your order details. • The chatbot will guide you through the return process and generate a Return Authorization (RA) number. • Pack the item securely and include the RA number inside the package.  • Ship the package using a trackable shipping method.  • Once received and inspected, refunds will be processed within 7-10 business days. 3'), (' General Return and Exchange Policy We offer a 30-day return or exchange policy on all purchases. If you are not satisfied with your purchase, you may return or exchange the item within 30 days of the delivery date, provided the following conditions are met:  • The item is in its original, unworn condition with all tags attached.  • The item is returned in its original packaging.  • A valid proof of purchase (receipt or order confirmation) is provided.  2', ' Exchange Process If you wish to exchange an item for a different size, color, or style: • Follow the return process outlined above using our chatbot.  • Place a new order for the desired item. • Refunds for returned items will be issued separately once the original item is received and inspected. 4'), (' General Return and Exchange Policy We offer a 30-day return or exchange policy on all purchases. If you are not satisfied with your purchase, you may return or exchange the item within 30 days of the delivery date, provided the following conditions are met:  • The item is in its original, unworn condition with all tags attached.  • The item is returned in its original packaging.  • A valid proof of purchase (receipt or order confirmation) is provided.  2', ' Non-Returnable Items The following items are not eligible for return or exchange: • Items marked as \"Final Sale.\" • Gift cards. • Personalized or custom-made items. • Used or damaged items that are not due to manufacturer defects.  5'), (' General Return and Exchange Policy We offer a 30-day return or exchange policy on all purchases. If you are not satisfied with your purchase, you may return or exchange the item within 30 days of the delivery date, provided the following conditions are met:  • The item is in its original, unworn condition with all tags attached.  • The item is returned in its original packaging.  • A valid proof of purchase (receipt or order confirmation) is provided.  2', ' Refund Policy • Refunds will be issued to the original payment method. • Shipping costs are non-refundable unless the return is due to a manufacturing defect or an error on our part. • If the original payment method is no longer available, store credit will be issued.6'), (' General Return and Exchange Policy We offer a 30-day return or exchange policy on all purchases. If you are not satisfied with your purchase, you may return or exchange the item within 30 days of the delivery date, provided the following conditions are met:  • The item is in its original, unworn condition with all tags attached.  • The item is returned in its original packaging.  • A valid proof of purchase (receipt or order confirmation) is provided.  2', ' Damaged or Defective Items If you receive a damaged or defective item: • Contact our chatbot within 7 days of delivery and provide photos of the damage.  • A replacement will be sent at no additional cost or a full refund will be issued. • We may request the return of the damaged item before issuing a refund or replacement. 7'), (' General Return and Exchange Policy We offer a 30-day return or exchange policy on all purchases. If you are not satisfied with your purchase, you may return or exchange the item within 30 days of the delivery date, provided the following conditions are met:  • The item is in its original, unworn condition with all tags attached.  • The item is returned in its original packaging.  • A valid proof of purchase (receipt or order confirmation) is provided.  2', ' Payment Policies • We accept major credit/debit cards, PayPal, and other payment methods as listed at checkout. • Orders are charged at the time of purchase. • In case of a refund, the amount will be credited back to the original payment method within 7-10 business days.'), (' Return Process To initiate a return, please follow these steps: • Contact our chatbot via our website or app with your order details. • The chatbot will guide you through the return process and generate a Return Authorization (RA) number. • Pack the item securely and include the RA number inside the package.  • Ship the package using a trackable shipping method.  • Once received and inspected, refunds will be processed within 7-10 business days. 3', ' Exchange Process If you wish to exchange an item for a different size, color, or style: • Follow the return process outlined above using our chatbot.  • Place a new order for the desired item. • Refunds for returned items will be issued separately once the original item is received and inspected. 4'), (' Return Process To initiate a return, please follow these steps: • Contact our chatbot via our website or app with your order details. • The chatbot will guide you through the return process and generate a Return Authorization (RA) number. • Pack the item securely and include the RA number inside the package.  • Ship the package using a trackable shipping method.  • Once received and inspected, refunds will be processed within 7-10 business days. 3', ' Non-Returnable Items The following items are not eligible for return or exchange: • Items marked as \"Final Sale.\" • Gift cards. • Personalized or custom-made items. • Used or damaged items that are not due to manufacturer defects.  5'), (' Return Process To initiate a return, please follow these steps: • Contact our chatbot via our website or app with your order details. • The chatbot will guide you through the return process and generate a Return Authorization (RA) number. • Pack the item securely and include the RA number inside the package.  • Ship the package using a trackable shipping method.  • Once received and inspected, refunds will be processed within 7-10 business days. 3', ' Refund Policy • Refunds will be issued to the original payment method. • Shipping costs are non-refundable unless the return is due to a manufacturing defect or an error on our part. • If the original payment method is no longer available, store credit will be issued.6'), (' Return Process To initiate a return, please follow these steps: • Contact our chatbot via our website or app with your order details. • The chatbot will guide you through the return process and generate a Return Authorization (RA) number. • Pack the item securely and include the RA number inside the package.  • Ship the package using a trackable shipping method.  • Once received and inspected, refunds will be processed within 7-10 business days. 3', ' Damaged or Defective Items If you receive a damaged or defective item: • Contact our chatbot within 7 days of delivery and provide photos of the damage.  • A replacement will be sent at no additional cost or a full refund will be issued. • We may request the return of the damaged item before issuing a refund or replacement. 7'), (' Return Process To initiate a return, please follow these steps: • Contact our chatbot via our website or app with your order details. • The chatbot will guide you through the return process and generate a Return Authorization (RA) number. • Pack the item securely and include the RA number inside the package.  • Ship the package using a trackable shipping method.  • Once received and inspected, refunds will be processed within 7-10 business days. 3', ' Payment Policies • We accept major credit/debit cards, PayPal, and other payment methods as listed at checkout. • Orders are charged at the time of purchase. • In case of a refund, the amount will be credited back to the original payment method within 7-10 business days.'), (' Exchange Process If you wish to exchange an item for a different size, color, or style: • Follow the return process outlined above using our chatbot.  • Place a new order for the desired item. • Refunds for returned items will be issued separately once the original item is received and inspected. 4', ' Non-Returnable Items The following items are not eligible for return or exchange: • Items marked as \"Final Sale.\" • Gift cards. • Personalized or custom-made items. • Used or damaged items that are not due to manufacturer defects.  5'), (' Exchange Process If you wish to exchange an item for a different size, color, or style: • Follow the return process outlined above using our chatbot.  • Place a new order for the desired item. • Refunds for returned items will be issued separately once the original item is received and inspected. 4', ' Refund Policy • Refunds will be issued to the original payment method. • Shipping costs are non-refundable unless the return is due to a manufacturing defect or an error on our part. • If the original payment method is no longer available, store credit will be issued.6'), (' Exchange Process If you wish to exchange an item for a different size, color, or style: • Follow the return process outlined above using our chatbot.  • Place a new order for the desired item. • Refunds for returned items will be issued separately once the original item is received and inspected. 4', ' Damaged or Defective Items If you receive a damaged or defective item: • Contact our chatbot within 7 days of delivery and provide photos of the damage.  • A replacement will be sent at no additional cost or a full refund will be issued. • We may request the return of the damaged item before issuing a refund or replacement. 7'), (' Exchange Process If you wish to exchange an item for a different size, color, or style: • Follow the return process outlined above using our chatbot.  • Place a new order for the desired item. • Refunds for returned items will be issued separately once the original item is received and inspected. 4', ' Payment Policies • We accept major credit/debit cards, PayPal, and other payment methods as listed at checkout. • Orders are charged at the time of purchase. • In case of a refund, the amount will be credited back to the original payment method within 7-10 business days.'), (' Non-Returnable Items The following items are not eligible for return or exchange: • Items marked as \"Final Sale.\" • Gift cards. • Personalized or custom-made items. • Used or damaged items that are not due to manufacturer defects.  5', ' Refund Policy • Refunds will be issued to the original payment method. • Shipping costs are non-refundable unless the return is due to a manufacturing defect or an error on our part. • If the original payment method is no longer available, store credit will be issued.6'), (' Non-Returnable Items The following items are not eligible for return or exchange: • Items marked as \"Final Sale.\" • Gift cards. • Personalized or custom-made items. • Used or damaged items that are not due to manufacturer defects.  5', ' Damaged or Defective Items If you receive a damaged or defective item: • Contact our chatbot within 7 days of delivery and provide photos of the damage.  • A replacement will be sent at no additional cost or a full refund will be issued. • We may request the return of the damaged item before issuing a refund or replacement. 7'), (' Non-Returnable Items The following items are not eligible for return or exchange: • Items marked as \"Final Sale.\" • Gift cards. • Personalized or custom-made items. • Used or damaged items that are not due to manufacturer defects.  5', ' Payment Policies • We accept major credit/debit cards, PayPal, and other payment methods as listed at checkout. • Orders are charged at the time of purchase. • In case of a refund, the amount will be credited back to the original payment method within 7-10 business days.'), (' Refund Policy • Refunds will be issued to the original payment method. • Shipping costs are non-refundable unless the return is due to a manufacturing defect or an error on our part. • If the original payment method is no longer available, store credit will be issued.6', ' Damaged or Defective Items If you receive a damaged or defective item: • Contact our chatbot within 7 days of delivery and provide photos of the damage.  • A replacement will be sent at no additional cost or a full refund will be issued. • We may request the return of the damaged item before issuing a refund or replacement. 7'), (' Refund Policy • Refunds will be issued to the original payment method. • Shipping costs are non-refundable unless the return is due to a manufacturing defect or an error on our part. • If the original payment method is no longer available, store credit will be issued.6', ' Payment Policies • We accept major credit/debit cards, PayPal, and other payment methods as listed at checkout. • Orders are charged at the time of purchase. • In case of a refund, the amount will be credited back to the original payment method within 7-10 business days.'), (' Damaged or Defective Items If you receive a damaged or defective item: • Contact our chatbot within 7 days of delivery and provide photos of the damage.  • A replacement will be sent at no additional cost or a full refund will be issued. • We may request the return of the damaged item before issuing a refund or replacement. 7', ' Payment Policies • We accept major credit/debit cards, PayPal, and other payment methods as listed at checkout. • Orders are charged at the time of purchase. • In case of a refund, the amount will be credited back to the original payment method within 7-10 business days.')]\n"
     ]
    }
   ],
   "source": [
    "from itertools import permutations, combinations\n",
    "\n",
    "def generate_pairs(input_list: list[str]) -> dict[str, list[tuple[str, str]]]:\n",
    "    # Generate permutations and combinations with pairs of two\n",
    "    comb_pairs = list(combinations(input_list, 2))\n",
    "    \n",
    "    return {\n",
    "        \"combinations\": comb_pairs\n",
    "    }\n",
    "\n",
    "result = generate_pairs(basic)\n",
    "print(\"Combinations (Pairs of 2):\", result[\"combinations\"])"
   ]
  },
  {
   "cell_type": "code",
   "execution_count": 23,
   "id": "0b3063f2-d045-4a5e-9f28-e24aff1025ff",
   "metadata": {},
   "outputs": [],
   "source": [
    "comb_docs = []\n",
    "for x in result['combinations']:\n",
    "    comb_docs.append(' '.join(list(x)))"
   ]
  },
  {
   "cell_type": "code",
   "execution_count": 24,
   "id": "50aadfae-1288-4fc7-ae32-b1e208e6d259",
   "metadata": {},
   "outputs": [
    {
     "data": {
      "text/plain": [
       "[' General Return and Exchange Policy We offer a 30-day return or exchange policy on all purchases. If you are not satisfied with your purchase, you may return or exchange the item within 30 days of the delivery date, provided the following conditions are met:  • The item is in its original, unworn condition with all tags attached.  • The item is returned in its original packaging.  • A valid proof of purchase (receipt or order confirmation) is provided.  2  Return Process To initiate a return, please follow these steps: • Contact our chatbot via our website or app with your order details. • The chatbot will guide you through the return process and generate a Return Authorization (RA) number. • Pack the item securely and include the RA number inside the package.  • Ship the package using a trackable shipping method.  • Once received and inspected, refunds will be processed within 7-10 business days. 3',\n",
       " ' General Return and Exchange Policy We offer a 30-day return or exchange policy on all purchases. If you are not satisfied with your purchase, you may return or exchange the item within 30 days of the delivery date, provided the following conditions are met:  • The item is in its original, unworn condition with all tags attached.  • The item is returned in its original packaging.  • A valid proof of purchase (receipt or order confirmation) is provided.  2  Exchange Process If you wish to exchange an item for a different size, color, or style: • Follow the return process outlined above using our chatbot.  • Place a new order for the desired item. • Refunds for returned items will be issued separately once the original item is received and inspected. 4',\n",
       " ' General Return and Exchange Policy We offer a 30-day return or exchange policy on all purchases. If you are not satisfied with your purchase, you may return or exchange the item within 30 days of the delivery date, provided the following conditions are met:  • The item is in its original, unworn condition with all tags attached.  • The item is returned in its original packaging.  • A valid proof of purchase (receipt or order confirmation) is provided.  2  Non-Returnable Items The following items are not eligible for return or exchange: • Items marked as \"Final Sale.\" • Gift cards. • Personalized or custom-made items. • Used or damaged items that are not due to manufacturer defects.  5',\n",
       " ' General Return and Exchange Policy We offer a 30-day return or exchange policy on all purchases. If you are not satisfied with your purchase, you may return or exchange the item within 30 days of the delivery date, provided the following conditions are met:  • The item is in its original, unworn condition with all tags attached.  • The item is returned in its original packaging.  • A valid proof of purchase (receipt or order confirmation) is provided.  2  Refund Policy • Refunds will be issued to the original payment method. • Shipping costs are non-refundable unless the return is due to a manufacturing defect or an error on our part. • If the original payment method is no longer available, store credit will be issued.6',\n",
       " ' General Return and Exchange Policy We offer a 30-day return or exchange policy on all purchases. If you are not satisfied with your purchase, you may return or exchange the item within 30 days of the delivery date, provided the following conditions are met:  • The item is in its original, unworn condition with all tags attached.  • The item is returned in its original packaging.  • A valid proof of purchase (receipt or order confirmation) is provided.  2  Damaged or Defective Items If you receive a damaged or defective item: • Contact our chatbot within 7 days of delivery and provide photos of the damage.  • A replacement will be sent at no additional cost or a full refund will be issued. • We may request the return of the damaged item before issuing a refund or replacement. 7',\n",
       " ' General Return and Exchange Policy We offer a 30-day return or exchange policy on all purchases. If you are not satisfied with your purchase, you may return or exchange the item within 30 days of the delivery date, provided the following conditions are met:  • The item is in its original, unworn condition with all tags attached.  • The item is returned in its original packaging.  • A valid proof of purchase (receipt or order confirmation) is provided.  2  Payment Policies • We accept major credit/debit cards, PayPal, and other payment methods as listed at checkout. • Orders are charged at the time of purchase. • In case of a refund, the amount will be credited back to the original payment method within 7-10 business days.',\n",
       " ' Return Process To initiate a return, please follow these steps: • Contact our chatbot via our website or app with your order details. • The chatbot will guide you through the return process and generate a Return Authorization (RA) number. • Pack the item securely and include the RA number inside the package.  • Ship the package using a trackable shipping method.  • Once received and inspected, refunds will be processed within 7-10 business days. 3  Exchange Process If you wish to exchange an item for a different size, color, or style: • Follow the return process outlined above using our chatbot.  • Place a new order for the desired item. • Refunds for returned items will be issued separately once the original item is received and inspected. 4',\n",
       " ' Return Process To initiate a return, please follow these steps: • Contact our chatbot via our website or app with your order details. • The chatbot will guide you through the return process and generate a Return Authorization (RA) number. • Pack the item securely and include the RA number inside the package.  • Ship the package using a trackable shipping method.  • Once received and inspected, refunds will be processed within 7-10 business days. 3  Non-Returnable Items The following items are not eligible for return or exchange: • Items marked as \"Final Sale.\" • Gift cards. • Personalized or custom-made items. • Used or damaged items that are not due to manufacturer defects.  5',\n",
       " ' Return Process To initiate a return, please follow these steps: • Contact our chatbot via our website or app with your order details. • The chatbot will guide you through the return process and generate a Return Authorization (RA) number. • Pack the item securely and include the RA number inside the package.  • Ship the package using a trackable shipping method.  • Once received and inspected, refunds will be processed within 7-10 business days. 3  Refund Policy • Refunds will be issued to the original payment method. • Shipping costs are non-refundable unless the return is due to a manufacturing defect or an error on our part. • If the original payment method is no longer available, store credit will be issued.6',\n",
       " ' Return Process To initiate a return, please follow these steps: • Contact our chatbot via our website or app with your order details. • The chatbot will guide you through the return process and generate a Return Authorization (RA) number. • Pack the item securely and include the RA number inside the package.  • Ship the package using a trackable shipping method.  • Once received and inspected, refunds will be processed within 7-10 business days. 3  Damaged or Defective Items If you receive a damaged or defective item: • Contact our chatbot within 7 days of delivery and provide photos of the damage.  • A replacement will be sent at no additional cost or a full refund will be issued. • We may request the return of the damaged item before issuing a refund or replacement. 7',\n",
       " ' Return Process To initiate a return, please follow these steps: • Contact our chatbot via our website or app with your order details. • The chatbot will guide you through the return process and generate a Return Authorization (RA) number. • Pack the item securely and include the RA number inside the package.  • Ship the package using a trackable shipping method.  • Once received and inspected, refunds will be processed within 7-10 business days. 3  Payment Policies • We accept major credit/debit cards, PayPal, and other payment methods as listed at checkout. • Orders are charged at the time of purchase. • In case of a refund, the amount will be credited back to the original payment method within 7-10 business days.',\n",
       " ' Exchange Process If you wish to exchange an item for a different size, color, or style: • Follow the return process outlined above using our chatbot.  • Place a new order for the desired item. • Refunds for returned items will be issued separately once the original item is received and inspected. 4  Non-Returnable Items The following items are not eligible for return or exchange: • Items marked as \"Final Sale.\" • Gift cards. • Personalized or custom-made items. • Used or damaged items that are not due to manufacturer defects.  5',\n",
       " ' Exchange Process If you wish to exchange an item for a different size, color, or style: • Follow the return process outlined above using our chatbot.  • Place a new order for the desired item. • Refunds for returned items will be issued separately once the original item is received and inspected. 4  Refund Policy • Refunds will be issued to the original payment method. • Shipping costs are non-refundable unless the return is due to a manufacturing defect or an error on our part. • If the original payment method is no longer available, store credit will be issued.6',\n",
       " ' Exchange Process If you wish to exchange an item for a different size, color, or style: • Follow the return process outlined above using our chatbot.  • Place a new order for the desired item. • Refunds for returned items will be issued separately once the original item is received and inspected. 4  Damaged or Defective Items If you receive a damaged or defective item: • Contact our chatbot within 7 days of delivery and provide photos of the damage.  • A replacement will be sent at no additional cost or a full refund will be issued. • We may request the return of the damaged item before issuing a refund or replacement. 7',\n",
       " ' Exchange Process If you wish to exchange an item for a different size, color, or style: • Follow the return process outlined above using our chatbot.  • Place a new order for the desired item. • Refunds for returned items will be issued separately once the original item is received and inspected. 4  Payment Policies • We accept major credit/debit cards, PayPal, and other payment methods as listed at checkout. • Orders are charged at the time of purchase. • In case of a refund, the amount will be credited back to the original payment method within 7-10 business days.',\n",
       " ' Non-Returnable Items The following items are not eligible for return or exchange: • Items marked as \"Final Sale.\" • Gift cards. • Personalized or custom-made items. • Used or damaged items that are not due to manufacturer defects.  5  Refund Policy • Refunds will be issued to the original payment method. • Shipping costs are non-refundable unless the return is due to a manufacturing defect or an error on our part. • If the original payment method is no longer available, store credit will be issued.6',\n",
       " ' Non-Returnable Items The following items are not eligible for return or exchange: • Items marked as \"Final Sale.\" • Gift cards. • Personalized or custom-made items. • Used or damaged items that are not due to manufacturer defects.  5  Damaged or Defective Items If you receive a damaged or defective item: • Contact our chatbot within 7 days of delivery and provide photos of the damage.  • A replacement will be sent at no additional cost or a full refund will be issued. • We may request the return of the damaged item before issuing a refund or replacement. 7',\n",
       " ' Non-Returnable Items The following items are not eligible for return or exchange: • Items marked as \"Final Sale.\" • Gift cards. • Personalized or custom-made items. • Used or damaged items that are not due to manufacturer defects.  5  Payment Policies • We accept major credit/debit cards, PayPal, and other payment methods as listed at checkout. • Orders are charged at the time of purchase. • In case of a refund, the amount will be credited back to the original payment method within 7-10 business days.',\n",
       " ' Refund Policy • Refunds will be issued to the original payment method. • Shipping costs are non-refundable unless the return is due to a manufacturing defect or an error on our part. • If the original payment method is no longer available, store credit will be issued.6  Damaged or Defective Items If you receive a damaged or defective item: • Contact our chatbot within 7 days of delivery and provide photos of the damage.  • A replacement will be sent at no additional cost or a full refund will be issued. • We may request the return of the damaged item before issuing a refund or replacement. 7',\n",
       " ' Refund Policy • Refunds will be issued to the original payment method. • Shipping costs are non-refundable unless the return is due to a manufacturing defect or an error on our part. • If the original payment method is no longer available, store credit will be issued.6  Payment Policies • We accept major credit/debit cards, PayPal, and other payment methods as listed at checkout. • Orders are charged at the time of purchase. • In case of a refund, the amount will be credited back to the original payment method within 7-10 business days.',\n",
       " ' Damaged or Defective Items If you receive a damaged or defective item: • Contact our chatbot within 7 days of delivery and provide photos of the damage.  • A replacement will be sent at no additional cost or a full refund will be issued. • We may request the return of the damaged item before issuing a refund or replacement. 7  Payment Policies • We accept major credit/debit cards, PayPal, and other payment methods as listed at checkout. • Orders are charged at the time of purchase. • In case of a refund, the amount will be credited back to the original payment method within 7-10 business days.']"
      ]
     },
     "execution_count": 24,
     "metadata": {},
     "output_type": "execute_result"
    }
   ],
   "source": [
    "comb_docs"
   ]
  },
  {
   "cell_type": "code",
   "execution_count": 25,
   "id": "ec71a3de-e06a-4a16-9e24-dcb73ca0b861",
   "metadata": {},
   "outputs": [],
   "source": [
    "for x in pages:\n",
    "    x.page_content = x.page_content.replace('\\n','')"
   ]
  },
  {
   "cell_type": "code",
   "execution_count": 26,
   "id": "4d1adab0-4b73-4c93-97d2-c1c9b0554534",
   "metadata": {},
   "outputs": [],
   "source": [
    "documents = pages"
   ]
  },
  {
   "cell_type": "code",
   "execution_count": 29,
   "id": "5a01dd4f-5c18-473c-843c-477cdd2403ae",
   "metadata": {},
   "outputs": [
    {
     "name": "stdout",
     "output_type": "stream",
     "text": [
      "11\n"
     ]
    }
   ],
   "source": [
    "def split_docs(documents,chunk_size=400,chunk_overlap=200):\n",
    "  text_splitter = RecursiveCharacterTextSplitter(chunk_size=chunk_size, chunk_overlap=chunk_overlap)\n",
    "  docs = text_splitter.split_documents(documents)\n",
    "  return docs\n",
    "\n",
    "docs = split_docs(documents)\n",
    "print(len(docs))"
   ]
  },
  {
   "cell_type": "code",
   "execution_count": 31,
   "id": "d185e7aa-082a-4030-a130-b993dbd1c611",
   "metadata": {},
   "outputs": [
    {
     "data": {
      "text/plain": [
       "['Return and Exchange Policy  1. General Return and Exchange Policy We offer a 30-day return or exchange policy on all purchases. If you are not satisfied with your purchase, you may return or exchange the item within 30 days of the delivery date, provided the following conditions are met:  • The item is in its original, unworn condition with all tags attached.  • The item is returned in its',\n",
       " 'the item within 30 days of the delivery date, provided the following conditions are met:  • The item is in its original, unworn condition with all tags attached.  • The item is returned in its original packaging.  • A valid proof of purchase (receipt or order confirmation) is provided.  2. Return Process To initiate a return, please follow these steps: • Contact our chatbot via our website or app',\n",
       " 'packaging.  • A valid proof of purchase (receipt or order confirmation) is provided.  2. Return Process To initiate a return, please follow these steps: • Contact our chatbot via our website or app with your order details. • The chatbot will guide you through the return process and generate a Return Authorization (RA) number. • Pack the item securely and include the RA number inside the package.',\n",
       " 'your order details. • The chatbot will guide you through the return process and generate a Return Authorization (RA) number. • Pack the item securely and include the RA number inside the package.  • Ship the package using a trackable shipping method.  • Once received and inspected, refunds will be processed within 7-10 business days. 3. Exchange Process If you wish to exchange an item for a',\n",
       " '• Ship the package using a trackable shipping method.  • Once received and inspected, refunds will be processed within 7-10 business days. 3. Exchange Process If you wish to exchange an item for a different size, color, or style: • Follow the return process outlined above using our chatbot.  • Place a new order for the desired item. • Refunds for returned items will be issued separately once the',\n",
       " 'size, color, or style: • Follow the return process outlined above using our chatbot.  • Place a new order for the desired item. • Refunds for returned items will be issued separately once the original item is received and inspected. 4. Non-Returnable Items The following items are not eligible for return or exchange: • Items marked as \"Final Sale.\" • Gift cards. • Personalized or custom-made',\n",
       " 'item is received and inspected. 4. Non-Returnable Items The following items are not eligible for return or exchange: • Items marked as \"Final Sale.\" • Gift cards. • Personalized or custom-made items. • Used or damaged items that are not due to manufacturer defects.  5. Refund Policy • Refunds will be issued to the original payment method. • Shipping costs are non-refundable unless the return is',\n",
       " '• Used or damaged items that are not due to manufacturer defects.  5. Refund Policy • Refunds will be issued to the original payment method. • Shipping costs are non-refundable unless the return is due to a manufacturing defect or an error on our part. • If the original payment method is no longer available, store credit will be issued.',\n",
       " '6. Damaged or Defective Items If you receive a damaged or defective item: • Contact our chatbot within 7 days of delivery and provide photos of the damage.  • A replacement will be sent at no additional cost or a full refund will be issued. • We may request the return of the damaged item before issuing a refund or replacement. 7. Payment Policies • We accept major credit/debit cards, PayPal, and',\n",
       " 'cost or a full refund will be issued. • We may request the return of the damaged item before issuing a refund or replacement. 7. Payment Policies • We accept major credit/debit cards, PayPal, and other payment methods as listed at checkout. • Orders are charged at the time of purchase. • In case of a refund, the amount will be credited back to the original payment method within 7-10 business',\n",
       " 'other payment methods as listed at checkout. • Orders are charged at the time of purchase. • In case of a refund, the amount will be credited back to the original payment method within 7-10 business days.']"
      ]
     },
     "execution_count": 31,
     "metadata": {},
     "output_type": "execute_result"
    }
   ],
   "source": [
    "recursive_docs = [x.page_content for x in docs]\n",
    "recursive_docs"
   ]
  },
  {
   "cell_type": "code",
   "execution_count": 32,
   "id": "59e5f24d-a617-4c06-a823-9975bf7208c2",
   "metadata": {},
   "outputs": [],
   "source": [
    "# We use only the logically created documents instead of the recursive doct as it misses context.\n",
    "all_docs_combs = comb_docs # + recursive_docs"
   ]
  },
  {
   "cell_type": "code",
   "execution_count": 33,
   "id": "3ece8eb4-d1ae-4418-9e45-28dcce8b2fe2",
   "metadata": {},
   "outputs": [
    {
     "name": "stdout",
     "output_type": "stream",
     "text": [
      "EmbeddingsList(\n",
      "  model='multilingual-e5-large',\n",
      "  vector_type='dense',\n",
      "  data=[\n",
      "    {'vector_type': dense, 'values': [0.032318115234375, -0.0245208740234375, ..., -0.043701171875, -0.0189208984375]},\n",
      "    {'vector_type': dense, 'values': [0.0187835693359375, -0.026580810546875, ..., -0.05072021484375, -0.0261688232421875]},\n",
      "    ... (28 more embeddings) ...,\n",
      "    {'vector_type': dense, 'values': [0.0220489501953125, -0.0161590576171875, ..., -0.05267333984375, -0.01396942138671875]},\n",
      "    {'vector_type': dense, 'values': [0.0243377685546875, -0.018035888671875, ..., -0.057098388671875, -0.039794921875]}\n",
      "  ],\n",
      "  usage={'total_tokens': 4200}\n",
      ")\n"
     ]
    }
   ],
   "source": [
    "# Convert the text into numerical vectors that Pinecone can index\n",
    "embeddings = pc.inference.embed(\n",
    "    model=\"multilingual-e5-large\",\n",
    "    inputs=all_docs_combs,\n",
    "    parameters={\n",
    "        \"input_type\": \"passage\", \n",
    "        \"truncate\": \"END\"\n",
    "    }\n",
    ")\n",
    "\n",
    "print(embeddings)"
   ]
  },
  {
   "cell_type": "code",
   "execution_count": 34,
   "id": "bd8b01f7-b1e9-4e71-8c20-d562ecb7ed19",
   "metadata": {},
   "outputs": [
    {
     "data": {
      "text/plain": [
       "[{'vector_type': dense, 'values': [0.032318115234375, -0.0245208740234375, ..., -0.043701171875, -0.0189208984375]},\n",
       " {'vector_type': dense, 'values': [0.0187835693359375, -0.026580810546875, ..., -0.05072021484375, -0.0261688232421875]},\n",
       " {'vector_type': dense, 'values': [0.02587890625, -0.0278472900390625, ..., -0.061431884765625, -0.03155517578125]},\n",
       " {'vector_type': dense, 'values': [0.0205535888671875, -0.033203125, ..., -0.06494140625, -0.0276031494140625]},\n",
       " {'vector_type': dense, 'values': [0.0207366943359375, -0.03167724609375, ..., -0.05474853515625, -0.028839111328125]},\n",
       " {'vector_type': dense, 'values': [0.01763916015625, -0.03460693359375, ..., -0.06732177734375, -0.039215087890625]},\n",
       " {'vector_type': dense, 'values': [0.031768798828125, -0.01363372802734375, ..., -0.03338623046875, -0.01367950439453125]},\n",
       " {'vector_type': dense, 'values': [0.04278564453125, -0.0128631591796875, ..., -0.041351318359375, -0.0186309814453125]},\n",
       " {'vector_type': dense, 'values': [0.033660888671875, -0.0175018310546875, ..., -0.0428466796875, -0.0139312744140625]},\n",
       " {'vector_type': dense, 'values': [0.0335693359375, -0.016387939453125, ..., -0.039276123046875, -0.015899658203125]},\n",
       " {'vector_type': dense, 'values': [0.031707763671875, -0.0181732177734375, ..., -0.04461669921875, -0.020751953125]},\n",
       " {'vector_type': dense, 'values': [0.03167724609375, -0.0200958251953125, ..., -0.04095458984375, -0.0201568603515625]},\n",
       " {'vector_type': dense, 'values': [0.0150146484375, -0.025390625, ..., -0.039947509765625, -0.0105743408203125]},\n",
       " {'vector_type': dense, 'values': [0.024200439453125, -0.02398681640625, ..., -0.0377197265625, -0.019500732421875]},\n",
       " {'vector_type': dense, 'values': [0.0167388916015625, -0.022705078125, ..., -0.048095703125, -0.031463623046875]},\n",
       " {'vector_type': dense, 'values': [0.036712646484375, -0.0215606689453125, ..., -0.06390380859375, -0.023284912109375]},\n",
       " {'vector_type': dense, 'values': [0.041656494140625, -0.0202178955078125, ..., -0.055419921875, -0.025390625]},\n",
       " {'vector_type': dense, 'values': [0.03509521484375, -0.020111083984375, ..., -0.06817626953125, -0.03826904296875]},\n",
       " {'vector_type': dense, 'values': [0.024810791015625, -0.026611328125, ..., -0.0511474609375, -0.016754150390625]},\n",
       " {'vector_type': dense, 'values': [0.0193939208984375, -0.023468017578125, ..., -0.061553955078125, -0.022491455078125]},\n",
       " {'vector_type': dense, 'values': [0.0194091796875, -0.027557373046875, ..., -0.059356689453125, -0.0343017578125]},\n",
       " {'vector_type': dense, 'values': [0.0215911865234375, -0.049224853515625, ..., -0.060455322265625, -0.040252685546875]},\n",
       " {'vector_type': dense, 'values': [0.0185089111328125, -0.01904296875, ..., -0.04901123046875, -0.02386474609375]},\n",
       " {'vector_type': dense, 'values': [0.04400634765625, -0.0107574462890625, ..., -0.037445068359375, -0.00835418701171875]},\n",
       " {'vector_type': dense, 'values': [0.037384033203125, -0.014129638671875, ..., -0.041900634765625, -0.02447509765625]},\n",
       " {'vector_type': dense, 'values': [0.016998291015625, -0.0181732177734375, ..., -0.045989990234375, -0.0322265625]},\n",
       " {'vector_type': dense, 'values': [0.035369873046875, -0.012542724609375, ..., -0.04583740234375, -0.017547607421875]},\n",
       " {'vector_type': dense, 'values': [0.03570556640625, -0.0219573974609375, ..., -0.04315185546875, -0.0162200927734375]},\n",
       " {'vector_type': dense, 'values': [0.024322509765625, -0.034576416015625, ..., -0.05224609375, -0.013885498046875]},\n",
       " {'vector_type': dense, 'values': [0.02130126953125, -0.0231781005859375, ..., -0.055267333984375, -0.0266265869140625]},\n",
       " {'vector_type': dense, 'values': [0.0220489501953125, -0.0161590576171875, ..., -0.05267333984375, -0.01396942138671875]},\n",
       " {'vector_type': dense, 'values': [0.0243377685546875, -0.018035888671875, ..., -0.057098388671875, -0.039794921875]}]"
      ]
     },
     "execution_count": 34,
     "metadata": {},
     "output_type": "execute_result"
    }
   ],
   "source": [
    "embeddings.data"
   ]
  },
  {
   "cell_type": "code",
   "execution_count": 5,
   "id": "169c1482-5fdc-4cab-96a3-5c95f78fbce7",
   "metadata": {},
   "outputs": [],
   "source": [
    "# Create a serverless index\n",
    "index_name = \"genaihackathon\"\n",
    "\n",
    "if not pc.has_index(index_name):\n",
    "    pc.create_index(\n",
    "        name=index_name,\n",
    "        dimension=1024,\n",
    "        metric=\"cosine\",\n",
    "        spec=ServerlessSpec(\n",
    "            cloud=\"aws\", \n",
    "            region=\"us-east-1\"\n",
    "        ) \n",
    "    ) \n",
    "\n",
    "# Wait for the index to be ready\n",
    "while not pc.describe_index(index_name).status['ready']:\n",
    "    time.sleep(1)"
   ]
  },
  {
   "cell_type": "code",
   "execution_count": 37,
   "id": "c30f8307-a4e3-4237-af81-850609f3e101",
   "metadata": {},
   "outputs": [],
   "source": [
    "ids = [str(uuid4()) for x in range(0,len(all_docs_combs))]\n",
    "dict_doc = {ids[x]:all_docs_combs[x] for x in range(0,len(all_docs_combs))}"
   ]
  },
  {
   "cell_type": "code",
   "execution_count": 38,
   "id": "514ff5ba-2aec-4b32-b27f-32aae18a13d8",
   "metadata": {},
   "outputs": [
    {
     "name": "stdout",
     "output_type": "stream",
     "text": [
      "f9af94bc-b514-44c3-9acf-738cbeb1ba69\n",
      "84ddbb65-ee8d-44bb-a17d-2b6c91728573\n",
      "0b61e720-2783-4b0e-9a2b-1e4efbf15074\n",
      "1dc158a3-4705-487b-ad47-a0b2d8c11525\n",
      "e71b805e-0da6-4efb-b85f-519f6ee95c6b\n",
      "09761020-103d-473d-b78d-d6d7fffb2947\n",
      "00b4f2f0-dd92-4057-b0d0-ec93f9afdc90\n",
      "f3a3dc13-1d10-416f-b92d-d274c7b52489\n",
      "81354713-d71d-4f92-88bd-a581aee8f2e6\n",
      "a2c944e4-c925-44a2-b81c-8eeea7990354\n",
      "13f836d0-60c1-4120-9e00-65ba65dd1756\n",
      "9e0d4f15-b8d9-463f-936b-1650f45827fc\n",
      "e61f641a-8d8b-45d8-be61-479736a0d946\n",
      "bd5e8e3a-0a48-47c0-a018-2fb34c067615\n",
      "60219cc6-4518-44a5-bcbe-187641965687\n",
      "21d121df-8b08-49ab-b8da-3ec070714dd6\n",
      "c0d5e257-06fd-460b-b7a8-e6aac0c56d24\n",
      "d4f23897-5e2f-4188-af08-fcc367ed4f4e\n",
      "8ca3713c-13bb-46dd-9513-bcb02511fac2\n",
      "06f5e82c-3ef7-4436-bbde-f386157424ff\n",
      "4d67478d-f1ae-4d2e-a90f-da6d0cdd22a6\n",
      "ef7b1091-c2cb-4dbe-b6d0-df8f47a534ad\n",
      "92adc57d-15af-44c3-9701-393559a40a52\n",
      "c85ad0dd-9228-4426-835d-65a520f96940\n",
      "5ebc98c4-253f-477f-8b57-002efeee0946\n",
      "3ca3eb4c-02a2-4c9f-96ae-30589b1e3bfd\n",
      "ae45e0bf-4894-47b6-aa0b-fe3214aef59d\n",
      "68c894a4-01f2-4789-8aa4-69e522dea1ac\n",
      "0f1deb9f-3e85-441d-9cab-ea402bdba0af\n",
      "b5934d62-8631-4fd8-a418-98f090f2f044\n",
      "fcd2212f-3143-45a8-beda-6eceb9cb4ee8\n",
      "188ae448-1280-489f-965c-3d434ab58de0\n"
     ]
    }
   ],
   "source": [
    "for x in dict_doc:\n",
    "    print(x)"
   ]
  },
  {
   "cell_type": "code",
   "execution_count": 3,
   "id": "e63c9d48-d9c6-4fbc-aaf1-3fa764257614",
   "metadata": {},
   "outputs": [
    {
     "ename": "NameError",
     "evalue": "name 'dict_doc' is not defined",
     "output_type": "error",
     "traceback": [
      "\u001b[1;31m---------------------------------------------------------------------------\u001b[0m",
      "\u001b[1;31mNameError\u001b[0m                                 Traceback (most recent call last)",
      "Cell \u001b[1;32mIn[3], line 7\u001b[0m\n\u001b[0;32m      4\u001b[0m     \u001b[38;5;28;01mwith\u001b[39;00m \u001b[38;5;28mopen\u001b[39m(filename, \u001b[38;5;124m'\u001b[39m\u001b[38;5;124mw\u001b[39m\u001b[38;5;124m'\u001b[39m, encoding\u001b[38;5;241m=\u001b[39m\u001b[38;5;124m'\u001b[39m\u001b[38;5;124mutf-8\u001b[39m\u001b[38;5;124m'\u001b[39m) \u001b[38;5;28;01mas\u001b[39;00m json_file:\n\u001b[0;32m      5\u001b[0m         json\u001b[38;5;241m.\u001b[39mdump(data, json_file, indent\u001b[38;5;241m=\u001b[39m\u001b[38;5;241m4\u001b[39m, ensure_ascii\u001b[38;5;241m=\u001b[39m\u001b[38;5;28;01mFalse\u001b[39;00m)\n\u001b[1;32m----> 7\u001b[0m save_dict_to_json(dict_doc, \u001b[38;5;124m'\u001b[39m\u001b[38;5;124mcontext.json\u001b[39m\u001b[38;5;124m'\u001b[39m)\n",
      "\u001b[1;31mNameError\u001b[0m: name 'dict_doc' is not defined"
     ]
    }
   ],
   "source": [
    "import json\n",
    "\n",
    "def save_dict_to_json(data: dict, filename: str) -> None:\n",
    "    with open(filename, 'w', encoding='utf-8') as json_file:\n",
    "        json.dump(data, json_file, indent=4, ensure_ascii=False)\n",
    "\n",
    "save_dict_to_json(dict_doc, 'context.json')"
   ]
  },
  {
   "cell_type": "code",
   "execution_count": 11,
   "id": "d5cfb9ea-60a6-43f0-bd0b-fad51c162f99",
   "metadata": {},
   "outputs": [],
   "source": [
    "with open('app/context.json', 'r') as j:\n",
    "     dict_doc = json.loads(j.read())"
   ]
  },
  {
   "cell_type": "code",
   "execution_count": 12,
   "id": "4c1ce001-488d-4b62-8967-b3de09237e3a",
   "metadata": {},
   "outputs": [
    {
     "ename": "NameError",
     "evalue": "name 'embeddings' is not defined",
     "output_type": "error",
     "traceback": [
      "\u001b[1;31m---------------------------------------------------------------------------\u001b[0m",
      "\u001b[1;31mNameError\u001b[0m                                 Traceback (most recent call last)",
      "Cell \u001b[1;32mIn[12], line 10\u001b[0m\n\u001b[0;32m      6\u001b[0m \u001b[38;5;66;03m# Prepare the records for upsert\u001b[39;00m\n\u001b[0;32m      7\u001b[0m \u001b[38;5;66;03m# Each contains an 'id', the vector 'values', \u001b[39;00m\n\u001b[0;32m      8\u001b[0m \u001b[38;5;66;03m# and the original text and category as 'metadata'\u001b[39;00m\n\u001b[0;32m      9\u001b[0m records \u001b[38;5;241m=\u001b[39m []\n\u001b[1;32m---> 10\u001b[0m \u001b[38;5;28;01mfor\u001b[39;00m d, e \u001b[38;5;129;01min\u001b[39;00m \u001b[38;5;28mzip\u001b[39m(dict_doc, embeddings):\n\u001b[0;32m     11\u001b[0m     records\u001b[38;5;241m.\u001b[39mappend({\n\u001b[0;32m     12\u001b[0m         \u001b[38;5;124m\"\u001b[39m\u001b[38;5;124mid\u001b[39m\u001b[38;5;124m\"\u001b[39m:d,\n\u001b[0;32m     13\u001b[0m         \u001b[38;5;124m\"\u001b[39m\u001b[38;5;124mvalues\u001b[39m\u001b[38;5;124m\"\u001b[39m: e[\u001b[38;5;124m\"\u001b[39m\u001b[38;5;124mvalues\u001b[39m\u001b[38;5;124m\"\u001b[39m]\n\u001b[0;32m     14\u001b[0m     })\n\u001b[0;32m     16\u001b[0m \u001b[38;5;66;03m# Upsert the records into the index\u001b[39;00m\n",
      "\u001b[1;31mNameError\u001b[0m: name 'embeddings' is not defined"
     ]
    }
   ],
   "source": [
    "# Target the index\n",
    "# In production, target an index by its unique DNS host, not by its name\n",
    "# See https://docs.pinecone.io/guides/data/target-an-index\n",
    "index = pc.Index(index_name)\n",
    "\n",
    "# Prepare the records for upsert\n",
    "# Each contains an 'id', the vector 'values', \n",
    "# and the original text and category as 'metadata'\n",
    "records = []\n",
    "for d, e in zip(dict_doc, embeddings):\n",
    "    records.append({\n",
    "        \"id\":d,\n",
    "        \"values\": e[\"values\"]\n",
    "    })\n",
    "\n",
    "# Upsert the records into the index\n",
    "index.upsert(\n",
    "    vectors=records,\n",
    "    namespace=index_name\n",
    ")"
   ]
  },
  {
   "cell_type": "code",
   "execution_count": 40,
   "id": "7b488ab6-b7e6-45a1-a586-ab5c03636566",
   "metadata": {},
   "outputs": [
    {
     "name": "stdout",
     "output_type": "stream",
     "text": [
      "{'dimension': 1024,\n",
      " 'index_fullness': 0.0,\n",
      " 'namespaces': {'genaihackathon': {'vector_count': 0}},\n",
      " 'total_vector_count': 0}\n"
     ]
    }
   ],
   "source": [
    "print(index.describe_index_stats())"
   ]
  },
  {
   "cell_type": "code",
   "execution_count": 41,
   "id": "603d0365-be2b-4780-8e8f-856a0a2dd720",
   "metadata": {},
   "outputs": [
    {
     "name": "stdout",
     "output_type": "stream",
     "text": [
      "Results obtained.\n"
     ]
    }
   ],
   "source": [
    "# Define your query\n",
    "query = \"Could you tell me about payment methods and return policies?\"\n",
    "\n",
    "# Convert the query into a numerical vector that Pinecone can search with\n",
    "query_embedding = pc.inference.embed(\n",
    "    model=\"multilingual-e5-large\",\n",
    "    inputs=[query],\n",
    "    parameters={\n",
    "        \"input_type\": \"query\"\n",
    "    }\n",
    ")\n",
    "\n",
    "# Search the index for the three most similar vectors\n",
    "results = index.query(\n",
    "    namespace=index_name,\n",
    "    vector=query_embedding[0].values,\n",
    "    top_k=3,\n",
    "    include_values=False,\n",
    "    include_metadata=True\n",
    ")\n",
    "print('Results obtained.')\n"
   ]
  },
  {
   "cell_type": "code",
   "execution_count": 42,
   "id": "a59401ed-2a46-4821-8c8b-4c9f5f58a03f",
   "metadata": {},
   "outputs": [
    {
     "name": "stdout",
     "output_type": "stream",
     "text": [
      " Refund Policy • Refunds will be issued to the original payment method. • Shipping costs are non-refundable unless the return is due to a manufacturing defect or an error on our part. • If the original payment method is no longer available, store credit will be issued.6  Payment Policies • We accept major credit/debit cards, PayPal, and other payment methods as listed at checkout. • Orders are charged at the time of purchase. • In case of a refund, the amount will be credited back to the original payment method within 7-10 business days.\n",
      "{'matches': [{'id': '06f5e82c-3ef7-4436-bbde-f386157424ff',\n",
      "              'metadata': None,\n",
      "              'score': 0.8692066,\n",
      "              'sparse_values': {'indices': [], 'values': []},\n",
      "              'values': []},\n",
      "             {'id': '09761020-103d-473d-b78d-d6d7fffb2947',\n",
      "              'metadata': None,\n",
      "              'score': 0.8651732,\n",
      "              'sparse_values': {'indices': [], 'values': []},\n",
      "              'values': []},\n",
      "             {'id': 'fcd2212f-3143-45a8-beda-6eceb9cb4ee8',\n",
      "              'metadata': None,\n",
      "              'score': 0.86136055,\n",
      "              'sparse_values': {'indices': [], 'values': []},\n",
      "              'values': []}],\n",
      " 'namespace': 'genaihackathon',\n",
      " 'usage': {'read_units': 6}}\n"
     ]
    }
   ],
   "source": [
    "top_result_uuid = results['matches'][0]['id']\n",
    "print(dict_doc[top_result_uuid])\n",
    "print(results)"
   ]
  },
  {
   "cell_type": "code",
   "execution_count": 12,
   "id": "ff4d0ad7-ee9c-41a6-9be7-2e07ef54d243",
   "metadata": {},
   "outputs": [],
   "source": []
  },
  {
   "cell_type": "code",
   "execution_count": 46,
   "id": "ceba7492-52be-4c6d-ac71-79fe1987168a",
   "metadata": {},
   "outputs": [
    {
     "name": "stdout",
     "output_type": "stream",
     "text": [
      "{'f9af94bc-b514-44c3-9acf-738cbeb1ba69': ' General Return and Exchange Policy We offer a 30-day return or exchange policy on all purchases. If you are not satisfied with your purchase, you may return or exchange the item within 30 days of the delivery date, provided the following conditions are met:  â€¢ The item is in its original, unworn condition with all tags attached.  â€¢ The item is returned in its original packaging.  â€¢ A valid proof of purchase (receipt or order confirmation) is provided.  2  Return Process To initiate a return, please follow these steps: â€¢ Contact our chatbot via our website or app with your order details. â€¢ The chatbot will guide you through the return process and generate a Return Authorization (RA) number. â€¢ Pack the item securely and include the RA number inside the package.  â€¢ Ship the package using a trackable shipping method.  â€¢ Once received and inspected, refunds will be processed within 7-10 business days. 3', '84ddbb65-ee8d-44bb-a17d-2b6c91728573': ' General Return and Exchange Policy We offer a 30-day return or exchange policy on all purchases. If you are not satisfied with your purchase, you may return or exchange the item within 30 days of the delivery date, provided the following conditions are met:  â€¢ The item is in its original, unworn condition with all tags attached.  â€¢ The item is returned in its original packaging.  â€¢ A valid proof of purchase (receipt or order confirmation) is provided.  2  Exchange Process If you wish to exchange an item for a different size, color, or style: â€¢ Follow the return process outlined above using our chatbot.  â€¢ Place a new order for the desired item. â€¢ Refunds for returned items will be issued separately once the original item is received and inspected. 4', '0b61e720-2783-4b0e-9a2b-1e4efbf15074': ' General Return and Exchange Policy We offer a 30-day return or exchange policy on all purchases. If you are not satisfied with your purchase, you may return or exchange the item within 30 days of the delivery date, provided the following conditions are met:  â€¢ The item is in its original, unworn condition with all tags attached.  â€¢ The item is returned in its original packaging.  â€¢ A valid proof of purchase (receipt or order confirmation) is provided.  2  Non-Returnable Items The following items are not eligible for return or exchange: â€¢ Items marked as \"Final Sale.\" â€¢ Gift cards. â€¢ Personalized or custom-made items. â€¢ Used or damaged items that are not due to manufacturer defects.  5', '1dc158a3-4705-487b-ad47-a0b2d8c11525': ' General Return and Exchange Policy We offer a 30-day return or exchange policy on all purchases. If you are not satisfied with your purchase, you may return or exchange the item within 30 days of the delivery date, provided the following conditions are met:  â€¢ The item is in its original, unworn condition with all tags attached.  â€¢ The item is returned in its original packaging.  â€¢ A valid proof of purchase (receipt or order confirmation) is provided.  2  Refund Policy â€¢ Refunds will be issued to the original payment method. â€¢ Shipping costs are non-refundable unless the return is due to a manufacturing defect or an error on our part. â€¢ If the original payment method is no longer available, store credit will be issued.6', 'e71b805e-0da6-4efb-b85f-519f6ee95c6b': ' General Return and Exchange Policy We offer a 30-day return or exchange policy on all purchases. If you are not satisfied with your purchase, you may return or exchange the item within 30 days of the delivery date, provided the following conditions are met:  â€¢ The item is in its original, unworn condition with all tags attached.  â€¢ The item is returned in its original packaging.  â€¢ A valid proof of purchase (receipt or order confirmation) is provided.  2  Damaged or Defective Items If you receive a damaged or defective item: â€¢ Contact our chatbot within 7 days of delivery and provide photos of the damage.  â€¢ A replacement will be sent at no additional cost or a full refund will be issued. â€¢ We may request the return of the damaged item before issuing a refund or replacement. 7', '09761020-103d-473d-b78d-d6d7fffb2947': ' General Return and Exchange Policy We offer a 30-day return or exchange policy on all purchases. If you are not satisfied with your purchase, you may return or exchange the item within 30 days of the delivery date, provided the following conditions are met:  â€¢ The item is in its original, unworn condition with all tags attached.  â€¢ The item is returned in its original packaging.  â€¢ A valid proof of purchase (receipt or order confirmation) is provided.  2  Payment Policies â€¢ We accept major credit/debit cards, PayPal, and other payment methods as listed at checkout. â€¢ Orders are charged at the time of purchase. â€¢ In case of a refund, the amount will be credited back to the original payment method within 7-10 business days.', '00b4f2f0-dd92-4057-b0d0-ec93f9afdc90': ' Return Process To initiate a return, please follow these steps: â€¢ Contact our chatbot via our website or app with your order details. â€¢ The chatbot will guide you through the return process and generate a Return Authorization (RA) number. â€¢ Pack the item securely and include the RA number inside the package.  â€¢ Ship the package using a trackable shipping method.  â€¢ Once received and inspected, refunds will be processed within 7-10 business days. 3  Exchange Process If you wish to exchange an item for a different size, color, or style: â€¢ Follow the return process outlined above using our chatbot.  â€¢ Place a new order for the desired item. â€¢ Refunds for returned items will be issued separately once the original item is received and inspected. 4', 'f3a3dc13-1d10-416f-b92d-d274c7b52489': ' Return Process To initiate a return, please follow these steps: â€¢ Contact our chatbot via our website or app with your order details. â€¢ The chatbot will guide you through the return process and generate a Return Authorization (RA) number. â€¢ Pack the item securely and include the RA number inside the package.  â€¢ Ship the package using a trackable shipping method.  â€¢ Once received and inspected, refunds will be processed within 7-10 business days. 3  Non-Returnable Items The following items are not eligible for return or exchange: â€¢ Items marked as \"Final Sale.\" â€¢ Gift cards. â€¢ Personalized or custom-made items. â€¢ Used or damaged items that are not due to manufacturer defects.  5', '81354713-d71d-4f92-88bd-a581aee8f2e6': ' Return Process To initiate a return, please follow these steps: â€¢ Contact our chatbot via our website or app with your order details. â€¢ The chatbot will guide you through the return process and generate a Return Authorization (RA) number. â€¢ Pack the item securely and include the RA number inside the package.  â€¢ Ship the package using a trackable shipping method.  â€¢ Once received and inspected, refunds will be processed within 7-10 business days. 3  Refund Policy â€¢ Refunds will be issued to the original payment method. â€¢ Shipping costs are non-refundable unless the return is due to a manufacturing defect or an error on our part. â€¢ If the original payment method is no longer available, store credit will be issued.6', 'a2c944e4-c925-44a2-b81c-8eeea7990354': ' Return Process To initiate a return, please follow these steps: â€¢ Contact our chatbot via our website or app with your order details. â€¢ The chatbot will guide you through the return process and generate a Return Authorization (RA) number. â€¢ Pack the item securely and include the RA number inside the package.  â€¢ Ship the package using a trackable shipping method.  â€¢ Once received and inspected, refunds will be processed within 7-10 business days. 3  Damaged or Defective Items If you receive a damaged or defective item: â€¢ Contact our chatbot within 7 days of delivery and provide photos of the damage.  â€¢ A replacement will be sent at no additional cost or a full refund will be issued. â€¢ We may request the return of the damaged item before issuing a refund or replacement. 7', '13f836d0-60c1-4120-9e00-65ba65dd1756': ' Return Process To initiate a return, please follow these steps: â€¢ Contact our chatbot via our website or app with your order details. â€¢ The chatbot will guide you through the return process and generate a Return Authorization (RA) number. â€¢ Pack the item securely and include the RA number inside the package.  â€¢ Ship the package using a trackable shipping method.  â€¢ Once received and inspected, refunds will be processed within 7-10 business days. 3  Payment Policies â€¢ We accept major credit/debit cards, PayPal, and other payment methods as listed at checkout. â€¢ Orders are charged at the time of purchase. â€¢ In case of a refund, the amount will be credited back to the original payment method within 7-10 business days.', '9e0d4f15-b8d9-463f-936b-1650f45827fc': ' Exchange Process If you wish to exchange an item for a different size, color, or style: â€¢ Follow the return process outlined above using our chatbot.  â€¢ Place a new order for the desired item. â€¢ Refunds for returned items will be issued separately once the original item is received and inspected. 4  Non-Returnable Items The following items are not eligible for return or exchange: â€¢ Items marked as \"Final Sale.\" â€¢ Gift cards. â€¢ Personalized or custom-made items. â€¢ Used or damaged items that are not due to manufacturer defects.  5', 'e61f641a-8d8b-45d8-be61-479736a0d946': ' Exchange Process If you wish to exchange an item for a different size, color, or style: â€¢ Follow the return process outlined above using our chatbot.  â€¢ Place a new order for the desired item. â€¢ Refunds for returned items will be issued separately once the original item is received and inspected. 4  Refund Policy â€¢ Refunds will be issued to the original payment method. â€¢ Shipping costs are non-refundable unless the return is due to a manufacturing defect or an error on our part. â€¢ If the original payment method is no longer available, store credit will be issued.6', 'bd5e8e3a-0a48-47c0-a018-2fb34c067615': ' Exchange Process If you wish to exchange an item for a different size, color, or style: â€¢ Follow the return process outlined above using our chatbot.  â€¢ Place a new order for the desired item. â€¢ Refunds for returned items will be issued separately once the original item is received and inspected. 4  Damaged or Defective Items If you receive a damaged or defective item: â€¢ Contact our chatbot within 7 days of delivery and provide photos of the damage.  â€¢ A replacement will be sent at no additional cost or a full refund will be issued. â€¢ We may request the return of the damaged item before issuing a refund or replacement. 7', '60219cc6-4518-44a5-bcbe-187641965687': ' Exchange Process If you wish to exchange an item for a different size, color, or style: â€¢ Follow the return process outlined above using our chatbot.  â€¢ Place a new order for the desired item. â€¢ Refunds for returned items will be issued separately once the original item is received and inspected. 4  Payment Policies â€¢ We accept major credit/debit cards, PayPal, and other payment methods as listed at checkout. â€¢ Orders are charged at the time of purchase. â€¢ In case of a refund, the amount will be credited back to the original payment method within 7-10 business days.', '21d121df-8b08-49ab-b8da-3ec070714dd6': ' Non-Returnable Items The following items are not eligible for return or exchange: â€¢ Items marked as \"Final Sale.\" â€¢ Gift cards. â€¢ Personalized or custom-made items. â€¢ Used or damaged items that are not due to manufacturer defects.  5  Refund Policy â€¢ Refunds will be issued to the original payment method. â€¢ Shipping costs are non-refundable unless the return is due to a manufacturing defect or an error on our part. â€¢ If the original payment method is no longer available, store credit will be issued.6', 'c0d5e257-06fd-460b-b7a8-e6aac0c56d24': ' Non-Returnable Items The following items are not eligible for return or exchange: â€¢ Items marked as \"Final Sale.\" â€¢ Gift cards. â€¢ Personalized or custom-made items. â€¢ Used or damaged items that are not due to manufacturer defects.  5  Damaged or Defective Items If you receive a damaged or defective item: â€¢ Contact our chatbot within 7 days of delivery and provide photos of the damage.  â€¢ A replacement will be sent at no additional cost or a full refund will be issued. â€¢ We may request the return of the damaged item before issuing a refund or replacement. 7', 'd4f23897-5e2f-4188-af08-fcc367ed4f4e': ' Non-Returnable Items The following items are not eligible for return or exchange: â€¢ Items marked as \"Final Sale.\" â€¢ Gift cards. â€¢ Personalized or custom-made items. â€¢ Used or damaged items that are not due to manufacturer defects.  5  Payment Policies â€¢ We accept major credit/debit cards, PayPal, and other payment methods as listed at checkout. â€¢ Orders are charged at the time of purchase. â€¢ In case of a refund, the amount will be credited back to the original payment method within 7-10 business days.', '8ca3713c-13bb-46dd-9513-bcb02511fac2': ' Refund Policy â€¢ Refunds will be issued to the original payment method. â€¢ Shipping costs are non-refundable unless the return is due to a manufacturing defect or an error on our part. â€¢ If the original payment method is no longer available, store credit will be issued.6  Damaged or Defective Items If you receive a damaged or defective item: â€¢ Contact our chatbot within 7 days of delivery and provide photos of the damage.  â€¢ A replacement will be sent at no additional cost or a full refund will be issued. â€¢ We may request the return of the damaged item before issuing a refund or replacement. 7', '06f5e82c-3ef7-4436-bbde-f386157424ff': ' Refund Policy â€¢ Refunds will be issued to the original payment method. â€¢ Shipping costs are non-refundable unless the return is due to a manufacturing defect or an error on our part. â€¢ If the original payment method is no longer available, store credit will be issued.6  Payment Policies â€¢ We accept major credit/debit cards, PayPal, and other payment methods as listed at checkout. â€¢ Orders are charged at the time of purchase. â€¢ In case of a refund, the amount will be credited back to the original payment method within 7-10 business days.', '4d67478d-f1ae-4d2e-a90f-da6d0cdd22a6': ' Damaged or Defective Items If you receive a damaged or defective item: â€¢ Contact our chatbot within 7 days of delivery and provide photos of the damage.  â€¢ A replacement will be sent at no additional cost or a full refund will be issued. â€¢ We may request the return of the damaged item before issuing a refund or replacement. 7  Payment Policies â€¢ We accept major credit/debit cards, PayPal, and other payment methods as listed at checkout. â€¢ Orders are charged at the time of purchase. â€¢ In case of a refund, the amount will be credited back to the original payment method within 7-10 business days.', 'ef7b1091-c2cb-4dbe-b6d0-df8f47a534ad': 'Return and Exchange Policy  1. General Return and Exchange Policy We offer a 30-day return or exchange policy on all purchases. If you are not satisfied with your purchase, you may return or exchange the item within 30 days of the delivery date, provided the following conditions are met:  â€¢ The item is in its original, unworn condition with all tags attached.  â€¢ The item is returned in its', '92adc57d-15af-44c3-9701-393559a40a52': 'the item within 30 days of the delivery date, provided the following conditions are met:  â€¢ The item is in its original, unworn condition with all tags attached.  â€¢ The item is returned in its original packaging.  â€¢ A valid proof of purchase (receipt or order confirmation) is provided.  2. Return Process To initiate a return, please follow these steps: â€¢ Contact our chatbot via our website or app', 'c85ad0dd-9228-4426-835d-65a520f96940': 'packaging.  â€¢ A valid proof of purchase (receipt or order confirmation) is provided.  2. Return Process To initiate a return, please follow these steps: â€¢ Contact our chatbot via our website or app with your order details. â€¢ The chatbot will guide you through the return process and generate a Return Authorization (RA) number. â€¢ Pack the item securely and include the RA number inside the package.', '5ebc98c4-253f-477f-8b57-002efeee0946': 'your order details. â€¢ The chatbot will guide you through the return process and generate a Return Authorization (RA) number. â€¢ Pack the item securely and include the RA number inside the package.  â€¢ Ship the package using a trackable shipping method.  â€¢ Once received and inspected, refunds will be processed within 7-10 business days. 3. Exchange Process If you wish to exchange an item for a', '3ca3eb4c-02a2-4c9f-96ae-30589b1e3bfd': 'â€¢ Ship the package using a trackable shipping method.  â€¢ Once received and inspected, refunds will be processed within 7-10 business days. 3. Exchange Process If you wish to exchange an item for a different size, color, or style: â€¢ Follow the return process outlined above using our chatbot.  â€¢ Place a new order for the desired item. â€¢ Refunds for returned items will be issued separately once the', 'ae45e0bf-4894-47b6-aa0b-fe3214aef59d': 'size, color, or style: â€¢ Follow the return process outlined above using our chatbot.  â€¢ Place a new order for the desired item. â€¢ Refunds for returned items will be issued separately once the original item is received and inspected. 4. Non-Returnable Items The following items are not eligible for return or exchange: â€¢ Items marked as \"Final Sale.\" â€¢ Gift cards. â€¢ Personalized or custom-made', '68c894a4-01f2-4789-8aa4-69e522dea1ac': 'item is received and inspected. 4. Non-Returnable Items The following items are not eligible for return or exchange: â€¢ Items marked as \"Final Sale.\" â€¢ Gift cards. â€¢ Personalized or custom-made items. â€¢ Used or damaged items that are not due to manufacturer defects.  5. Refund Policy â€¢ Refunds will be issued to the original payment method. â€¢ Shipping costs are non-refundable unless the return is', '0f1deb9f-3e85-441d-9cab-ea402bdba0af': 'â€¢ Used or damaged items that are not due to manufacturer defects.  5. Refund Policy â€¢ Refunds will be issued to the original payment method. â€¢ Shipping costs are non-refundable unless the return is due to a manufacturing defect or an error on our part. â€¢ If the original payment method is no longer available, store credit will be issued.', 'b5934d62-8631-4fd8-a418-98f090f2f044': '6. Damaged or Defective Items If you receive a damaged or defective item: â€¢ Contact our chatbot within 7 days of delivery and provide photos of the damage.  â€¢ A replacement will be sent at no additional cost or a full refund will be issued. â€¢ We may request the return of the damaged item before issuing a refund or replacement. 7. Payment Policies â€¢ We accept major credit/debit cards, PayPal, and', 'fcd2212f-3143-45a8-beda-6eceb9cb4ee8': 'cost or a full refund will be issued. â€¢ We may request the return of the damaged item before issuing a refund or replacement. 7. Payment Policies â€¢ We accept major credit/debit cards, PayPal, and other payment methods as listed at checkout. â€¢ Orders are charged at the time of purchase. â€¢ In case of a refund, the amount will be credited back to the original payment method within 7-10 business', '188ae448-1280-489f-965c-3d434ab58de0': 'other payment methods as listed at checkout. â€¢ Orders are charged at the time of purchase. â€¢ In case of a refund, the amount will be credited back to the original payment method within 7-10 business days.'}\n"
     ]
    }
   ],
   "source": [
    "# json_file_path = \"app/context.json\"\n",
    "# with open(json_file_path, 'r') as j:\n",
    "#      doc_dict = json.loads(j.read())\n",
    "# print(doc_dict)"
   ]
  },
  {
   "cell_type": "code",
   "execution_count": 66,
   "id": "cb66dcdb-2999-40d7-90e7-6346d4b5bb07",
   "metadata": {},
   "outputs": [],
   "source": [
    "stext = \"I want to none return my order and my order Id is 869435 dfgdfg 456789\"\n",
    "if stext[:10].lower().find('none')!=-1:\n",
    "    print(\"Order ID not present\")"
   ]
  },
  {
   "cell_type": "code",
   "execution_count": 63,
   "id": "9958f24e-0573-47ea-9449-c9a4a784d5b9",
   "metadata": {},
   "outputs": [
    {
     "data": {
      "text/plain": [
       "'I want to '"
      ]
     },
     "execution_count": 63,
     "metadata": {},
     "output_type": "execute_result"
    }
   ],
   "source": [
    "stext[:10]"
   ]
  },
  {
   "cell_type": "code",
   "execution_count": 65,
   "id": "00b05d1e-f484-4f42-8922-2fcb9ff6f228",
   "metadata": {},
   "outputs": [
    {
     "name": "stdout",
     "output_type": "stream",
     "text": [
      "869435\n"
     ]
    }
   ],
   "source": [
    " def find_six_digit_string(text):\n",
    "        match = re.search(r'\\d{6}', text)\n",
    "        if match:\n",
    "            return match.group()\n",
    "        else:\n",
    "            return None"
   ]
  },
  {
   "cell_type": "code",
   "execution_count": 67,
   "id": "e37f88e1-9d4d-40d1-98aa-e5f4d105cb0f",
   "metadata": {},
   "outputs": [
    {
     "data": {
      "text/plain": [
       "'869435'"
      ]
     },
     "execution_count": 67,
     "metadata": {},
     "output_type": "execute_result"
    }
   ],
   "source": [
    "find_six_digit_string(stext)"
   ]
  },
  {
   "cell_type": "code",
   "execution_count": 68,
   "id": "3af53942-87ab-4fef-9027-ed7e48dbd187",
   "metadata": {},
   "outputs": [],
   "source": [
    "import pandas as pd"
   ]
  },
  {
   "cell_type": "code",
   "execution_count": 70,
   "id": "f70e0ea4-bc0e-4bb4-836a-46b2f5e4a408",
   "metadata": {},
   "outputs": [
    {
     "data": {
      "text/html": [
       "<div>\n",
       "<style scoped>\n",
       "    .dataframe tbody tr th:only-of-type {\n",
       "        vertical-align: middle;\n",
       "    }\n",
       "\n",
       "    .dataframe tbody tr th {\n",
       "        vertical-align: top;\n",
       "    }\n",
       "\n",
       "    .dataframe thead th {\n",
       "        text-align: right;\n",
       "    }\n",
       "</style>\n",
       "<table border=\"1\" class=\"dataframe\">\n",
       "  <thead>\n",
       "    <tr style=\"text-align: right;\">\n",
       "      <th></th>\n",
       "      <th>Order ID</th>\n",
       "      <th>Customer Name</th>\n",
       "      <th>Product Category</th>\n",
       "      <th>Product Name</th>\n",
       "      <th>Size</th>\n",
       "      <th>Gender</th>\n",
       "      <th>Quantity</th>\n",
       "      <th>Price (USD)</th>\n",
       "      <th>Order Date</th>\n",
       "      <th>Status</th>\n",
       "      <th>Payment Method</th>\n",
       "      <th>Shipping Address</th>\n",
       "      <th>Final sale</th>\n",
       "    </tr>\n",
       "  </thead>\n",
       "  <tbody>\n",
       "    <tr>\n",
       "      <th>0</th>\n",
       "      <td>41331</td>\n",
       "      <td>John Doe</td>\n",
       "      <td>Casual Shoes</td>\n",
       "      <td>Canvas Sneakers</td>\n",
       "      <td>10</td>\n",
       "      <td>Male</td>\n",
       "      <td>1</td>\n",
       "      <td>49.99</td>\n",
       "      <td>2024-12-28</td>\n",
       "      <td>Shipped</td>\n",
       "      <td>Credit Card</td>\n",
       "      <td>NY, USA</td>\n",
       "      <td>No</td>\n",
       "    </tr>\n",
       "    <tr>\n",
       "      <th>1</th>\n",
       "      <td>44335</td>\n",
       "      <td>Sarah Smith</td>\n",
       "      <td>Formal Shoes</td>\n",
       "      <td>Leather Oxford</td>\n",
       "      <td>8</td>\n",
       "      <td>Female</td>\n",
       "      <td>2</td>\n",
       "      <td>129.99</td>\n",
       "      <td>2025-01-03</td>\n",
       "      <td>Processing</td>\n",
       "      <td>PayPal</td>\n",
       "      <td>LA, USA</td>\n",
       "      <td>No</td>\n",
       "    </tr>\n",
       "    <tr>\n",
       "      <th>2</th>\n",
       "      <td>93001</td>\n",
       "      <td>Mike Johnson</td>\n",
       "      <td>Sandals</td>\n",
       "      <td>Beach Flip-Flops</td>\n",
       "      <td>11</td>\n",
       "      <td>Male</td>\n",
       "      <td>1</td>\n",
       "      <td>19.99</td>\n",
       "      <td>2025-01-04</td>\n",
       "      <td>Delivered</td>\n",
       "      <td>Debit Card</td>\n",
       "      <td>TX, USA</td>\n",
       "      <td>No</td>\n",
       "    </tr>\n",
       "    <tr>\n",
       "      <th>3</th>\n",
       "      <td>41007</td>\n",
       "      <td>Lisa Brown</td>\n",
       "      <td>Slippers</td>\n",
       "      <td>Home Slippers</td>\n",
       "      <td>6</td>\n",
       "      <td>Female</td>\n",
       "      <td>1</td>\n",
       "      <td>14.99</td>\n",
       "      <td>2025-01-07</td>\n",
       "      <td>Processing</td>\n",
       "      <td>Credit Card</td>\n",
       "      <td>FL, USA</td>\n",
       "      <td>No</td>\n",
       "    </tr>\n",
       "    <tr>\n",
       "      <th>4</th>\n",
       "      <td>43033</td>\n",
       "      <td>Alex Green</td>\n",
       "      <td>Casual Shoes</td>\n",
       "      <td>Running Sneakers</td>\n",
       "      <td>9</td>\n",
       "      <td>Unisex</td>\n",
       "      <td>1</td>\n",
       "      <td>59.99</td>\n",
       "      <td>2025-01-14</td>\n",
       "      <td>Shipped</td>\n",
       "      <td>PayPal</td>\n",
       "      <td>IL, USA</td>\n",
       "      <td>No</td>\n",
       "    </tr>\n",
       "  </tbody>\n",
       "</table>\n",
       "</div>"
      ],
      "text/plain": [
       "   Order ID Customer Name Product Category      Product Name  Size  Gender  \\\n",
       "0     41331      John Doe     Casual Shoes   Canvas Sneakers    10    Male   \n",
       "1     44335   Sarah Smith     Formal Shoes    Leather Oxford     8  Female   \n",
       "2     93001  Mike Johnson          Sandals  Beach Flip-Flops    11    Male   \n",
       "3     41007    Lisa Brown         Slippers     Home Slippers     6  Female   \n",
       "4     43033    Alex Green     Casual Shoes  Running Sneakers     9  Unisex   \n",
       "\n",
       "   Quantity  Price (USD) Order Date      Status Payment Method  \\\n",
       "0         1        49.99 2024-12-28     Shipped    Credit Card   \n",
       "1         2       129.99 2025-01-03  Processing         PayPal   \n",
       "2         1        19.99 2025-01-04   Delivered     Debit Card   \n",
       "3         1        14.99 2025-01-07  Processing    Credit Card   \n",
       "4         1        59.99 2025-01-14     Shipped         PayPal   \n",
       "\n",
       "  Shipping Address Final sale  \n",
       "0          NY, USA         No  \n",
       "1          LA, USA         No  \n",
       "2          TX, USA         No  \n",
       "3          FL, USA         No  \n",
       "4          IL, USA         No  "
      ]
     },
     "execution_count": 70,
     "metadata": {},
     "output_type": "execute_result"
    }
   ],
   "source": [
    "df = pd.read_excel(\"app/orders_table.xlsx\")\n",
    "df.head()"
   ]
  },
  {
   "cell_type": "code",
   "execution_count": 74,
   "id": "b2594210-a4e6-467a-a0c1-c45fe2cd602c",
   "metadata": {},
   "outputs": [
    {
     "data": {
      "text/plain": [
       "Order ID                     int64\n",
       "Customer Name               object\n",
       "Product Category            object\n",
       "Product Name                object\n",
       "Size                         int64\n",
       "Gender                      object\n",
       "Quantity                     int64\n",
       "Price (USD)                float64\n",
       "Order Date          datetime64[ns]\n",
       "Status                      object\n",
       "Payment Method              object\n",
       "Shipping Address            object\n",
       "Final sale                  object\n",
       "dtype: object"
      ]
     },
     "execution_count": 74,
     "metadata": {},
     "output_type": "execute_result"
    }
   ],
   "source": [
    "df.dtypes"
   ]
  },
  {
   "cell_type": "code",
   "execution_count": 79,
   "id": "bba5c8f8-5757-4611-8158-d0d0f1b13dd2",
   "metadata": {},
   "outputs": [
    {
     "data": {
      "text/html": [
       "<div>\n",
       "<style scoped>\n",
       "    .dataframe tbody tr th:only-of-type {\n",
       "        vertical-align: middle;\n",
       "    }\n",
       "\n",
       "    .dataframe tbody tr th {\n",
       "        vertical-align: top;\n",
       "    }\n",
       "\n",
       "    .dataframe thead th {\n",
       "        text-align: right;\n",
       "    }\n",
       "</style>\n",
       "<table border=\"1\" class=\"dataframe\">\n",
       "  <thead>\n",
       "    <tr style=\"text-align: right;\">\n",
       "      <th></th>\n",
       "      <th>Order ID</th>\n",
       "      <th>Customer Name</th>\n",
       "      <th>Product Category</th>\n",
       "      <th>Product Name</th>\n",
       "      <th>Size</th>\n",
       "      <th>Gender</th>\n",
       "      <th>Quantity</th>\n",
       "      <th>Price (USD)</th>\n",
       "      <th>Order Date</th>\n",
       "      <th>Status</th>\n",
       "      <th>Payment Method</th>\n",
       "      <th>Shipping Address</th>\n",
       "      <th>Final sale</th>\n",
       "    </tr>\n",
       "  </thead>\n",
       "  <tbody>\n",
       "    <tr>\n",
       "      <th>12</th>\n",
       "      <td>89694</td>\n",
       "      <td>Noah Lewis</td>\n",
       "      <td>Casual Shoes</td>\n",
       "      <td>High-Top Sneakers</td>\n",
       "      <td>11</td>\n",
       "      <td>Male</td>\n",
       "      <td>1</td>\n",
       "      <td>69.99</td>\n",
       "      <td>2025-02-16</td>\n",
       "      <td>Processing</td>\n",
       "      <td>Debit Card</td>\n",
       "      <td>TX, USA</td>\n",
       "      <td>Yes</td>\n",
       "    </tr>\n",
       "  </tbody>\n",
       "</table>\n",
       "</div>"
      ],
      "text/plain": [
       "    Order ID Customer Name Product Category       Product Name  Size Gender  \\\n",
       "12     89694    Noah Lewis     Casual Shoes  High-Top Sneakers    11   Male   \n",
       "\n",
       "    Quantity  Price (USD) Order Date      Status Payment Method  \\\n",
       "12         1        69.99 2025-02-16  Processing     Debit Card   \n",
       "\n",
       "   Shipping Address Final sale  \n",
       "12          TX, USA        Yes  "
      ]
     },
     "execution_count": 79,
     "metadata": {},
     "output_type": "execute_result"
    }
   ],
   "source": [
    "six_digit_string = \"89694\"\n",
    "df.loc[df[\"Order ID\"]==int(six_digit_string),:]\n",
    "obtained_record = df.loc[df[\"Order ID\"]==int(six_digit_string),:].to_dict('records')"
   ]
  },
  {
   "cell_type": "code",
   "execution_count": 90,
   "id": "95a8626c-cd51-4e93-a172-a1fd1aeaf9f7",
   "metadata": {},
   "outputs": [],
   "source": [
    "obtained_record = df.loc[df[\"Order ID\"]==int(six_digit_string),:].to_dict('records')"
   ]
  },
  {
   "cell_type": "code",
   "execution_count": 91,
   "id": "f57acf26-eca4-452f-86ad-93bf7794384f",
   "metadata": {},
   "outputs": [
    {
     "data": {
      "text/plain": [
       "[{'Order ID': 89694,\n",
       "  'Customer Name': 'Noah Lewis',\n",
       "  'Product Category': 'Casual Shoes',\n",
       "  'Product Name': 'High-Top Sneakers',\n",
       "  'Size': 11,\n",
       "  'Gender': 'Male',\n",
       "  'Quantity': 1,\n",
       "  'Price (USD)': 69.99,\n",
       "  'Order Date': Timestamp('2025-02-16 00:00:00'),\n",
       "  'Status': 'Processing',\n",
       "  'Payment Method': 'Debit Card',\n",
       "  'Shipping Address': 'TX, USA',\n",
       "  'Final sale': 'Yes'}]"
      ]
     },
     "execution_count": 91,
     "metadata": {},
     "output_type": "execute_result"
    }
   ],
   "source": [
    "obtained_record"
   ]
  },
  {
   "cell_type": "code",
   "execution_count": 99,
   "id": "23935f59-bba7-4fe6-bdf3-82f036f2146a",
   "metadata": {},
   "outputs": [],
   "source": [
    "from datetime import datetime\n"
   ]
  },
  {
   "cell_type": "code",
   "execution_count": 100,
   "id": "3742e8ac-7f7f-4d52-aecd-17a73c77f9b3",
   "metadata": {},
   "outputs": [],
   "source": []
  },
  {
   "cell_type": "code",
   "execution_count": 110,
   "id": "afe381c9-ade7-4a16-8860-4ca2ae8de6ab",
   "metadata": {},
   "outputs": [
    {
     "data": {
      "text/plain": [
       "'The customer Noah Lewis whose Order ID is 89694 has purchased 1 High-Top Sneakers of product category Casual Shoes of size 11. The current status of the oder is Processing. This product is a Final Sale and therefore not eligble for exchange, return or refunds. '"
      ]
     },
     "execution_count": 110,
     "metadata": {},
     "output_type": "execute_result"
    }
   ],
   "source": [
    "df = pd.read_excel(\"app/orders_table.xlsx\")\n",
    "df.loc[df[\"Order ID\"]==int(six_digit_string),:]\n",
    "obtained_record = df.loc[df[\"Order ID\"]==int(six_digit_string),:].to_dict('records')\n",
    "timestamp_dt = obtained_record[0]['Order Date']\n",
    "today = datetime.now()\n",
    "difference = today - timestamp_dt\n",
    "\n",
    "is_date_exceeded = \"\"\n",
    "final_sale_message = \"\"\n",
    "\n",
    "if obtained_record[0]['Final sale'].lower() == 'no':\n",
    "    if difference.days>30:\n",
    "        is_date_exceeded = f\"Its been {difference.days} since purchase of the product and thus it is NOT eligible for return or exchange as per our policy.\"\n",
    "    else:\n",
    "        is_date_exceeded = f\"Its been {difference.days} is within the eligible limit for return or exchange as per our policy. Therefore it can be performed.\"\n",
    "else:\n",
    "    final_sale_message = \"This product is a Final Sale and therefore not eligble for exchange, return or refunds.\"\n",
    "    if difference.days>30:\n",
    "        is_date_exceeded = f\"However additonally, since its been {difference.days} since purchase of the product and thus it is NOT eligible for return or exchange as per our policy.\"\n",
    "\n",
    "main_content = f\"\"\"The customer {obtained_record[0]['Customer Name']} whose Order ID is {obtained_record[0]['Order ID']} has purchased {obtained_record[0]['Quantity']} {obtained_record[0]['Product Name']}\n",
    " of product category {obtained_record[0]['Product Category']} of size {obtained_record[0]['Size']}. The current status of the oder is {obtained_record[0]['Status']}.\"\"\"\n",
    "\n",
    "total_content =  ' '.join([main_content, final_sale_message, is_date_exceeded])\n",
    "total_content.replace(\"\\n\",\"\")"
   ]
  },
  {
   "cell_type": "code",
   "execution_count": 113,
   "id": "221d4b2b-88ee-4928-ba6b-a251ff0260aa",
   "metadata": {},
   "outputs": [
    {
     "data": {
      "text/plain": [
       "False"
      ]
     },
     "execution_count": 113,
     "metadata": {},
     "output_type": "execute_result"
    }
   ],
   "source": [
    "\"I got man\".lower().find('none')!=-1"
   ]
  },
  {
   "cell_type": "code",
   "execution_count": null,
   "id": "5d6e0b1c-d35f-40e0-bfd2-7f85e8c9cd3b",
   "metadata": {},
   "outputs": [],
   "source": []
  }
 ],
 "metadata": {
  "kernelspec": {
   "display_name": "Python 3 (ipykernel)",
   "language": "python",
   "name": "python3"
  },
  "language_info": {
   "codemirror_mode": {
    "name": "ipython",
    "version": 3
   },
   "file_extension": ".py",
   "mimetype": "text/x-python",
   "name": "python",
   "nbconvert_exporter": "python",
   "pygments_lexer": "ipython3",
   "version": "3.12.7"
  }
 },
 "nbformat": 4,
 "nbformat_minor": 5
}
