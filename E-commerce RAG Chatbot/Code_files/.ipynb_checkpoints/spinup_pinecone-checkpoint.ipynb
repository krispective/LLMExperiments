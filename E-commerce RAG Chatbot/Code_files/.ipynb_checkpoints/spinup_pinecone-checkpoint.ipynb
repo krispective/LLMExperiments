{
 "cells": [
  {
   "cell_type": "code",
   "execution_count": null,
   "id": "8b1aaa7e-ebb7-421f-9b88-3ab85d57c675",
   "metadata": {},
   "outputs": [],
   "source": []
  },
  {
   "cell_type": "code",
   "execution_count": 4,
   "id": "6fcee6d7-fa76-4d31-a380-e24de24444ab",
   "metadata": {},
   "outputs": [],
   "source": [
    "from langchain_community.document_loaders import PyPDFLoader\n",
    "from langchain.text_splitter import RecursiveCharacterTextSplitter\n",
    "from llama_index.core import (\n",
    "    VectorStoreIndex,\n",
    "    SimpleDirectoryReader,\n",
    "    StorageContext,\n",
    ")\n",
    "from llama_index.vector_stores.pinecone import PineconeVectorStore\n",
    "from uuid import uuid4\n",
    "\n",
    "import pinecone\n",
    "# Import the Pinecone library\n",
    "from pinecone.grpc import PineconeGRPC as Pinecone\n",
    "from pinecone import ServerlessSpec\n",
    "import time\n",
    "import json\n"
   ]
  },
  {
   "cell_type": "code",
   "execution_count": 2,
   "id": "76f287ec-57c9-461e-bdc1-47f0275e1dba",
   "metadata": {},
   "outputs": [],
   "source": [
    "pinecone_api_key = \"<api_key>\"\n",
    "# Initialize a Pinecone client with your API key\n",
    "pc = Pinecone(api_key=pinecone_api_key)"
   ]
  },
  {
   "cell_type": "code",
   "execution_count": 5,
   "id": "bf6cd032-02fd-491a-a9a4-f7bd26bd67fd",
   "metadata": {},
   "outputs": [],
   "source": [
    "with open('app/context.json', 'r') as j:\n",
    "     dict_doc = json.loads(j.read())"
   ]
  },
  {
   "cell_type": "code",
   "execution_count": 25,
   "id": "804e895d-1ab4-49d3-80d6-e38186ee0c90",
   "metadata": {},
   "outputs": [],
   "source": [
    "all_docs_combs = [x.replace(\"â€¢\",\"\") for x in list(dict_doc.values())]"
   ]
  },
  {
   "cell_type": "code",
   "execution_count": 26,
   "id": "23709189-0014-4368-9001-bfa85b958614",
   "metadata": {},
   "outputs": [
    {
     "name": "stdout",
     "output_type": "stream",
     "text": [
      "EmbeddingsList(\n",
      "  model='multilingual-e5-large',\n",
      "  vector_type='dense',\n",
      "  data=[\n",
      "    {'vector_type': dense, 'values': [0.03155517578125, -0.024444580078125, ..., -0.042755126953125, -0.016937255859375]},\n",
      "    {'vector_type': dense, 'values': [0.019195556640625, -0.02618408203125, ..., -0.050506591796875, -0.0233306884765625]},\n",
      "    ... (17 more embeddings) ...,\n",
      "    {'vector_type': dense, 'values': [0.0196380615234375, -0.021942138671875, ..., -0.060333251953125, -0.0205230712890625]},\n",
      "    {'vector_type': dense, 'values': [0.0182952880859375, -0.0257415771484375, ..., -0.059906005859375, -0.033355712890625]}\n",
      "  ],\n",
      "  usage={'total_tokens': 3078}\n",
      ")\n"
     ]
    }
   ],
   "source": [
    "# Convert the text into numerical vectors that Pinecone can index\n",
    "embeddings = pc.inference.embed(\n",
    "    model=\"multilingual-e5-large\",\n",
    "    inputs=all_docs_combs,\n",
    "    parameters={\n",
    "        \"input_type\": \"passage\", \n",
    "        \"truncate\": \"END\"\n",
    "    }\n",
    ")\n",
    "\n",
    "print(embeddings)"
   ]
  },
  {
   "cell_type": "code",
   "execution_count": 24,
   "id": "ec0c4584-7bf8-4e3d-b070-dc4c076dd78e",
   "metadata": {},
   "outputs": [],
   "source": [
    "# Create a serverless index\n",
    "index_name = \"genaihackathon\"\n",
    "\n",
    "if not pc.has_index(index_name):\n",
    "    pc.create_index(\n",
    "        name=index_name,\n",
    "        dimension=1024,\n",
    "        metric=\"cosine\",\n",
    "        spec=ServerlessSpec(\n",
    "            cloud=\"aws\", \n",
    "            region=\"us-east-1\"\n",
    "        ) \n",
    "    ) \n",
    "\n",
    "# Wait for the index to be ready\n",
    "while not pc.describe_index(index_name).status['ready']:\n",
    "    time.sleep(1)"
   ]
  },
  {
   "cell_type": "code",
   "execution_count": 27,
   "id": "0c1e2ac7-306a-4f8c-826d-abdce6b797d6",
   "metadata": {},
   "outputs": [],
   "source": [
    "ids = [str(uuid4()) for x in range(0,len(all_docs_combs))]\n",
    "dict_doc = {ids[x]:all_docs_combs[x] for x in range(0,len(all_docs_combs))}"
   ]
  },
  {
   "cell_type": "code",
   "execution_count": 28,
   "id": "a7b044a7-c5d5-4ce2-978a-0608b05280e1",
   "metadata": {},
   "outputs": [
    {
     "data": {
      "text/plain": [
       "upserted_count: 21"
      ]
     },
     "execution_count": 28,
     "metadata": {},
     "output_type": "execute_result"
    }
   ],
   "source": [
    "# Target the index\n",
    "# In production, target an index by its unique DNS host, not by its name\n",
    "# See https://docs.pinecone.io/guides/data/target-an-index\n",
    "index = pc.Index(index_name)\n",
    "\n",
    "# Prepare the records for upsert\n",
    "# Each contains an 'id', the vector 'values', \n",
    "# and the original text and category as 'metadata'\n",
    "records = []\n",
    "for d, e in zip(dict_doc, embeddings):\n",
    "    records.append({\n",
    "        \"id\":d,\n",
    "        \"values\": e[\"values\"]\n",
    "    })\n",
    "\n",
    "# Upsert the records into the index\n",
    "index.upsert(\n",
    "    vectors=records,\n",
    "    namespace=index_name\n",
    ")"
   ]
  },
  {
   "cell_type": "code",
   "execution_count": 29,
   "id": "dbfe42fe-20ea-4cd7-9d1b-c49309513ea3",
   "metadata": {},
   "outputs": [
    {
     "name": "stdout",
     "output_type": "stream",
     "text": [
      "{'dimension': 1024,\n",
      " 'index_fullness': 0.0,\n",
      " 'namespaces': {'genaihackathon': {'vector_count': 0}},\n",
      " 'total_vector_count': 0}\n"
     ]
    }
   ],
   "source": [
    "print(index.describe_index_stats())"
   ]
  },
  {
   "cell_type": "code",
   "execution_count": 36,
   "id": "43c5564f-1993-4ebb-b196-8e160cfe147d",
   "metadata": {},
   "outputs": [
    {
     "name": "stdout",
     "output_type": "stream",
     "text": [
      "Results obtained.\n"
     ]
    }
   ],
   "source": [
    "# Define your query\n",
    "query = \"Could you tell me about payment methods and return policies?\"\n",
    "\n",
    "# Convert the query into a numerical vector that Pinecone can search with\n",
    "query_embedding = pc.inference.embed(\n",
    "    model=\"multilingual-e5-large\",\n",
    "    inputs=[query],\n",
    "    parameters={\n",
    "        \"input_type\": \"query\"\n",
    "    }\n",
    ")\n",
    "\n",
    "# Search the index for the three most similar vectors\n",
    "results = index.query(\n",
    "    namespace=index_name,\n",
    "    vector=query_embedding[0].values,\n",
    "    top_k=3,\n",
    "    include_values=False,\n",
    "    include_metadata=True\n",
    ")\n",
    "print('Results obtained.')\n"
   ]
  },
  {
   "cell_type": "code",
   "execution_count": 37,
   "id": "ac6e22c6-3f86-4e29-a9d0-d241fe7bb04d",
   "metadata": {},
   "outputs": [
    {
     "name": "stdout",
     "output_type": "stream",
     "text": [
      " Refund Policy  Refunds will be issued to the original payment method.  Shipping costs are non-refundable unless the return is due to a manufacturing defect or an error on our part.  If the original payment method is no longer available, store credit will be issued.6  Payment Policies  We accept major credit/debit cards, PayPal, and other payment methods as listed at checkout.  Orders are charged at the time of purchase.  In case of a refund, the amount will be credited back to the original payment method within 7-10 business days.\n",
      "{'matches': [{'id': '50422b96-cc14-45be-b3f3-1619facbe523',\n",
      "              'metadata': None,\n",
      "              'score': 0.87214035,\n",
      "              'sparse_values': {'indices': [], 'values': []},\n",
      "              'values': []},\n",
      "             {'id': '2f7b0306-e726-4beb-85f2-03b3a8e787bd',\n",
      "              'metadata': None,\n",
      "              'score': 0.8676379,\n",
      "              'sparse_values': {'indices': [], 'values': []},\n",
      "              'values': []},\n",
      "             {'id': '921ca89f-a32e-4aea-b2ab-85f4ce065b38',\n",
      "              'metadata': None,\n",
      "              'score': 0.8626911,\n",
      "              'sparse_values': {'indices': [], 'values': []},\n",
      "              'values': []}],\n",
      " 'namespace': 'genaihackathon',\n",
      " 'usage': {'read_units': 6}}\n"
     ]
    }
   ],
   "source": [
    "top_result_uuid = results['matches'][0]['id']\n",
    "print(dict_doc[top_result_uuid])\n",
    "print(results)"
   ]
  },
  {
   "cell_type": "code",
   "execution_count": null,
   "id": "d00d1dbd-918c-4f92-ab1f-ff0da3996b40",
   "metadata": {},
   "outputs": [],
   "source": []
  }
 ],
 "metadata": {
  "kernelspec": {
   "display_name": "Python 3 (ipykernel)",
   "language": "python",
   "name": "python3"
  },
  "language_info": {
   "codemirror_mode": {
    "name": "ipython",
    "version": 3
   },
   "file_extension": ".py",
   "mimetype": "text/x-python",
   "name": "python",
   "nbconvert_exporter": "python",
   "pygments_lexer": "ipython3",
   "version": "3.12.7"
  }
 },
 "nbformat": 4,
 "nbformat_minor": 5
}
