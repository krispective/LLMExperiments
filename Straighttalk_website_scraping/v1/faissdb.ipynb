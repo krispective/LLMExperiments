{
 "cells": [
  {
   "cell_type": "code",
   "execution_count": null,
   "id": "a91297d2-04bf-43b0-aa89-e9764c9ea738",
   "metadata": {},
   "outputs": [],
   "source": [
    "#!pip install sentence-transformers faiss-cpu\n",
    "#!pip install hf_xet"
   ]
  },
  {
   "cell_type": "code",
   "execution_count": 1,
   "id": "c65cfd63-820e-4261-9695-acb7787a05b7",
   "metadata": {},
   "outputs": [],
   "source": [
    "import faiss\n",
    "import json\n",
    "import numpy as np\n",
    "from sentence_transformers import SentenceTransformer"
   ]
  },
  {
   "cell_type": "code",
   "execution_count": 2,
   "id": "29382bc7-d8ba-4f97-ad92-6b1c80f0c3a6",
   "metadata": {},
   "outputs": [],
   "source": [
    "# Sample JSON input\n",
    "data = [\n",
    "    {\n",
    "        \"title\": \"Samsung Galaxy A16 5G\",\n",
    "        \"tags\": [\"phone\", \"Samsung\", \"5G\", \"prepaid\", \"promotion\", \"out-of-stock\"],\n",
    "        \"content_type\": \"product_listing\",\n",
    "        \"source_url\": \"https://www.straighttalk.com/shop/all-phones\",\n",
    "        \"availability\": \"out_of_stock\",\n",
    "        \"description\": \"The Samsung Galaxy A16 5G might be available as a promotional offer with select plans, such as a Gold Unlimited Plan or higher. In some cases, this device has been offered for free when bundled with qualifying plans. The full retail price appears to be approximately $99.99. Pricing through financing options like Smartpay may vary depending on credit.\",\n",
    "        \"review_summary\": \"This product currently appears to have no customer reviews. It is likely that further customer feedback could provide more insight into the device's performance and reliability.\"\n",
    "    },\n",
    "    {\n",
    "        \"title\": \"moto g power 5G - 2024\",\n",
    "        \"tags\": [\"phone\", \"Motorola\", \"5G\", \"prepaid\", \"promotion\", \"out-of-stock\"],\n",
    "        \"content_type\": \"product_listing\",\n",
    "        \"source_url\": \"https://www.straighttalk.com/shop/all-phones\",\n",
    "        \"availability\": \"out_of_stock\",\n",
    "        \"description\": \"The 2024 moto g power 5G may have been offered at a discounted price—possibly reduced from $149.99 to $99.99. Customers with excellent credit might be eligible for monthly payments through Smartpay over a 24-month term. Free availability might apply when bundled with higher-tier plans.\",\n",
    "        \"review_summary\": \"There are currently no reviews for this model, suggesting limited customer feedback so far.\"\n",
    "    },\n",
    "    {\n",
    "        \"title\": \"moto g play - 2024\",\n",
    "        \"tags\": [\"phone\", \"Motorola\", \"prepaid\", \"promotion\", \"budget\", \"out-of-stock\"],\n",
    "        \"content_type\": \"product_listing\",\n",
    "        \"source_url\": \"https://www.straighttalk.com/shop/all-phones\",\n",
    "        \"availability\": \"out_of_stock\",\n",
    "        \"description\": \"This device may have been reduced in price from around $39.99 to $29.99, making it one of the more affordable models. Payment plans might be available depending on credit status. Promotional offers could apply in combination with select monthly plans.\",\n",
    "        \"review_summary\": \"This product currently lacks customer reviews, which could indicate it's newly listed or hasn't been widely purchased yet.\"\n",
    "    }\n",
    "]\n"
   ]
  },
  {
   "cell_type": "code",
   "execution_count": 3,
   "id": "d54f3405-d088-424a-8050-9103ef0c8d2a",
   "metadata": {
    "collapsed": true,
    "jupyter": {
     "outputs_hidden": true
    },
    "scrolled": true
   },
   "outputs": [
    {
     "data": {
      "application/vnd.jupyter.widget-view+json": {
       "model_id": "f65b8be073ce4234b0986ceaf7acc840",
       "version_major": 2,
       "version_minor": 0
      },
      "text/plain": [
       "model.safetensors:   0%|          | 0.00/438M [00:00<?, ?B/s]"
      ]
     },
     "metadata": {},
     "output_type": "display_data"
    },
    {
     "name": "stderr",
     "output_type": "stream",
     "text": [
      "C:\\Users\\krish\\anaconda3\\Lib\\site-packages\\huggingface_hub\\file_download.py:144: UserWarning: `huggingface_hub` cache-system uses symlinks by default to efficiently store duplicated files but your machine does not support them in C:\\Users\\krish\\.cache\\huggingface\\hub\\models--sentence-transformers--all-mpnet-base-v2. Caching files will still work but in a degraded version that might require more space on your disk. This warning can be disabled by setting the `HF_HUB_DISABLE_SYMLINKS_WARNING` environment variable. For more details, see https://huggingface.co/docs/huggingface_hub/how-to-cache#limitations.\n",
      "To support symlinks on Windows, you either need to activate Developer Mode or to run Python as an administrator. In order to activate developer mode, see this article: https://docs.microsoft.com/en-us/windows/apps/get-started/enable-your-device-for-development\n",
      "  warnings.warn(message)\n"
     ]
    },
    {
     "data": {
      "application/vnd.jupyter.widget-view+json": {
       "model_id": "7c9720dca2d34f81b51ae2b5b22a58fd",
       "version_major": 2,
       "version_minor": 0
      },
      "text/plain": [
       "tokenizer_config.json:   0%|          | 0.00/363 [00:00<?, ?B/s]"
      ]
     },
     "metadata": {},
     "output_type": "display_data"
    },
    {
     "data": {
      "application/vnd.jupyter.widget-view+json": {
       "model_id": "30c7c32d40804f65b31bd512e72598d9",
       "version_major": 2,
       "version_minor": 0
      },
      "text/plain": [
       "vocab.txt:   0%|          | 0.00/232k [00:00<?, ?B/s]"
      ]
     },
     "metadata": {},
     "output_type": "display_data"
    },
    {
     "data": {
      "application/vnd.jupyter.widget-view+json": {
       "model_id": "e6584cf077ac4e548b265f3766b68ea7",
       "version_major": 2,
       "version_minor": 0
      },
      "text/plain": [
       "tokenizer.json:   0%|          | 0.00/466k [00:00<?, ?B/s]"
      ]
     },
     "metadata": {},
     "output_type": "display_data"
    },
    {
     "data": {
      "application/vnd.jupyter.widget-view+json": {
       "model_id": "97b5312d7efe43bb9008fbb26aaac5a4",
       "version_major": 2,
       "version_minor": 0
      },
      "text/plain": [
       "special_tokens_map.json:   0%|          | 0.00/239 [00:00<?, ?B/s]"
      ]
     },
     "metadata": {},
     "output_type": "display_data"
    },
    {
     "data": {
      "application/vnd.jupyter.widget-view+json": {
       "model_id": "bb51900ae7284e1ab8b87a2bc4cfd907",
       "version_major": 2,
       "version_minor": 0
      },
      "text/plain": [
       "config.json:   0%|          | 0.00/190 [00:00<?, ?B/s]"
      ]
     },
     "metadata": {},
     "output_type": "display_data"
    }
   ],
   "source": [
    "# Load sentence transformer model\n",
    "model = SentenceTransformer('all-mpnet-base-v2')\n",
    "\n",
    "# Combine and embed text content\n",
    "documents = [\n",
    "    f\"{item['title']}\\n{item['description']}\\n{item['review_summary']}\"\n",
    "    for item in data\n",
    "]\n",
    "embeddings = model.encode(documents)\n",
    "\n",
    "# Create FAISS index\n",
    "dim = embeddings[0].shape[0]\n",
    "index = faiss.IndexFlatL2(dim)  # L2 distance index\n",
    "index.add(np.array(embeddings))"
   ]
  },
  {
   "cell_type": "code",
   "execution_count": 6,
   "id": "d8991dfc-1e59-4446-a72a-2363bdaba22b",
   "metadata": {},
   "outputs": [
    {
     "name": "stdout",
     "output_type": "stream",
     "text": [
      "FAISS index and metadata saved.\n"
     ]
    }
   ],
   "source": [
    "# Store metadata separately\n",
    "metadata_store = []\n",
    "for item in data:\n",
    "    metadata_store.append({\n",
    "        \"title\": item[\"title\"],\n",
    "        \"tags\": item[\"tags\"],\n",
    "        \"content_type\": item[\"content_type\"],\n",
    "        \"source_url\": item[\"source_url\"],\n",
    "        \"availability\": item[\"availability\"],\n",
    "        \"description\": item[\"description\"],\n",
    "        \"review_summary\": item[\"review_summary\"]\n",
    "    })\n",
    "\n",
    "# Save FAISS index and metadata\n",
    "faiss.write_index(index, \"products.index\")\n",
    "with open(\"products_metadata.json\", \"w\") as f:\n",
    "    json.dump(metadata_store, f, indent=2)\n",
    "\n",
    "print(\"FAISS index and metadata saved.\")\n"
   ]
  },
  {
   "cell_type": "code",
   "execution_count": 7,
   "id": "1b3f3036-4908-49dd-80ca-58941cf3235c",
   "metadata": {},
   "outputs": [
    {
     "name": "stdout",
     "output_type": "stream",
     "text": [
      "\n",
      "Result 1:\n",
      "Title: moto g power 5G - 2024\n",
      "Tags: ['phone', 'Motorola', '5G', 'prepaid', 'promotion', 'out-of-stock']\n",
      "Availability: out_of_stock\n",
      "URL: https://www.straighttalk.com/shop/all-phones\n",
      "Description: The 2024 moto g power 5G may have been offered at a discounted price—possibly reduced from $149.99 to $99.99. Customers with excellent credit might be eligible for monthly payments through Smartpay over a 24-month term. Free availability might apply when bundled with higher-tier plans.\n",
      "Review Summary: There are currently no reviews for this model, suggesting limited customer feedback so far.\n",
      "\n",
      "Result 2:\n",
      "Title: moto g play - 2024\n",
      "Tags: ['phone', 'Motorola', 'prepaid', 'promotion', 'budget', 'out-of-stock']\n",
      "Availability: out_of_stock\n",
      "URL: https://www.straighttalk.com/shop/all-phones\n",
      "Description: This device may have been reduced in price from around $39.99 to $29.99, making it one of the more affordable models. Payment plans might be available depending on credit status. Promotional offers could apply in combination with select monthly plans.\n",
      "Review Summary: This product currently lacks customer reviews, which could indicate it's newly listed or hasn't been widely purchased yet.\n",
      "\n",
      "Result 3:\n",
      "Title: Samsung Galaxy A16 5G\n",
      "Tags: ['phone', 'Samsung', '5G', 'prepaid', 'promotion', 'out-of-stock']\n",
      "Availability: out_of_stock\n",
      "URL: https://www.straighttalk.com/shop/all-phones\n",
      "Description: The Samsung Galaxy A16 5G might be available as a promotional offer with select plans, such as a Gold Unlimited Plan or higher. In some cases, this device has been offered for free when bundled with qualifying plans. The full retail price appears to be approximately $99.99. Pricing through financing options like Smartpay may vary depending on credit.\n",
      "Review Summary: This product currently appears to have no customer reviews. It is likely that further customer feedback could provide more insight into the device's performance and reliability.\n"
     ]
    }
   ],
   "source": [
    "# Load FAISS index and metadata\n",
    "index = faiss.read_index(\"products.index\")\n",
    "with open(\"products_metadata.json\", \"r\") as f:\n",
    "    metadata_store = json.load(f)\n",
    "\n",
    "# Query function\n",
    "def search_products(query: str, top_k: int = 3):\n",
    "    query_embedding = model.encode([query])\n",
    "    D, I = index.search(np.array(query_embedding), top_k)\n",
    "\n",
    "    results = []\n",
    "    for idx in I[0]:\n",
    "        if idx < len(metadata_store):\n",
    "            results.append(metadata_store[idx])\n",
    "    return results\n",
    "\n",
    "# Example query\n",
    "query = \"how can i get moto g for free?\"\n",
    "results = search_products(query)\n",
    "\n",
    "# Display results\n",
    "for i, res in enumerate(results, 1):\n",
    "    print(f\"\\nResult {i}:\")\n",
    "    print(f\"Title: {res['title']}\")\n",
    "    print(f\"Tags: {res['tags']}\")\n",
    "    print(f\"Availability: {res['availability']}\")\n",
    "    print(f\"URL: {res['source_url']}\")\n",
    "    print(f\"Description: {res['description']}\")\n",
    "    print(f\"Review Summary: {res['review_summary']}\")"
   ]
  },
  {
   "cell_type": "code",
   "execution_count": null,
   "id": "89f40914-6762-4988-b244-d1409cc0264b",
   "metadata": {},
   "outputs": [],
   "source": []
  }
 ],
 "metadata": {
  "kernelspec": {
   "display_name": "Python 3 (ipykernel)",
   "language": "python",
   "name": "python3"
  },
  "language_info": {
   "codemirror_mode": {
    "name": "ipython",
    "version": 3
   },
   "file_extension": ".py",
   "mimetype": "text/x-python",
   "name": "python",
   "nbconvert_exporter": "python",
   "pygments_lexer": "ipython3",
   "version": "3.12.7"
  }
 },
 "nbformat": 4,
 "nbformat_minor": 5
}
