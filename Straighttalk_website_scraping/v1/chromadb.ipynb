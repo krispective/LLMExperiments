{
 "cells": [
  {
   "cell_type": "code",
   "execution_count": null,
   "id": "d40590d0-9886-4848-8b1e-2960dd0f9cc0",
   "metadata": {},
   "outputs": [],
   "source": [
    "# pip install chromadb"
   ]
  },
  {
   "cell_type": "code",
   "execution_count": null,
   "id": "8c43daea-1784-4cf7-bf3c-a5081fa458a4",
   "metadata": {},
   "outputs": [],
   "source": [
    "import chromadb\n",
    "from chromadb.config import Settings"
   ]
  },
  {
   "cell_type": "code",
   "execution_count": 2,
   "id": "3bc9c3d1-c5f4-45da-88a9-b0de20216eea",
   "metadata": {},
   "outputs": [],
   "source": [
    "import chromadb\n",
    "chroma_client = chromadb.Client()"
   ]
  },
  {
   "cell_type": "code",
   "execution_count": 3,
   "id": "435372ab-5aff-466c-8762-866aabedaf9e",
   "metadata": {},
   "outputs": [],
   "source": [
    "collection = chroma_client.create_collection(name=\"products\")"
   ]
  },
  {
   "cell_type": "code",
   "execution_count": 1,
   "id": "d5612c97-047e-4b07-978f-6966c2a472d7",
   "metadata": {
    "collapsed": true,
    "jupyter": {
     "outputs_hidden": true
    }
   },
   "outputs": [
    {
     "ename": "ValueError",
     "evalue": "\u001b[91mYou are using a deprecated configuration of Chroma.\n\n\u001b[94mIf you do not have data you wish to migrate, you only need to change how you construct\nyour Chroma client. Please see the \"New Clients\" section of https://docs.trychroma.com/deployment/migration.\n________________________________________________________________________________________________\n\nIf you do have data you wish to migrate, we have a migration tool you can use in order to\nmigrate your data to the new Chroma architecture.\nPlease `pip install chroma-migrate` and run `chroma-migrate` to migrate your data and then\nchange how you construct your Chroma client.\n\nSee https://docs.trychroma.com/deployment/migration for more information or join our discord at https://discord.gg/MMeYNTmh3x for help!\u001b[0m",
     "output_type": "error",
     "traceback": [
      "\u001b[1;31m---------------------------------------------------------------------------\u001b[0m",
      "\u001b[1;31mValueError\u001b[0m                                Traceback (most recent call last)",
      "Cell \u001b[1;32mIn[1], line 5\u001b[0m\n\u001b[0;32m      2\u001b[0m \u001b[38;5;28;01mfrom\u001b[39;00m \u001b[38;5;21;01mchromadb\u001b[39;00m\u001b[38;5;21;01m.\u001b[39;00m\u001b[38;5;21;01mconfig\u001b[39;00m \u001b[38;5;28;01mimport\u001b[39;00m Settings\n\u001b[0;32m      4\u001b[0m \u001b[38;5;66;03m# Initialize a local ChromaDB client\u001b[39;00m\n\u001b[1;32m----> 5\u001b[0m chroma_client \u001b[38;5;241m=\u001b[39m chromadb\u001b[38;5;241m.\u001b[39mClient(Settings(\n\u001b[0;32m      6\u001b[0m     chroma_db_impl\u001b[38;5;241m=\u001b[39m\u001b[38;5;124m\"\u001b[39m\u001b[38;5;124mduckdb+parquet\u001b[39m\u001b[38;5;124m\"\u001b[39m,\n\u001b[0;32m      7\u001b[0m     persist_directory\u001b[38;5;241m=\u001b[39m\u001b[38;5;124m\"\u001b[39m\u001b[38;5;124m./chroma_db\u001b[39m\u001b[38;5;124m\"\u001b[39m  \u001b[38;5;66;03m# Local directory to store the DB\u001b[39;00m\n\u001b[0;32m      8\u001b[0m ))\n\u001b[0;32m     10\u001b[0m \u001b[38;5;66;03m# Create or get a collection\u001b[39;00m\n\u001b[0;32m     11\u001b[0m collection \u001b[38;5;241m=\u001b[39m chroma_client\u001b[38;5;241m.\u001b[39mget_or_create_collection(name\u001b[38;5;241m=\u001b[39m\u001b[38;5;124m\"\u001b[39m\u001b[38;5;124mproducts\u001b[39m\u001b[38;5;124m\"\u001b[39m)\n",
      "File \u001b[1;32m~\\anaconda3\\Lib\\site-packages\\chromadb\\__init__.py:371\u001b[0m, in \u001b[0;36mClient\u001b[1;34m(settings, tenant, database)\u001b[0m\n\u001b[0;32m    368\u001b[0m tenant \u001b[38;5;241m=\u001b[39m \u001b[38;5;28mstr\u001b[39m(tenant)\n\u001b[0;32m    369\u001b[0m database \u001b[38;5;241m=\u001b[39m \u001b[38;5;28mstr\u001b[39m(database)\n\u001b[1;32m--> 371\u001b[0m \u001b[38;5;28;01mreturn\u001b[39;00m ClientCreator(tenant\u001b[38;5;241m=\u001b[39mtenant, database\u001b[38;5;241m=\u001b[39mdatabase, settings\u001b[38;5;241m=\u001b[39msettings)\n",
      "File \u001b[1;32m~\\anaconda3\\Lib\\site-packages\\chromadb\\api\\client.py:61\u001b[0m, in \u001b[0;36mClient.__init__\u001b[1;34m(self, tenant, database, settings)\u001b[0m\n\u001b[0;32m     55\u001b[0m \u001b[38;5;28;01mdef\u001b[39;00m \u001b[38;5;21m__init__\u001b[39m(\n\u001b[0;32m     56\u001b[0m     \u001b[38;5;28mself\u001b[39m,\n\u001b[0;32m     57\u001b[0m     tenant: \u001b[38;5;28mstr\u001b[39m \u001b[38;5;241m=\u001b[39m DEFAULT_TENANT,\n\u001b[0;32m     58\u001b[0m     database: \u001b[38;5;28mstr\u001b[39m \u001b[38;5;241m=\u001b[39m DEFAULT_DATABASE,\n\u001b[0;32m     59\u001b[0m     settings: Settings \u001b[38;5;241m=\u001b[39m Settings(),\n\u001b[0;32m     60\u001b[0m ) \u001b[38;5;241m-\u001b[39m\u001b[38;5;241m>\u001b[39m \u001b[38;5;28;01mNone\u001b[39;00m:\n\u001b[1;32m---> 61\u001b[0m     \u001b[38;5;28msuper\u001b[39m()\u001b[38;5;241m.\u001b[39m\u001b[38;5;21m__init__\u001b[39m(settings\u001b[38;5;241m=\u001b[39msettings)\n\u001b[0;32m     62\u001b[0m     \u001b[38;5;28mself\u001b[39m\u001b[38;5;241m.\u001b[39mtenant \u001b[38;5;241m=\u001b[39m tenant\n\u001b[0;32m     63\u001b[0m     \u001b[38;5;28mself\u001b[39m\u001b[38;5;241m.\u001b[39mdatabase \u001b[38;5;241m=\u001b[39m database\n",
      "File \u001b[1;32m~\\anaconda3\\Lib\\site-packages\\chromadb\\api\\shared_system_client.py:19\u001b[0m, in \u001b[0;36mSharedSystemClient.__init__\u001b[1;34m(self, settings)\u001b[0m\n\u001b[0;32m     14\u001b[0m \u001b[38;5;28;01mdef\u001b[39;00m \u001b[38;5;21m__init__\u001b[39m(\n\u001b[0;32m     15\u001b[0m     \u001b[38;5;28mself\u001b[39m,\n\u001b[0;32m     16\u001b[0m     settings: Settings \u001b[38;5;241m=\u001b[39m Settings(),\n\u001b[0;32m     17\u001b[0m ) \u001b[38;5;241m-\u001b[39m\u001b[38;5;241m>\u001b[39m \u001b[38;5;28;01mNone\u001b[39;00m:\n\u001b[0;32m     18\u001b[0m     \u001b[38;5;28mself\u001b[39m\u001b[38;5;241m.\u001b[39m_identifier \u001b[38;5;241m=\u001b[39m SharedSystemClient\u001b[38;5;241m.\u001b[39m_get_identifier_from_settings(settings)\n\u001b[1;32m---> 19\u001b[0m     SharedSystemClient\u001b[38;5;241m.\u001b[39m_create_system_if_not_exists(\u001b[38;5;28mself\u001b[39m\u001b[38;5;241m.\u001b[39m_identifier, settings)\n",
      "File \u001b[1;32m~\\anaconda3\\Lib\\site-packages\\chromadb\\api\\shared_system_client.py:26\u001b[0m, in \u001b[0;36mSharedSystemClient._create_system_if_not_exists\u001b[1;34m(cls, identifier, settings)\u001b[0m\n\u001b[0;32m     21\u001b[0m \u001b[38;5;129m@classmethod\u001b[39m\n\u001b[0;32m     22\u001b[0m \u001b[38;5;28;01mdef\u001b[39;00m \u001b[38;5;21m_create_system_if_not_exists\u001b[39m(\n\u001b[0;32m     23\u001b[0m     \u001b[38;5;28mcls\u001b[39m, identifier: \u001b[38;5;28mstr\u001b[39m, settings: Settings\n\u001b[0;32m     24\u001b[0m ) \u001b[38;5;241m-\u001b[39m\u001b[38;5;241m>\u001b[39m System:\n\u001b[0;32m     25\u001b[0m     \u001b[38;5;28;01mif\u001b[39;00m identifier \u001b[38;5;129;01mnot\u001b[39;00m \u001b[38;5;129;01min\u001b[39;00m \u001b[38;5;28mcls\u001b[39m\u001b[38;5;241m.\u001b[39m_identifier_to_system:\n\u001b[1;32m---> 26\u001b[0m         new_system \u001b[38;5;241m=\u001b[39m System(settings)\n\u001b[0;32m     27\u001b[0m         \u001b[38;5;28mcls\u001b[39m\u001b[38;5;241m.\u001b[39m_identifier_to_system[identifier] \u001b[38;5;241m=\u001b[39m new_system\n\u001b[0;32m     29\u001b[0m         new_system\u001b[38;5;241m.\u001b[39minstance(ProductTelemetryClient)\n",
      "File \u001b[1;32m~\\anaconda3\\Lib\\site-packages\\chromadb\\config.py:385\u001b[0m, in \u001b[0;36mSystem.__init__\u001b[1;34m(self, settings)\u001b[0m\n\u001b[0;32m    383\u001b[0m \u001b[38;5;66;03m# Validate settings don't contain any legacy config values\u001b[39;00m\n\u001b[0;32m    384\u001b[0m \u001b[38;5;28;01mfor\u001b[39;00m key \u001b[38;5;129;01min\u001b[39;00m _legacy_config_keys:\n\u001b[1;32m--> 385\u001b[0m     \u001b[38;5;28;01mif\u001b[39;00m settings[key] \u001b[38;5;129;01mis\u001b[39;00m \u001b[38;5;129;01mnot\u001b[39;00m \u001b[38;5;28;01mNone\u001b[39;00m:\n\u001b[0;32m    386\u001b[0m         \u001b[38;5;28;01mraise\u001b[39;00m \u001b[38;5;167;01mValueError\u001b[39;00m(LEGACY_ERROR)\n\u001b[0;32m    388\u001b[0m \u001b[38;5;28;01mif\u001b[39;00m (\n\u001b[0;32m    389\u001b[0m     settings[\u001b[38;5;124m\"\u001b[39m\u001b[38;5;124mchroma_segment_cache_policy\u001b[39m\u001b[38;5;124m\"\u001b[39m] \u001b[38;5;129;01mis\u001b[39;00m \u001b[38;5;129;01mnot\u001b[39;00m \u001b[38;5;28;01mNone\u001b[39;00m\n\u001b[0;32m    390\u001b[0m     \u001b[38;5;129;01mand\u001b[39;00m settings[\u001b[38;5;124m\"\u001b[39m\u001b[38;5;124mchroma_segment_cache_policy\u001b[39m\u001b[38;5;124m\"\u001b[39m] \u001b[38;5;241m!=\u001b[39m \u001b[38;5;124m\"\u001b[39m\u001b[38;5;124mLRU\u001b[39m\u001b[38;5;124m\"\u001b[39m\n\u001b[0;32m    391\u001b[0m ):\n",
      "File \u001b[1;32m~\\anaconda3\\Lib\\site-packages\\chromadb\\config.py:319\u001b[0m, in \u001b[0;36mSettings.__getitem__\u001b[1;34m(self, key)\u001b[0m\n\u001b[0;32m    317\u001b[0m \u001b[38;5;66;03m# Error on legacy config values\u001b[39;00m\n\u001b[0;32m    318\u001b[0m \u001b[38;5;28;01mif\u001b[39;00m \u001b[38;5;28misinstance\u001b[39m(val, \u001b[38;5;28mstr\u001b[39m) \u001b[38;5;129;01mand\u001b[39;00m val \u001b[38;5;129;01min\u001b[39;00m _legacy_config_values:\n\u001b[1;32m--> 319\u001b[0m     \u001b[38;5;28;01mraise\u001b[39;00m \u001b[38;5;167;01mValueError\u001b[39;00m(LEGACY_ERROR)\n\u001b[0;32m    320\u001b[0m \u001b[38;5;28;01mreturn\u001b[39;00m val\n",
      "\u001b[1;31mValueError\u001b[0m: \u001b[91mYou are using a deprecated configuration of Chroma.\n\n\u001b[94mIf you do not have data you wish to migrate, you only need to change how you construct\nyour Chroma client. Please see the \"New Clients\" section of https://docs.trychroma.com/deployment/migration.\n________________________________________________________________________________________________\n\nIf you do have data you wish to migrate, we have a migration tool you can use in order to\nmigrate your data to the new Chroma architecture.\nPlease `pip install chroma-migrate` and run `chroma-migrate` to migrate your data and then\nchange how you construct your Chroma client.\n\nSee https://docs.trychroma.com/deployment/migration for more information or join our discord at https://discord.gg/MMeYNTmh3x for help!\u001b[0m"
     ]
    }
   ],
   "source": [
    "\n",
    "\n",
    "# # Initialize a local ChromaDB client\n",
    "# chroma_client = chromadb.Client(Settings(\n",
    "#     chroma_db_impl=\"duckdb+parquet\",\n",
    "#     persist_directory=\"./chroma_db\"  # Local directory to store the DB\n",
    "# ))\n",
    "\n"
   ]
  },
  {
   "cell_type": "code",
   "execution_count": 4,
   "id": "2ba7cdfd-7a96-4e6f-b528-bbe14d785139",
   "metadata": {},
   "outputs": [],
   "source": [
    "\n",
    "# Sample JSON input\n",
    "data = [\n",
    "    {\n",
    "        \"title\": \"Samsung Galaxy A16 5G\",\n",
    "        \"tags\": [\"phone\", \"Samsung\", \"5G\", \"prepaid\", \"promotion\", \"out-of-stock\"],\n",
    "        \"content_type\": \"product_listing\",\n",
    "        \"source_url\": \"https://www.straighttalk.com/shop/all-phones\",\n",
    "        \"availability\": \"out_of_stock\",\n",
    "        \"description\": \"The Samsung Galaxy A16 5G might be available as a promotional offer with select plans, such as a Gold Unlimited Plan or higher. In some cases, this device has been offered for free when bundled with qualifying plans. The full retail price appears to be approximately $99.99. Pricing through financing options like Smartpay may vary depending on credit.\",\n",
    "        \"review_summary\": \"This product currently appears to have no customer reviews. It is likely that further customer feedback could provide more insight into the device's performance and reliability.\"\n",
    "    },\n",
    "    {\n",
    "        \"title\": \"moto g power 5G - 2024\",\n",
    "        \"tags\": [\"phone\", \"Motorola\", \"5G\", \"prepaid\", \"promotion\", \"out-of-stock\"],\n",
    "        \"content_type\": \"product_listing\",\n",
    "        \"source_url\": \"https://www.straighttalk.com/shop/all-phones\",\n",
    "        \"availability\": \"out_of_stock\",\n",
    "        \"description\": \"The 2024 moto g power 5G may have been offered at a discounted price—possibly reduced from $149.99 to $99.99. Customers with excellent credit might be eligible for monthly payments through Smartpay over a 24-month term. Free availability might apply when bundled with higher-tier plans.\",\n",
    "        \"review_summary\": \"There are currently no reviews for this model, suggesting limited customer feedback so far.\"\n",
    "    },\n",
    "    {\n",
    "        \"title\": \"moto g play - 2024\",\n",
    "        \"tags\": [\"phone\", \"Motorola\", \"prepaid\", \"promotion\", \"budget\", \"out-of-stock\"],\n",
    "        \"content_type\": \"product_listing\",\n",
    "        \"source_url\": \"https://www.straighttalk.com/shop/all-phones\",\n",
    "        \"availability\": \"out_of_stock\",\n",
    "        \"description\": \"This device may have been reduced in price from around $39.99 to $29.99, making it one of the more affordable models. Payment plans might be available depending on credit status. Promotional offers could apply in combination with select monthly plans.\",\n",
    "        \"review_summary\": \"This product currently lacks customer reviews, which could indicate it's newly listed or hasn't been widely purchased yet.\"\n",
    "    }\n",
    "]\n"
   ]
  },
  {
   "cell_type": "code",
   "execution_count": 7,
   "id": "d690baa9-aba3-445b-bd11-d72d2ca068de",
   "metadata": {},
   "outputs": [],
   "source": [
    "\n",
    "# Add documents to the collection\n",
    "for idx, item in enumerate(data):\n",
    "    content = f\"{item['title']}\\n{item['description']}\\n{item['review_summary']}\"\n",
    "    metadata = {\n",
    "        \"tags\": str(item[\"tags\"]),\n",
    "        \"content_type\": str(item[\"content_type\"]),\n",
    "        \"source_url\": str(item[\"source_url\"]),\n",
    "        \"availability\": str(item[\"availability\"])\n",
    "    }\n",
    "    collection.add(\n",
    "        documents=[content],\n",
    "        metadatas=[metadata],\n",
    "        ids=[f\"product_{idx}\"]\n",
    "    )\n",
    "\n",
    "# Persist the DB to disk\n",
    "# chroma_client.persist()\n",
    "\n",
    "# print(\"Data successfully added to local ChromaDB.\")"
   ]
  },
  {
   "cell_type": "code",
   "execution_count": 11,
   "id": "3b69f115-48f1-425f-9320-b7fc0b888815",
   "metadata": {},
   "outputs": [
    {
     "name": "stdout",
     "output_type": "stream",
     "text": [
      "{'ids': [['product_2', 'product_1']], 'embeddings': None, 'documents': [[\"moto g play - 2024\\nThis device may have been reduced in price from around $39.99 to $29.99, making it one of the more affordable models. Payment plans might be available depending on credit status. Promotional offers could apply in combination with select monthly plans.\\nThis product currently lacks customer reviews, which could indicate it's newly listed or hasn't been widely purchased yet.\", 'moto g power 5G - 2024\\nThe 2024 moto g power 5G may have been offered at a discounted price—possibly reduced from $149.99 to $99.99. Customers with excellent credit might be eligible for monthly payments through Smartpay over a 24-month term. Free availability might apply when bundled with higher-tier plans.\\nThere are currently no reviews for this model, suggesting limited customer feedback so far.']], 'uris': None, 'included': ['metadatas', 'documents', 'distances'], 'data': None, 'metadatas': [[{'source_url': 'https://www.straighttalk.com/shop/all-phones', 'content_type': 'product_listing', 'availability': 'out_of_stock', 'tags': \"['phone', 'Motorola', 'prepaid', 'promotion', 'budget', 'out-of-stock']\"}, {'availability': 'out_of_stock', 'content_type': 'product_listing', 'source_url': 'https://www.straighttalk.com/shop/all-phones', 'tags': \"['phone', 'Motorola', '5G', 'prepaid', 'promotion', 'out-of-stock']\"}]], 'distances': [[0.5343108773231506, 0.7738238573074341]]}\n"
     ]
    }
   ],
   "source": [
    "results = collection.query(\n",
    "    query_texts=[\"how can i get moto g for free?\"], # Chroma will embed this for you\n",
    "    n_results=2 # how many results to return\n",
    ")\n",
    "\n",
    "print(results)"
   ]
  },
  {
   "cell_type": "code",
   "execution_count": null,
   "id": "a8750de1-1861-4299-ad07-b885f181f5de",
   "metadata": {},
   "outputs": [],
   "source": []
  }
 ],
 "metadata": {
  "kernelspec": {
   "display_name": "Python 3 (ipykernel)",
   "language": "python",
   "name": "python3"
  },
  "language_info": {
   "codemirror_mode": {
    "name": "ipython",
    "version": 3
   },
   "file_extension": ".py",
   "mimetype": "text/x-python",
   "name": "python",
   "nbconvert_exporter": "python",
   "pygments_lexer": "ipython3",
   "version": "3.12.7"
  }
 },
 "nbformat": 4,
 "nbformat_minor": 5
}
