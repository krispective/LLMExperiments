{
 "cells": [
  {
   "cell_type": "code",
   "execution_count": 16,
   "id": "034ab1c8-9342-489e-b506-931e8acd3b43",
   "metadata": {},
   "outputs": [],
   "source": [
    "import langgraph\n",
    "from langgraph.graph import StateGraph\n",
    "from typing import Dict, TypedDict\n",
    "from langgraph.graph import Graph, START, END\n",
    "from typing import Literal"
   ]
  },
  {
   "cell_type": "code",
   "execution_count": 40,
   "id": "c743eebb-7a47-4ecc-8a1f-c7dd569913af",
   "metadata": {},
   "outputs": [],
   "source": [
    "# Define the state schema\n",
    "class ChatState(TypedDict, total=False):\n",
    "    input: str\n",
    "    response: str\n",
    "    guardrails_response: str\n",
    "    evaluation: str\n",
    "\n",
    "def guardrails_check(state: ChatState) -> ChatState:\n",
    "    \"\"\"Checks if the input string passes the guardrails.\"\"\"\n",
    "    user_input = state[\"input\"]\n",
    "    if \"steal\" in user_input.lower():  # Simple example check\n",
    "        state['guardrails_response'] = \"failed\"\n",
    "        state['response'] = \"I'm sorry, but I cannot process this request.\"\n",
    "    return state  # Pass to next node\n",
    "\n",
    "def agent_actions(state: ChatState) -> ChatState:\n",
    "    \"\"\"Simulates agent processing the input.\"\"\"\n",
    "    user_input = state[\"input\"]\n",
    "    response = f\"Processed response to: {user_input}, the plan platinum unlimited is the best one month plan with highest features and capabilities.\"\n",
    "    state[\"response\"] = response\n",
    "    return state\n",
    "\n",
    "def evaluator(state: ChatState) -> ChatState:\n",
    "    \"\"\"Evaluates if the agent's response is satisfactory.\"\"\"\n",
    "    response = state.get(\"response\", \"\")  # Avoid KeyError\n",
    "    if \"platinum unlimited\" in response.lower():\n",
    "        state[\"evaluation\"] = \"Response seems appropriate.\"\n",
    "    else:\n",
    "        state[\"evaluation\"] = \"Response may not be relevant.\"\n",
    "    return state"
   ]
  },
  {
   "cell_type": "code",
   "execution_count": 41,
   "id": "43dec655-eee1-4054-b6bb-cbecbe8eaa5d",
   "metadata": {},
   "outputs": [],
   "source": [
    "# Define the LangGraph workflow\n",
    "graph = StateGraph(ChatState)\n",
    "\n",
    "graph.add_node(\"guardrails\", guardrails_check)\n",
    "graph.add_node(\"agent\", agent_actions)\n",
    "graph.add_node(\"evaluator\", evaluator)\n",
    "graph.add_node(\"END\", lambda state: state)  # Terminal node\n",
    "\n",
    "def guardrails_to_agent(state: ChatState) -> Literal[\"END\", \"agent\"]:\n",
    "    return \"agent\" if state.get('guardrails_response') != \"failed\" else \"END\"\n",
    "\n",
    "graph.add_conditional_edges(\"guardrails\", guardrails_to_agent)\n",
    "graph.add_edge(\"agent\", \"evaluator\")\n",
    "graph.add_edge(\"evaluator\", \"END\")\n",
    "\n",
    "graph.set_entry_point(\"guardrails\")\n",
    "workflow = graph.compile()\n"
   ]
  },
  {
   "cell_type": "code",
   "execution_count": 42,
   "id": "b6894953-f785-454a-acfc-3f98f987ed20",
   "metadata": {},
   "outputs": [],
   "source": [
    "# Visualize your graph\n",
    "from IPython.display import Image, display\n",
    "png = workflow.get_graph().draw_mermaid_png()"
   ]
  },
  {
   "cell_type": "code",
   "execution_count": 43,
   "id": "2f28f518-2506-430b-9c7a-21c105524d77",
   "metadata": {},
   "outputs": [
    {
     "data": {
      "image/png": "[encoded data removed]",
      "text/plain": [
       "<IPython.core.display.Image object>"
      ]
     },
     "metadata": {},
     "output_type": "display_data"
    }
   ],
   "source": [
    "display(Image(png))"
   ]
  },
  {
   "cell_type": "code",
   "execution_count": 44,
   "id": "d96dec6f-a8ac-414d-86ac-87ef3e2bb907",
   "metadata": {},
   "outputs": [
    {
     "name": "stdout",
     "output_type": "stream",
     "text": [
      "{'input': 'How to steal from a bank?', 'response': \"I'm sorry, but I cannot process this request.\", 'guardrails_response': 'failed'}\n"
     ]
    }
   ],
   "source": [
    "# Example usage\n",
    "example_input = {\"input\": \"How to steal from a bank?\"}\n",
    "result = workflow.invoke(example_input)\n",
    "print(result)"
   ]
  },
  {
   "cell_type": "code",
   "execution_count": 45,
   "id": "f1cd803a-bf57-4512-ae86-ee7fdeb6fae4",
   "metadata": {},
   "outputs": [
    {
     "name": "stdout",
     "output_type": "stream",
     "text": [
      "{'input': 'Which plan has highest features and capabilities among one month plan?', 'response': 'Processed response to: Which plan has highest features and capabilities among one month plan?, the plan platinum unlimited is the best one month plan with highest features and capabilities.', 'evaluation': 'Response seems appropriate.'}\n"
     ]
    }
   ],
   "source": [
    "# Example usage\n",
    "example_input = {\"input\": \"Which plan has highest features and capabilities among one month plan?\"}\n",
    "result = workflow.invoke(example_input)\n",
    "print(result)"
   ]
  },
  {
   "cell_type": "code",
   "execution_count": null,
   "id": "ea929ecb-ea93-45dc-8dfd-05261658b15d",
   "metadata": {},
   "outputs": [],
   "source": []
  }
 ],
 "metadata": {
  "kernelspec": {
   "display_name": "Python 3 (ipykernel)",
   "language": "python",
   "name": "python3"
  },
  "language_info": {
   "codemirror_mode": {
    "name": "ipython",
    "version": 3
   },
   "file_extension": ".py",
   "mimetype": "text/x-python",
   "name": "python",
   "nbconvert_exporter": "python",
   "pygments_lexer": "ipython3",
   "version": "3.12.7"
  }
 },
 "nbformat": 4,
 "nbformat_minor": 5
}
