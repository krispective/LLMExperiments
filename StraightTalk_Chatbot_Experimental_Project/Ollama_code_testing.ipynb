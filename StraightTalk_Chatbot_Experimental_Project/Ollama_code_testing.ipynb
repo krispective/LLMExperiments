{
 "cells": [
  {
   "cell_type": "code",
   "execution_count": 1,
   "id": "af2b5645-653b-434d-bb7d-c1ebaf46ea6e",
   "metadata": {},
   "outputs": [],
   "source": [
    "from langchain_core.prompts import ChatPromptTemplate\n",
    "from langchain_core.output_parsers import StrOutputParser\n",
    "from langchain_community.llms import Ollama"
   ]
  },
  {
   "cell_type": "markdown",
   "id": "e94bfd8a-abc1-44a1-a2be-9f1a0d6ad525",
   "metadata": {},
   "source": [
    "## Wireless one month plan context from text file"
   ]
  },
  {
   "cell_type": "code",
   "execution_count": 2,
   "id": "a8f4b23d-6f50-4a9f-8760-a8b6a47791f6",
   "metadata": {
    "scrolled": true
   },
   "outputs": [
    {
     "name": "stdout",
     "output_type": "stream",
     "text": [
      "Straight Talk Wireless Mobile Plans\n",
      "\n",
      "Platinum Unlimited (1-Month)\n",
      "Price: $65.00/month\n",
      "Data Limit: Unlimited\n",
      "5G Speed: 35-143 Mbps (Download) / 5-31 Mbps (Upload)\n",
      "4G LTE Speed: 11-75 Mbps (Download) / 1-13 Mbps (Upload)\n",
      "Latency: 42-64 ms (5G) / 49-75 ms (4G LTE)\n",
      "Additional Data Charges: $0.00\n",
      "\n",
      "Gold Unlimited (1-Month)\n",
      "Price: $55.00/month\n",
      "Data Limit: Unlimited\n",
      "5G Speed: 35-143 Mbps (Download) / 5-31 Mbps (Upload)\n",
      "4G LTE Speed: 11-75 Mbps (Download) / 1-13 Mbps (Upload)\n",
      "Latency: 42-64 ms (5G) / 49-75 ms (4G LTE)\n",
      "Additional Data Charges: $0.00\n",
      "\n",
      "Silver Unlimited (1-Month)\n",
      "Price: $45.00/month\n",
      "Data Limit: Unlimited\n",
      "5G Speed: 34-149 Mbps (Download) / 6-37 Mbps (Upload)\n",
      "4G LTE Speed: 9-69 Mbps (Download) / 1-13 Mbps (Upload)\n",
      "Latency: 42-63 ms (5G) / 51-82 ms (4G LTE)\n",
      "Additional Data Charges: $0.00\n",
      "\n",
      "Bronze 10 GB (1-Month)\n",
      "Price: $35.00/month\n",
      "Data Limit: 10 GB\n",
      "5G Speed: 34-149 Mbps (Download) / 6-37 Mbps (Upload)\n",
      "4G LTE Speed: 9-69 Mbps (Download) / 1-13 Mbps (Upload)\n",
      "Latency: 42-63 ms (5G) / 51-82 ms (4G LTE)\n",
      "Additional Data Charges: $0.00\n",
      "\n",
      "Unlimited (3-Month Plan)\n",
      "Price: $40.00/month ($120 total for 3 months)\n",
      "Data Limit: Unlimited\n",
      "5G Speed: 34-149 Mbps (Download) / 6-37 Mbps (Upload)\n",
      "4G LTE Speed: 9-69 Mbps (Download) / 1-13 Mbps (Upload)\n",
      "Latency: 42-63 ms (5G) / 51-82 ms (4G LTE)\n",
      "Additional Data Charges: $0.00\n",
      "\n",
      "Unlimited (6-Month Plan)\n",
      "Price: $35.00/month ($210 total for 6 months)\n",
      "Data Limit: Unlimited\n",
      "5G Speed: 34-149 Mbps (Download) / 6-37 Mbps (Upload)\n",
      "4G LTE Speed: 9-69 Mbps (Download) / 1-13 Mbps (Upload)\n",
      "Latency: 42-63 ms (5G) / 51-82 ms (4G LTE)\n",
      "Additional Data Charges: $0.00\n",
      "\n",
      "Unlimited (1-Year Plan)\n",
      "Price: $30.00/month ($360 total for 12 months)\n",
      "Data Limit: Unlimited\n",
      "5G Speed: 34-149 Mbps (Download) / 6-37 Mbps (Upload)\n",
      "4G LTE Speed: 9-69 Mbps (Download) / 1-13 Mbps (Upload)\n",
      "Latency: 42-63 ms (5G) / 51-82 ms (4G LTE)\n",
      "Additional Data Charges: $0.00\n",
      "\n",
      "General Details\n",
      "Provider: Straight Talk Wireless\n",
      "Plan Type: Mobile Broadband Consumer Disclosure\n",
      "Contract Requirement: No contract required\n",
      "Activation Fee: $0.00\n",
      "Additional Data Charges: $0.00\n",
      "Network Management Policy: Verizon Network Management\n",
      "Privacy Policy: TracFone Wireless Privacy Policy\n",
      "Phone: 1-877-430-2355\n",
      "Email & Support Page: Straight Talk Support\n",
      "FCC Consumer Resource: FCC Website\n",
      "The key differences among the plans are pricing, data limits (some are unlimited, some are capped), and prepayment duration (monthly, 3-month, 6-month, or 1-year plans).\n",
      "\n"
     ]
    }
   ],
   "source": [
    "file_wireless_one_month_plan_details_context = open(\"wireless_mobile_phone_plans.txt\", \"r\")\n",
    "string_wireless_one_month_plan_details_context = file_wireless_one_month_plan_details_context.read()\n",
    "print(string_wireless_one_month_plan_details_context)"
   ]
  },
  {
   "cell_type": "code",
   "execution_count": 3,
   "id": "62a8935c-d96c-404c-9bff-075cd9a76bc1",
   "metadata": {},
   "outputs": [
    {
     "name": "stderr",
     "output_type": "stream",
     "text": [
      "C:\\Users\\krish\\AppData\\Local\\Temp\\ipykernel_6364\\1346855147.py:1: LangChainDeprecationWarning: The class `Ollama` was deprecated in LangChain 0.3.1 and will be removed in 1.0.0. An updated version of the class exists in the :class:`~langchain-ollama package and should be used instead. To use it run `pip install -U :class:`~langchain-ollama` and import as `from :class:`~langchain_ollama import OllamaLLM``.\n",
      "  llm=Ollama(model='llama3.2:3b')\n"
     ]
    }
   ],
   "source": [
    "llm=Ollama(model='llama3.2:3b')"
   ]
  },
  {
   "cell_type": "code",
   "execution_count": 4,
   "id": "06ca38d1-066a-45ef-bf1d-6b3c103136b6",
   "metadata": {},
   "outputs": [
    {
     "name": "stdout",
     "output_type": "stream",
     "text": [
      "Hello! I'm happy to help you find the best one-month plan from Straight Talk Wireless. \n",
      "\n",
      "To do that, let's first consider what matters most to you:\n",
      "\n",
      "* Price: Are you looking for a budget-friendly option?\n",
      "* Data Limit: Do you need an unlimited data plan or are you okay with a capped data limit?\n",
      "* Speed and Latency: Is 5G speed important to you?\n",
      "\n",
      "Considering the options provided, here are some suggestions based on your priorities:\n",
      "\n",
      "1. **Budget-Friendly Option**: Bronze 10 GB plan at $35.00/month for a limited amount of data (10 GB) or \n",
      "2. **Unlimited Data Plan**: If you need unlimited data and don't mind a slightly higher price, the Gold Unlimited ($55.00) or Platinum Unlimited ($65.00) plans might be suitable.\n",
      "\n",
      "Since I do not have any specific preference as per your query, Please let me know if you'd like to ask further questions about these options!\n"
     ]
    }
   ],
   "source": [
    "user_question = \"Tell me the best one month plan\"\n",
    "system_prompt = \"\"\"You are an AI assistant expert at domain straighttalk.com. Your task is to peform tasks \n",
    "from users and provide responses courteouly\"\"\"\n",
    "\n",
    "prompt = ChatPromptTemplate.from_messages([\n",
    "    (\"system\",system_prompt),\n",
    "    (\"user\",\"Question:{question} and for context you have this {context}\")\n",
    "])\n",
    "\n",
    "chain=prompt|llm\n",
    "response = chain.invoke({\"question\":user_question,\"context\":string_wireless_one_month_plan_details_context})\n",
    "print(response)"
   ]
  },
  {
   "cell_type": "code",
   "execution_count": null,
   "id": "f4f87a62-6f2d-4504-a880-c5b88d936d82",
   "metadata": {},
   "outputs": [],
   "source": [
    "You are an AI agent responsible for selecting the most appropriate tools based on given descriptions. \n",
    "Analyze the descriptions carefully and determine which tools best match the requirements. Provide your response in the following format:\n",
    "<output_format>\n",
    "{\n",
    "\"reasoning\": \"Explain why the selected tools are the best fit for the given descriptions.',\n",
    "\"toolsselected\": [\"tool_name1\", \"tool_name2\"]\n",
    "}\n",
    "</output_format>\n",
    "Ensure that your reasoning is clear, concise, and directly related to the descriptions provided."
   ]
  },
  {
   "cell_type": "code",
   "execution_count": 5,
   "id": "4b606d93-3b44-4c85-b4dd-cd81b00a93f3",
   "metadata": {},
   "outputs": [
    {
     "ename": "SyntaxError",
     "evalue": "invalid syntax (<unknown>, line 0)",
     "output_type": "error",
     "traceback": [
      "Traceback \u001b[1;36m(most recent call last)\u001b[0m:\n",
      "\u001b[0m  File \u001b[0;32m~\\anaconda3\\Lib\\site-packages\\IPython\\core\\interactiveshell.py:3577\u001b[0m in \u001b[0;35mrun_code\u001b[0m\n    exec(code_obj, self.user_global_ns, self.user_ns)\u001b[0m\n",
      "\u001b[0m  Cell \u001b[0;32mIn[5], line 32\u001b[0m\n    parsed_result = parse_tools_output(raw_output)\u001b[0m\n",
      "\u001b[0m  Cell \u001b[0;32mIn[5], line 21\u001b[0m in \u001b[0;35mparse_tools_output\u001b[0m\n    tools_list = ast.literal_eval(tools_substr)\u001b[0m\n",
      "\u001b[0m  File \u001b[0;32m~\\anaconda3\\Lib\\ast.py:66\u001b[0m in \u001b[0;35mliteral_eval\u001b[0m\n    node_or_string = parse(node_or_string.lstrip(\" \\t\"), mode='eval')\u001b[0m\n",
      "\u001b[1;36m  File \u001b[1;32m~\\anaconda3\\Lib\\ast.py:52\u001b[1;36m in \u001b[1;35mparse\u001b[1;36m\n\u001b[1;33m    return compile(source, filename, mode, flags,\u001b[1;36m\n",
      "\u001b[1;36m  File \u001b[1;32m<unknown>\u001b[1;36m\u001b[0m\n\u001b[1;33m    \u001b[0m\n\u001b[1;37m    ^\u001b[0m\n\u001b[1;31mSyntaxError\u001b[0m\u001b[1;31m:\u001b[0m invalid syntax\n"
     ]
    }
   ],
   "source": [
    "from pydantic import BaseModel, Field\n",
    "import json\n",
    "import ast\n",
    "\n",
    "class ParsedOutput(BaseModel):\n",
    "    tools: list[str] = Field(..., description=\"List of tools extracted from the raw output\")\n",
    "    reasoning: str = Field(..., description=\"Extracted reasoning explaining the selection of tools\")\n",
    "\n",
    "\n",
    "def parse_tools_output(raw_tools: list[str]) -> dict:\n",
    "    tools_str = \" \".join(raw_tools)\n",
    "    \n",
    "    # Extract the tools part\n",
    "    tools_start = tools_str.find('{\"tools\"}')\n",
    "    reasoning_start = tools_str.find('{\"reasoning\"}')\n",
    "    \n",
    "    tools_substr = tools_str[tools_start:reasoning_start].strip().replace('{\"tools\"}: ', '')\n",
    "    reasoning_substr = tools_str[reasoning_start:].strip().replace('{\"reasoning\"}: ', '')\n",
    "    \n",
    "    # Convert tools to a Python list\n",
    "    tools_list = ast.literal_eval(tools_substr)\n",
    "    \n",
    "    # Clean reasoning string\n",
    "    reasoning_cleaned = reasoning_substr.replace('\\n', ' ').strip()\n",
    "    \n",
    "    parsed_data = ParsedOutput(tools=tools_list, reasoning=reasoning_cleaned)\n",
    "    return parsed_data.model_dump()\n",
    "\n",
    "\n",
    "raw_output = \n",
    "\n",
    "parsed_result = parse_tools_output(raw_output)\n",
    "\n",
    "# Print as JSON\n",
    "print(json.dumps(parsed_result, indent=4))"
   ]
  },
  {
   "cell_type": "code",
   "execution_count": 6,
   "id": "9c8bf82d-c040-4945-afd5-6038a11e1ed9",
   "metadata": {},
   "outputs": [
    {
     "name": "stdout",
     "output_type": "stream",
     "text": [
      "''{\"tools\"}': [\"OneMonthPlanChecker\"', '\"InternationalPlanChecker\"]\n",
      "                    \n",
      "'{\"reasoning\"}': \"Since the user is currently on a Platinum Unlimited plan and wants to upgrade to a plan with international capabilities', 'we need to select tools that can help in checking both one-month wireless plans and international plans. The OneMonthPlanChecker can provide more context if the specific plan name is mentioned by the user. Additionally', 'the InternationalPlanChecker is essential for checking details of international plans that have global coverage. Therefore', 'using both tools together will ensure that the user gets a comprehensive view of available plans with international capabilities.\n"
     ]
    }
   ],
   "source": [
    "raw_output = \"\"\"'\\'{\"tools\"}\\': [\"OneMonthPlanChecker\"', '\"InternationalPlanChecker\"]\\n                    \\n\\'{\"reasoning\"}\\': \"Since the user is currently on a Platinum Unlimited plan and wants to upgrade to a plan with international capabilities', 'we need to select tools that can help in checking both one-month wireless plans and international plans. The OneMonthPlanChecker can provide more context if the specific plan name is mentioned by the user. Additionally', 'the InternationalPlanChecker is essential for checking details of international plans that have global coverage. Therefore', 'using both tools together will ensure that the user gets a comprehensive view of available plans with international capabilities.\"\"\"\n",
    "print(raw_output)"
   ]
  },
  {
   "cell_type": "code",
   "execution_count": 11,
   "id": "1c432cb3-291b-4470-9ded-394a769b2963",
   "metadata": {},
   "outputs": [
    {
     "name": "stdout",
     "output_type": "stream",
     "text": [
      "Tools :  ''{\"tools\"}': [\"OneMonthPlanChecker\"', '\"InternationalPlanChecker\"]\n",
      "Reasoning :                      \n"
     ]
    }
   ],
   "source": [
    "raw = raw_output.split('\\n')\n",
    "print(\"Tools : \",raw[0])\n",
    "print(\"Reasoning : \",raw[1])"
   ]
  },
  {
   "cell_type": "code",
   "execution_count": 12,
   "id": "13f0d7ad-eab0-44b5-bcca-f7d2bbf957d9",
   "metadata": {},
   "outputs": [
    {
     "data": {
      "text/plain": [
       "['\\'\\'{\"tools\"}\\': [\"OneMonthPlanChecker\"\\', \\'\"InternationalPlanChecker\"]',\n",
       " '                    ',\n",
       " '\\'{\"reasoning\"}\\': \"Since the user is currently on a Platinum Unlimited plan and wants to upgrade to a plan with international capabilities\\', \\'we need to select tools that can help in checking both one-month wireless plans and international plans. The OneMonthPlanChecker can provide more context if the specific plan name is mentioned by the user. Additionally\\', \\'the InternationalPlanChecker is essential for checking details of international plans that have global coverage. Therefore\\', \\'using both tools together will ensure that the user gets a comprehensive view of available plans with international capabilities.']"
      ]
     },
     "execution_count": 12,
     "metadata": {},
     "output_type": "execute_result"
    }
   ],
   "source": [
    "raw_output.split('\\n')"
   ]
  },
  {
   "cell_type": "code",
   "execution_count": 13,
   "id": "ad529614-1d36-4120-992f-87209d3e88df",
   "metadata": {},
   "outputs": [],
   "source": [
    "raw_output = "
   ]
  },
  {
   "cell_type": "code",
   "execution_count": 15,
   "id": "15ae1476-5bf9-4d44-a4f6-d991c181a9d7",
   "metadata": {},
   "outputs": [
    {
     "data": {
      "text/plain": [
       "'The OneMonthPlanChecker is selected because it provides general information about one-month wireless plans, which can include international capabilities. The InternationalPlanChecker is also selected as it specifically checks for plans with international capabilities, ensuring that the user gets accurate and relevant results.'"
      ]
     },
     "execution_count": 15,
     "metadata": {},
     "output_type": "execute_result"
    }
   ],
   "source": [
    "raw_output[\"tools\"]\n",
    "raw_output[\"reasoning\"]"
   ]
  },
  {
   "cell_type": "code",
   "execution_count": 18,
   "id": "95bc3715-477a-44e5-b8b4-7eef463bb911",
   "metadata": {},
   "outputs": [],
   "source": [
    "r = \"\"\"{\"tools\": [\"OneMonthPlanChecker\", \"InternationalPlanChecker\"], \"reasoning\": \"The OneMonthPlanChecker is selected because it provides general information about one-month wireless plans, which can include international capabilities. The InternationalPlanChecker is also selected as it specifically checks for plans with international capabilities, ensuring that the user gets accurate and relevant results.\"}\"\"\""
   ]
  },
  {
   "cell_type": "code",
   "execution_count": 19,
   "id": "933ebe61-054d-4e3c-94b6-482ee3df6e2b",
   "metadata": {},
   "outputs": [
    {
     "data": {
      "text/plain": [
       "{'tools': ['OneMonthPlanChecker', 'InternationalPlanChecker'],\n",
       " 'reasoning': 'The OneMonthPlanChecker is selected because it provides general information about one-month wireless plans, which can include international capabilities. The InternationalPlanChecker is also selected as it specifically checks for plans with international capabilities, ensuring that the user gets accurate and relevant results.'}"
      ]
     },
     "execution_count": 19,
     "metadata": {},
     "output_type": "execute_result"
    }
   ],
   "source": [
    "json.loads(r)"
   ]
  },
  {
   "cell_type": "code",
   "execution_count": 22,
   "id": "d9c99ad6-872c-4a5a-90b0-34f0cbb7ff9a",
   "metadata": {},
   "outputs": [],
   "source": [
    "response =  \"\"\"{\"tools\": [\"OneMonthPlanChecker\", \"InternationalPlanChecker\"], \n",
    "\"reasoning\": \"The user is looking to upgrade to a plan with international capabilities, indicating they need to check details of plans that include international features. First, using OneMonthPlanChecker will provide more context about the specific one-month wireless plans available on the platinum unlimited plan. This tool can then be used in conjunction with InternationalPlanChecker to determine which one-month plan has international capabilities. By checking both tools' outputs, we can identify a suitable plan that meets the user's needs and includes international features.\"}\"\"\""
   ]
  },
  {
   "cell_type": "code",
   "execution_count": 24,
   "id": "bbede29e-2eb6-4d6b-acae-59a9cce70a5a",
   "metadata": {},
   "outputs": [
    {
     "data": {
      "text/plain": [
       "{'tools': ['OneMonthPlanChecker', 'InternationalPlanChecker'],\n",
       " 'reasoning': \"The user is looking to upgrade to a plan with international capabilities, indicating they need to check details of plans that include international features. First, using OneMonthPlanChecker will provide more context about the specific one-month wireless plans available on the platinum unlimited plan. This tool can then be used in conjunction with InternationalPlanChecker to determine which one-month plan has international capabilities. By checking both tools' outputs, we can identify a suitable plan that meets the user's needs and includes international features.\"}"
      ]
     },
     "execution_count": 24,
     "metadata": {},
     "output_type": "execute_result"
    }
   ],
   "source": [
    "json_response = json.loads(f\"\"\"{response}\"\"\")\n",
    "json_response"
   ]
  },
  {
   "cell_type": "code",
   "execution_count": null,
   "id": "198c1288-2f6e-42d3-954e-0f132392a2fd",
   "metadata": {},
   "outputs": [],
   "source": []
  }
 ],
 "metadata": {
  "kernelspec": {
   "display_name": "Python 3 (ipykernel)",
   "language": "python",
   "name": "python3"
  },
  "language_info": {
   "codemirror_mode": {
    "name": "ipython",
    "version": 3
   },
   "file_extension": ".py",
   "mimetype": "text/x-python",
   "name": "python",
   "nbconvert_exporter": "python",
   "pygments_lexer": "ipython3",
   "version": "3.12.7"
  }
 },
 "nbformat": 4,
 "nbformat_minor": 5
}
